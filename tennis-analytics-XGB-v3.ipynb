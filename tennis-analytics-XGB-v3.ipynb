{
 "cells": [
  {
   "cell_type": "code",
   "execution_count": 1,
   "id": "1a6ba069",
   "metadata": {},
   "outputs": [],
   "source": [
    "import pandas as pd\n",
    "import numpy as np\n",
    "import seaborn as sns\n",
    "import matplotlib.pyplot as plt\n",
    "pd.options.display.max_columns = 50\n",
    "pd.options.display.max_rows = 100\n",
    "import matplotlib.pyplot as plt\n",
    "from sklearn.ensemble import GradientBoostingClassifier\n",
    "from sklearn.model_selection import train_test_split, GridSearchCV\n",
    "from sklearn.metrics import confusion_matrix, roc_curve, roc_auc_score\n",
    "from operator import itemgetter\n",
    "import seaborn as sns"
   ]
  },
  {
   "cell_type": "code",
   "execution_count": 2,
   "id": "3850e6c6",
   "metadata": {},
   "outputs": [],
   "source": [
    "def add_data_info():\n",
    "    df1 = pd.read_csv('https://raw.githubusercontent.com/JeffSackmann/tennis_MatchChartingProject/master/charting-m-points-from-2017.csv', encoding= 'unicode_escape', low_memory=False)\n",
    "    df2 = pd.read_csv('raw_data/charting-m-matches.csv', encoding= 'unicode_escape', low_memory=False)\n",
    "    \n",
    "    #get separated values from m-matches list of games - based on matchid\n",
    "    df = pd.merge(df1,df2[['match_id','Date','Tournament','Round','Surface','Player 1','Player 2']], on=['match_id'], how='left')\n",
    "    \n",
    "    #add the condition of \"Grand Slam\" - 5 or 3 sets\n",
    "    conditions = df['Tournament'].isin([\"Wimbledon\", \"Australian Open\", \"US Open\", \"Roland Garros\"])\n",
    "    values = [1,0]\n",
    "\n",
    "    # Create a new column  based on the conditions and values\n",
    "    df['Grand Slam'] = pd.Series(pd.NA)\n",
    "    df.loc[conditions, 'Grand Slam'] = values[0]\n",
    "    df.loc[~conditions, 'Grand Slam'] = values[1]\n",
    "    \n",
    "    # save the original dataset with enriched data for future features\n",
    "    df.to_csv('raw_data/charting-m-points-from-2017-enriched.csv', index=False)"
   ]
  },
  {
   "cell_type": "code",
   "execution_count": 3,
   "id": "d550ff49",
   "metadata": {},
   "outputs": [],
   "source": [
    "def filter_player(df,opponent):\n",
    "    \n",
    "    # Read the dataset into a pandas DataFrame - from enriched file\n",
    "    df = pd.read_csv(df, encoding= 'unicode_escape', low_memory=False)\n",
    "    \n",
    "    ## filtra pelo  oponente\n",
    "    df = df[(df[\"Player 1\"].str.contains(opponent)) | (df[\"Player 2\"].str.contains(opponent))].copy()\n",
    "    \n",
    "    ##define se está sacando e se ganhou o ponto\n",
    "    df['i_serve'] = np.where(((df['Svr'] == 1) & (df['Player 1'] == opponent )) | ((df['Svr'] == 2) & (df['Player 2'] == opponent)), 0, 1)\n",
    "    df['i_win'] = np.where(((df['isSvrWinner'] == df['i_serve'])), 1, 0)\n",
    "    df['is_second_service'] = np.where(((df['2nd'].isnull())), 0, 1)\n",
    "    \n",
    "    ## direção do saque\n",
    "    # primeiro caractere do segundo saque\n",
    "    df['dir_srv'] = df.loc[:, '2nd'].str[0]\n",
    "    ## completa com o primeiro caractere do primeiro saque quando ele entrou\n",
    "    df['dir_srv'].fillna(df.loc[:, '1st'].str[0], inplace=True)\n",
    "\n",
    "    \n",
    "    ##reseta o indice\n",
    "    df.reset_index(inplace=True)\n",
    "    \n",
    "    ## salva arquivo e retorna dataset da funcao\n",
    "    csv_file = \"raw_data/\" + opponent + \"_points.csv\"\n",
    "    df.to_csv(csv_file, index=False)\n",
    "    return df"
   ]
  },
  {
   "cell_type": "code",
   "execution_count": 4,
   "id": "11b2de95",
   "metadata": {},
   "outputs": [],
   "source": [
    "meaning_char = pd.read_csv('https://raw.githubusercontent.com/eduardoscovino/tennis-analytics/master/code_map.csv',\n",
    "                           encoding= 'unicode_escape', sep=';')"
   ]
  },
  {
   "cell_type": "code",
   "execution_count": null,
   "id": "06f807d4",
   "metadata": {},
   "outputs": [],
   "source": [
    "add_data_info()"
   ]
  },
  {
   "cell_type": "code",
   "execution_count": null,
   "id": "6f19a7cb",
   "metadata": {},
   "outputs": [],
   "source": [
    "df = filter_player('raw_data/charting-m-points-from-2017-enriched.csv','Novak Djokovic')"
   ]
  },
  {
   "cell_type": "code",
   "execution_count": null,
   "id": "920f903c",
   "metadata": {},
   "outputs": [],
   "source": [
    "## serve direction encode \n",
    "df = df[df['dir_srv'].isin(['4','5','6'])]\n",
    "\n",
    "## to numeric for rallyCount and serve direction\n",
    "df['rallyCount']=pd.to_numeric(df['rallyCount'])\n",
    "df['dir_srv']=pd.to_numeric(df['dir_srv'])"
   ]
  },
  {
   "cell_type": "code",
   "execution_count": null,
   "id": "59c90424",
   "metadata": {},
   "outputs": [],
   "source": [
    "#Spliting Serve and Return\n",
    "df['rally_desc'] = df.loc[:, '2nd']\n",
    "df['rally_desc'].fillna(df.loc[:, '1st'], inplace=True)\n",
    "\n",
    "##df['Serve'] = df.loc[:, 'rally_desc'].str[0:1]\n",
    "\n",
    "df['rally_desc'] = df['rally_desc'].str[1:]\n",
    "\n",
    "sc = np.array(meaning_char[~meaning_char['code'].isin(['f', 'b', 'r', 's', 'v', 'l', 'o', 'z', 'p', 'u', 'y', 'h', 'i', 'j', 'k','m', '1', '2', '3', '7', '8', '9'])]['code'])\n",
    "\n",
    "#Spliting every shot\n",
    "df['rally_desc'] = df['rally_desc'].apply(lambda x: ''.join([c for c in x if c not in sc]))\n",
    "df['rally_desc'] = df['rally_desc'].str.replace('f',' f').str.replace('b',' b').str.replace('s',' s').str.replace('r',' r').str.replace('v',' v').str.replace('l',' l').str.replace('o',' o').str.replace('z',' z').str.replace('p',' p').str.replace('u',' u').str.replace('y',' y').str.replace('h',' h').str.replace('i',' i').str.replace('j',' j').str.replace('k',' k').str.replace('m',' m').str.replace('!','').str.replace('+','').str.replace(';','').str.replace('^','').str.replace('C','')\n",
    "df['rally_desc'] = df['rally_desc'].map(lambda x: x.lstrip(' ').rstrip(' '))"
   ]
  },
  {
   "cell_type": "code",
   "execution_count": null,
   "id": "e7072c82-898d-40ed-816a-6a697faf28e1",
   "metadata": {},
   "outputs": [],
   "source": [
    "df['rally_tratada'] = (df['rallyCount']/2).apply(np.floor)"
   ]
  },
  {
   "cell_type": "code",
   "execution_count": null,
   "id": "ba68c9e3-2e6d-4875-b064-c46a02c6b31f",
   "metadata": {},
   "outputs": [],
   "source": [
    "df.head(20)"
   ]
  },
  {
   "cell_type": "markdown",
   "id": "ab26c0b8",
   "metadata": {},
   "source": [
    "### Adição da coluna how_ended"
   ]
  },
  {
   "cell_type": "code",
   "execution_count": null,
   "id": "43195a3c",
   "metadata": {},
   "outputs": [],
   "source": [
    "# df['end']\n",
    "df['how_ended'] = df.loc[:, '2nd'].str[-1]\n",
    "df['how_ended'].fillna(df.loc[:, '1st'].str[-1], inplace=True)\n",
    "\n",
    "df.head()"
   ]
  },
  {
   "cell_type": "code",
   "execution_count": null,
   "id": "57038dc8",
   "metadata": {},
   "outputs": [],
   "source": [
    "# vamos entender melhor isso aqui\n",
    "\n",
    "df['how_ended'].value_counts()"
   ]
  },
  {
   "cell_type": "code",
   "execution_count": null,
   "id": "7f72687f",
   "metadata": {},
   "outputs": [],
   "source": [
    "df['isUnforced'] = df['isUnforced'].replace({True: 1, False: 0})\n",
    "df['isForced'] = df['isForced'].replace({True: 1, False: 0})\n",
    "df['serve_return'] = df['rally_desc'].map(lambda x: x.split(' ')).str[0]"
   ]
  },
  {
   "cell_type": "markdown",
   "id": "392d81b1",
   "metadata": {},
   "source": [
    "## Dataset finalizado ##"
   ]
  },
  {
   "cell_type": "code",
   "execution_count": null,
   "id": "8e1d463f",
   "metadata": {
    "scrolled": true
   },
   "outputs": [],
   "source": [
    "df['serve_return'].nunique()"
   ]
  },
  {
   "cell_type": "code",
   "execution_count": null,
   "id": "3767184e",
   "metadata": {},
   "outputs": [],
   "source": [
    "df['how_ended'].nunique()"
   ]
  },
  {
   "cell_type": "code",
   "execution_count": null,
   "id": "801b8795",
   "metadata": {},
   "outputs": [],
   "source": [
    "#df = df[df['serve_return']!=\"\"]"
   ]
  },
  {
   "cell_type": "code",
   "execution_count": null,
   "id": "10357fa1",
   "metadata": {
    "scrolled": true
   },
   "outputs": [],
   "source": [
    "serve_return_column = df[\"serve_return\"]\n",
    "value_counts = serve_return_column.value_counts()\n",
    "\n",
    "plt.bar(value_counts.index, value_counts.values )\n",
    "plt.xlabel(\"serve_return\")\n",
    "plt.ylabel(\"Frequency\")\n",
    "plt.title(\"Distribution of serve_return\")\n",
    "plt.xticks(rotation=90)\n",
    "plt.show()"
   ]
  },
  {
   "cell_type": "code",
   "execution_count": null,
   "id": "c7d68653",
   "metadata": {},
   "outputs": [],
   "source": [
    "serve_return_counts = df[\"serve_return\"].value_counts().reset_index()\n",
    "serve_return_counts.columns = [\"serve_return\", \"frequency\"]\n",
    "serve_return_counts = serve_return_counts.sort_values(\"frequency\", ascending=False )\n",
    "\n",
    "serve_return_counts.head(10)\n"
   ]
  },
  {
   "cell_type": "code",
   "execution_count": null,
   "id": "4e463ca2",
   "metadata": {},
   "outputs": [],
   "source": [
    "rally_count_dist = df[\"rallyCount\"]\n",
    "rally_count_dist = rally_count_dist.dropna()\n",
    "\n",
    "plt.hist(rally_count_dist)\n",
    "plt.xlabel(\"rally_count_dist\")\n",
    "plt.ylabel(\"Frequency\")\n",
    "plt.title(\"Distribution of rally count\")\n",
    "plt.show()"
   ]
  },
  {
   "cell_type": "code",
   "execution_count": null,
   "id": "64d6539f",
   "metadata": {},
   "outputs": [],
   "source": [
    "rally_counts = df[\"rallyCount\"].value_counts().reset_index()\n",
    "rally_counts.columns = [\"rally_counts\", \"frequency\"]\n",
    "rally_counts = rally_counts.sort_values(\"frequency\", ascending=False )\n",
    "\n",
    "print(rally_counts)"
   ]
  },
  {
   "cell_type": "markdown",
   "id": "61c650ef",
   "metadata": {},
   "source": [
    "## Geração das features"
   ]
  },
  {
   "cell_type": "code",
   "execution_count": null,
   "id": "3031a527-5f6a-4abd-8eec-111ae3af20c1",
   "metadata": {},
   "outputs": [],
   "source": [
    "features = ['Surface',\n",
    "            'Round',\n",
    "            'Grand Slam',\n",
    "            'i_serve',\n",
    "            'is_second_service',\n",
    "            'dir_srv',\n",
    "            'rally_tratada',\n",
    "            # 'rallyCount',\n",
    "            'isUnforced',\n",
    "            'isForced',\n",
    "            \"serve_return\",\n",
    "            \"how_ended\"\n",
    "            ]\n",
    "X = df[features]\n",
    "y = df['i_win']"
   ]
  },
  {
   "cell_type": "code",
   "execution_count": null,
   "id": "fb62c914-36fa-427c-aec2-c3d3d292a4f8",
   "metadata": {},
   "outputs": [],
   "source": [
    "feat_categorical = ['Surface','Round','dir_srv','serve_return','how_ended']"
   ]
  },
  {
   "cell_type": "code",
   "execution_count": null,
   "id": "a2c7af67",
   "metadata": {},
   "outputs": [],
   "source": [
    "X.info()"
   ]
  },
  {
   "cell_type": "markdown",
   "id": "83398634",
   "metadata": {},
   "source": [
    "## separação - treino, teste e validação"
   ]
  },
  {
   "cell_type": "code",
   "execution_count": null,
   "id": "62e0a7fa-03fb-4ae9-b7cc-12a592e1a5b6",
   "metadata": {},
   "outputs": [],
   "source": [
    "from sklearn.model_selection import train_test_split\n",
    "\n",
    "# Train-Test Split - ## parametro stratify ###\n",
    "X_train, X_test, y_train, y_test = train_test_split(X, y, test_size= 0.3, random_state=1)"
   ]
  },
  {
   "cell_type": "code",
   "execution_count": null,
   "id": "7bbc63de",
   "metadata": {},
   "outputs": [],
   "source": [
    "print(len(X_train), 'train examples')\n",
    "print(len(X_test), 'test examples')"
   ]
  },
  {
   "cell_type": "code",
   "execution_count": null,
   "id": "4012c1fc",
   "metadata": {},
   "outputs": [],
   "source": [
    "X_train['serve_return'].nunique()"
   ]
  },
  {
   "cell_type": "markdown",
   "id": "42cf3ccb",
   "metadata": {},
   "source": [
    "## Inicio do modelo - pre processamento e encoder"
   ]
  },
  {
   "cell_type": "code",
   "execution_count": null,
   "id": "2c363809",
   "metadata": {},
   "outputs": [],
   "source": [
    "from sklearn.preprocessing import StandardScaler, OneHotEncoder\n",
    "from sklearn.compose import make_column_transformer, make_column_selector\n",
    "from sklearn import set_config\n",
    "set_config(display=\"diagram\")"
   ]
  },
  {
   "cell_type": "code",
   "execution_count": null,
   "id": "d94c320b",
   "metadata": {},
   "outputs": [],
   "source": [
    "preproc = make_column_transformer(\n",
    "    (StandardScaler(), make_column_selector(dtype_exclude=[\"object\"])),\n",
    "    (OneHotEncoder(handle_unknown=\"ignore\", sparse_output=False), make_column_selector(dtype_include=[\"object\"]))\n",
    ")\n",
    "\n",
    "preproc"
   ]
  },
  {
   "cell_type": "code",
   "execution_count": null,
   "id": "c2f17e9d",
   "metadata": {},
   "outputs": [],
   "source": [
    "preproc.fit_transform(X_train).shape"
   ]
  },
  {
   "cell_type": "code",
   "execution_count": null,
   "id": "4e19ce3d",
   "metadata": {},
   "outputs": [],
   "source": [
    "X_train_preproc = preproc.fit_transform(X_train)\n",
    "X_test_preproc = preproc.transform(X_test)"
   ]
  },
  {
   "cell_type": "markdown",
   "id": "7e4ad065",
   "metadata": {},
   "source": [
    "## Definição do modelo"
   ]
  },
  {
   "cell_type": "code",
   "execution_count": null,
   "id": "21f8f9a6",
   "metadata": {},
   "outputs": [],
   "source": [
    "from tensorflow.keras import Sequential, layers\n",
    "from tensorflow.keras.layers.experimental import preprocessing\n",
    "from tensorflow.keras.callbacks import EarlyStopping"
   ]
  },
  {
   "cell_type": "code",
   "execution_count": null,
   "id": "2148e496",
   "metadata": {},
   "outputs": [],
   "source": [
    "gb = GradientBoostingClassifier(random_state=5)\n",
    "\n",
    "params = {\"learning_rate\": [0.01, 0.1, 0.5],\n",
    "            \"min_samples_split\": [5, 10],\n",
    "            \"min_samples_leaf\": [3, 5],\n",
    "            \"max_depth\":[3,5,10],\n",
    "            \"max_features\":[\"sqrt\"],\n",
    "            \"n_estimators\":[100, 200]} \n",
    "\n",
    "gb_cv = GridSearchCV(gb, params, cv = 3, n_jobs = -1, verbose = False)\n",
    "\n",
    "gb_cv.fit(X_train_preproc, np.ravel(y_train))"
   ]
  },
  {
   "cell_type": "code",
   "execution_count": null,
   "id": "9553143a",
   "metadata": {},
   "outputs": [],
   "source": [
    "gb = gb_cv.best_estimator_"
   ]
  },
  {
   "cell_type": "code",
   "execution_count": null,
   "id": "77f0107e",
   "metadata": {},
   "outputs": [],
   "source": [
    "gb"
   ]
  },
  {
   "cell_type": "markdown",
   "id": "3819644b",
   "metadata": {},
   "source": [
    "## Resultado final / evaluate"
   ]
  },
  {
   "cell_type": "code",
   "execution_count": null,
   "id": "76f0a0a6",
   "metadata": {},
   "outputs": [],
   "source": [
    "def plot_auc(model):\n",
    "    fpr, tpr, _ = roc_curve(y_test, model.predict_proba(X_test_preproc)[:,1]) #test AUC\n",
    "    plt.figure(figsize=(5,4))\n",
    "    plt.plot([0, 1], [0, 1], 'k--')\n",
    "    plt.plot(fpr, tpr, label=\"test\")\n",
    "\n",
    "    fpr_train, tpr_train, _ = roc_curve(y_train, model.predict_proba(X_train_preproc)[:,1]) #train AUC\n",
    "    plt.plot(fpr_train, tpr_train, label=\"train\")\n",
    "    auc_test = roc_auc_score(y_test, model.predict_proba(X_test_preproc)[:,1])\n",
    "    auc_train = roc_auc_score(y_train, model.predict_proba(X_train_preproc)[:,1])\n",
    "    plt.legend()\n",
    "    plt.title('Curva ROC')\n",
    "    print('AUC score é %.2f em dados de teste e %.2f em dados de treinamento.'%(auc_test, auc_train))\n",
    "    plt.show()\n",
    "    \n",
    "def plot_conf_matrix(model):\n",
    "    fig, ax = plt.subplots(figsize=(5,4))\n",
    "    cm = confusion_matrix(y_test, model.predict(X_test_preproc))\n",
    "    sns.heatmap(cm, annot=True, fmt=\"d\", cmap=\"Blues\")\n",
    "\n",
    "    ax.xaxis.set_ticklabels(['Derrota', 'Vitória'])\n",
    "    ax.yaxis.set_ticklabels(['Derrota', 'Vitória']);\n",
    "    ax.set_xlabel('Labels reais')\n",
    "    ax.set_ylabel('Labels preditas')\n",
    "    ax.set_title('Matriz de confusão')\n",
    "    plt.show()"
   ]
  },
  {
   "cell_type": "markdown",
   "id": "9912e903",
   "metadata": {},
   "source": [
    "**O que é curva ROC?**\n",
    "\n",
    "    ROC é uma curva de probabilidade e AUC representa o quão bem o modelo conseguiu separar as 2 classes, no nosso caso 'Vitória' e 'Derrota'. Quanto mais perto do canto superior esquerdo passa a cuva ROC no gráfico, melhor o desempenho dele, e, quanto maior o valor AUC, melhor o modelo é em prever corretamente essas classes."
   ]
  },
  {
   "cell_type": "code",
   "execution_count": null,
   "id": "daa696aa",
   "metadata": {},
   "outputs": [],
   "source": [
    "plot_auc(gb_cv.best_estimator_)"
   ]
  },
  {
   "cell_type": "markdown",
   "id": "eec277ad",
   "metadata": {},
   "source": [
    "**O que é matriz de confusão?**\n",
    "    \n",
    "    É uma visualização usada para analisar o desempenho de um classificador, contando as vezes em que o rótulo real e o rótulo previsto são iguais.\n",
    "    Nesse sentido, quanto maiores os valores na diagonal melhor, pois representa os casos que ambos rótulos reais e preditos foram definidos como \"Vitória\" ou ambos foram definidos como \"Derrota\"."
   ]
  },
  {
   "cell_type": "code",
   "execution_count": null,
   "id": "5cbb2898",
   "metadata": {},
   "outputs": [],
   "source": [
    "plot_conf_matrix(gb)"
   ]
  },
  {
   "cell_type": "code",
   "execution_count": null,
   "id": "7713ba27",
   "metadata": {},
   "outputs": [],
   "source": [
    "gb_cv.best_score_"
   ]
  },
  {
   "cell_type": "code",
   "execution_count": null,
   "id": "2204d267",
   "metadata": {},
   "outputs": [],
   "source": [
    "gb_final = gb_cv.best_estimator_"
   ]
  },
  {
   "cell_type": "code",
   "execution_count": null,
   "id": "b13c9480",
   "metadata": {},
   "outputs": [],
   "source": [
    "gb2 = gb.fit(X_train_preproc, y_train)"
   ]
  },
  {
   "cell_type": "code",
   "execution_count": null,
   "id": "7d8440b9",
   "metadata": {},
   "outputs": [],
   "source": [
    "gb2.score(X_test_preproc, y_test)"
   ]
  },
  {
   "cell_type": "code",
   "execution_count": null,
   "id": "9b63e9d5",
   "metadata": {},
   "outputs": [],
   "source": [
    "predictions = gb2.predict(X_test_preproc)"
   ]
  },
  {
   "cell_type": "code",
   "execution_count": null,
   "id": "e4e73a7d",
   "metadata": {},
   "outputs": [],
   "source": [
    "from sklearn.metrics import classification_report"
   ]
  },
  {
   "cell_type": "code",
   "execution_count": null,
   "id": "7b0e2cb7",
   "metadata": {},
   "outputs": [],
   "source": [
    "classification_report(y_test, predictions, output_dict=True)"
   ]
  },
  {
   "cell_type": "markdown",
   "id": "fb3d4c69",
   "metadata": {},
   "source": [
    "https://www.statology.org/sklearn-classification-report/"
   ]
  },
  {
   "cell_type": "markdown",
   "id": "253ed924",
   "metadata": {},
   "source": [
    "referencia : aula House Kaggle\n",
    "\n",
    "https://kitt.lewagon.com/camps/1166/challenges?path=05-ML%2F07-Ensemble-Methods%2F01-Houses-Kaggle-Competition"
   ]
  },
  {
   "cell_type": "code",
   "execution_count": null,
   "id": "8ed36c32-36ac-48bc-b61b-ebc00bcf2602",
   "metadata": {},
   "outputs": [],
   "source": []
  }
 ],
 "metadata": {
  "kernelspec": {
   "display_name": "Python 3 (ipykernel)",
   "language": "python",
   "name": "python3"
  },
  "language_info": {
   "codemirror_mode": {
    "name": "ipython",
    "version": 3
   },
   "file_extension": ".py",
   "mimetype": "text/x-python",
   "name": "python",
   "nbconvert_exporter": "python",
   "pygments_lexer": "ipython3",
   "version": "3.10.6"
  },
  "toc": {
   "base_numbering": 1,
   "nav_menu": {},
   "number_sections": true,
   "sideBar": true,
   "skip_h1_title": false,
   "title_cell": "Table of Contents",
   "title_sidebar": "Contents",
   "toc_cell": false,
   "toc_position": {},
   "toc_section_display": true,
   "toc_window_display": false
  }
 },
 "nbformat": 4,
 "nbformat_minor": 5
}
