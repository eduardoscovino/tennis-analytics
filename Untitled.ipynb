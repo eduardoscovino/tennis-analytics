{
 "cells": [
  {
   "cell_type": "code",
   "execution_count": 86,
   "id": "3f039d6a",
   "metadata": {},
   "outputs": [],
   "source": [
    "import pandas as pd"
   ]
  },
  {
   "cell_type": "code",
   "execution_count": 87,
   "id": "a7be523e",
   "metadata": {},
   "outputs": [],
   "source": [
    "def add_data_info():\n",
    "    df1 = pd.read_csv('https://raw.githubusercontent.com/JeffSackmann/tennis_MatchChartingProject/master/charting-m-points-from-2017.csv', encoding= 'unicode_escape', low_memory=False)\n",
    "    df2 = pd.read_csv('raw_data/charting-m-matches.csv', encoding= 'unicode_escape', low_memory=False)\n",
    "    df = pd.merge(df1,df2[['match_id','Date','Tournament','Round','Surface','Player 1','Player 2']], on=['match_id'], how='left')\n",
    "    df.to_csv('raw_data/charting-m-points-from-2017-enriched.csv', index=False)"
   ]
  },
  {
   "cell_type": "code",
   "execution_count": 88,
   "id": "3171ddb7",
   "metadata": {},
   "outputs": [],
   "source": [
    "def filter_player(name):\n",
    "    \n",
    "    # Read the dataset into a pandas DataFrame - from original\n",
    "    #df = pd.read_csv('https://raw.githubusercontent.com/JeffSackmann/tennis_MatchChartingProject/master/charting-m-points-from-2017.csv' , encoding= 'unicode_escape', low_memory=False)\n",
    "    \n",
    "    # Read the dataset into a pandas DataFrame - from enriched file\n",
    "    df = pd.read_csv('raw_data/charting-m-points-from-2017-enriched.csv' , encoding= 'unicode_escape', low_memory=False)\n",
    "    \n",
    "    # Filter rows where the player is \"Novak Djokovic\" (column - match_id)  \n",
    "    df_filtered = df[df['match_id'].str.contains(name)]\n",
    "    csv_file = \"raw_data/\" + name + \".csv\"\n",
    "    df_filtered.to_csv(csv_file, index=False)"
   ]
  },
  {
   "cell_type": "code",
   "execution_count": 89,
   "id": "82c38742",
   "metadata": {},
   "outputs": [],
   "source": [
    "add_data_info()"
   ]
  },
  {
   "cell_type": "code",
   "execution_count": 90,
   "id": "8df06027",
   "metadata": {},
   "outputs": [],
   "source": [
    "df = pd.read_csv('raw_data/charting-m-points-from-2017-enriched.csv' , encoding= 'unicode_escape', low_memory=False)"
   ]
  },
  {
   "cell_type": "code",
   "execution_count": 91,
   "id": "19581146",
   "metadata": {},
   "outputs": [
    {
     "data": {
      "text/plain": [
       "10644300"
      ]
     },
     "execution_count": 91,
     "metadata": {},
     "output_type": "execute_result"
    }
   ],
   "source": [
    "df.size"
   ]
  },
  {
   "cell_type": "code",
   "execution_count": null,
   "id": "366e6975",
   "metadata": {},
   "outputs": [],
   "source": []
  }
 ],
 "metadata": {
  "kernelspec": {
   "display_name": "Python 3",
   "language": "python",
   "name": "python3"
  },
  "language_info": {
   "codemirror_mode": {
    "name": "ipython",
    "version": 3
   },
   "file_extension": ".py",
   "mimetype": "text/x-python",
   "name": "python",
   "nbconvert_exporter": "python",
   "pygments_lexer": "ipython3",
   "version": "3.10.6"
  },
  "toc": {
   "base_numbering": 1,
   "nav_menu": {},
   "number_sections": true,
   "sideBar": true,
   "skip_h1_title": false,
   "title_cell": "Table of Contents",
   "title_sidebar": "Contents",
   "toc_cell": false,
   "toc_position": {},
   "toc_section_display": true,
   "toc_window_display": false
  }
 },
 "nbformat": 4,
 "nbformat_minor": 5
}
