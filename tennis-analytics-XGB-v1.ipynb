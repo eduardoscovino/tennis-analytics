{
 "cells": [
  {
   "cell_type": "code",
   "execution_count": 2,
   "id": "1a6ba069",
   "metadata": {},
   "outputs": [],
   "source": [
    "import pandas as pd\n",
    "import numpy as np\n",
    "import seaborn as sns\n",
    "import matplotlib.pyplot as plt\n",
    "pd.options.display.max_columns = 50\n",
    "pd.options.display.max_rows = 100\n",
    "import matplotlib.pyplot as plt\n",
    "from sklearn.ensemble import GradientBoostingClassifier\n",
    "from sklearn.model_selection import train_test_split, GridSearchCV\n",
    "from sklearn.metrics import confusion_matrix, roc_curve, roc_auc_score\n",
    "from operator import itemgetter\n",
    "import seaborn as sns"
   ]
  },
  {
   "cell_type": "code",
   "execution_count": 3,
   "id": "3850e6c6",
   "metadata": {},
   "outputs": [],
   "source": [
    "def add_data_info():\n",
    "    df1 = pd.read_csv('https://raw.githubusercontent.com/JeffSackmann/tennis_MatchChartingProject/master/charting-m-points-from-2017.csv', encoding= 'unicode_escape', low_memory=False)\n",
    "    df2 = pd.read_csv('raw_data/charting-m-matches.csv', encoding= 'unicode_escape', low_memory=False)\n",
    "    \n",
    "    #get separated values from m-matches list of games - based on matchid\n",
    "    df = pd.merge(df1,df2[['match_id','Date','Tournament','Round','Surface','Player 1','Player 2']], on=['match_id'], how='left')\n",
    "    \n",
    "    #add the condition of \"Grand Slam\" - 5 or 3 sets\n",
    "    conditions = df['Tournament'].isin([\"Wimbledon\", \"Australian Open\", \"US Open\", \"Roland Garros\"])\n",
    "    values = [1,0]\n",
    "\n",
    "    # Create a new column  based on the conditions and values\n",
    "    df['Grand Slam'] = pd.Series(pd.NA)\n",
    "    df.loc[conditions, 'Grand Slam'] = values[0]\n",
    "    df.loc[~conditions, 'Grand Slam'] = values[1]\n",
    "    \n",
    "    # save the original dataset with enriched data for future features\n",
    "    df.to_csv('raw_data/charting-m-points-from-2017-enriched.csv', index=False)"
   ]
  },
  {
   "cell_type": "code",
   "execution_count": 4,
   "id": "d550ff49",
   "metadata": {},
   "outputs": [],
   "source": [
    "def filter_player(df,opponent):\n",
    "    \n",
    "    # Read the dataset into a pandas DataFrame - from enriched file\n",
    "    df = pd.read_csv(df, encoding= 'unicode_escape', low_memory=False)\n",
    "    \n",
    "    ## filtra pelo  oponente\n",
    "    df = df[(df[\"Player 1\"].str.contains(opponent)) | (df[\"Player 2\"].str.contains(opponent))].copy()\n",
    "    \n",
    "    ##define se está sacando e se ganhou o ponto\n",
    "    df['i_serve'] = np.where(((df['Svr'] == 1) & (df['Player 1'] == opponent )) | ((df['Svr'] == 2) & (df['Player 2'] == opponent)), 0, 1)\n",
    "    df['i_win'] = np.where(((df['isSvrWinner'] == df['i_serve'])), 1, 0)\n",
    "    df['is_second_service'] = np.where(((df['2nd'].isnull())), 0, 1)\n",
    "    \n",
    "    ## direção do saque\n",
    "    # primeiro caractere do segundo saque\n",
    "    df['dir_srv'] = df.loc[:, '2nd'].str[0]\n",
    "    ## completa com o primeiro caractere do primeiro saque quando ele entrou\n",
    "    df['dir_srv'].fillna(df.loc[:, '1st'].str[0], inplace=True)\n",
    "\n",
    "    \n",
    "    ##reseta o indice\n",
    "    df.reset_index(inplace=True)\n",
    "    \n",
    "    ## salva arquivo e retorna dataset da funcao\n",
    "    csv_file = \"raw_data/\" + opponent + \"_points.csv\"\n",
    "    df.to_csv(csv_file, index=False)\n",
    "    return df"
   ]
  },
  {
   "cell_type": "code",
   "execution_count": 5,
   "id": "11b2de95",
   "metadata": {},
   "outputs": [],
   "source": [
    "meaning_char = pd.read_csv('https://raw.githubusercontent.com/eduardoscovino/tennis-analytics/master/code_map.csv',\n",
    "                           encoding= 'unicode_escape', sep=';')"
   ]
  },
  {
   "cell_type": "code",
   "execution_count": 5,
   "id": "06f807d4",
   "metadata": {},
   "outputs": [],
   "source": [
    "add_data_info()"
   ]
  },
  {
   "cell_type": "code",
   "execution_count": 6,
   "id": "6f19a7cb",
   "metadata": {},
   "outputs": [],
   "source": [
    "df = filter_player('raw_data/charting-m-points-from-2017-enriched.csv','Novak Djokovic')"
   ]
  },
  {
   "cell_type": "code",
   "execution_count": 7,
   "id": "920f903c",
   "metadata": {},
   "outputs": [],
   "source": [
    "## serve direction encode \n",
    "df = df[df['dir_srv'].isin(['4','5','6'])]\n",
    "\n",
    "## to numeric for rallyCount and serve direction\n",
    "df['rallyCount']=pd.to_numeric(df['rallyCount'])\n",
    "df['dir_srv']=pd.to_numeric(df['dir_srv'])"
   ]
  },
  {
   "cell_type": "code",
   "execution_count": 8,
   "id": "59c90424",
   "metadata": {},
   "outputs": [
    {
     "name": "stderr",
     "output_type": "stream",
     "text": [
      "/var/folders/kk/0r0_hyfd673456ly0hptrbsc0000gn/T/ipykernel_26760/2934495866.py:13: FutureWarning: The default value of regex will change from True to False in a future version. In addition, single character regular expressions will *not* be treated as literal strings when regex=True.\n",
      "  df['rally_desc'] = df['rally_desc'].str.replace('f',' f').str.replace('b',' b').str.replace('s',' s').str.replace('r',' r').str.replace('v',' v').str.replace('l',' l').str.replace('o',' o').str.replace('z',' z').str.replace('p',' p').str.replace('u',' u').str.replace('y',' y').str.replace('h',' h').str.replace('i',' i').str.replace('j',' j').str.replace('k',' k').str.replace('m',' m').str.replace('!','').str.replace('+','').str.replace(';','').str.replace('^','').str.replace('C','')\n"
     ]
    }
   ],
   "source": [
    "#Spliting Serve and Return\n",
    "df['rally_desc'] = df.loc[:, '2nd']\n",
    "df['rally_desc'].fillna(df.loc[:, '1st'], inplace=True)\n",
    "\n",
    "##df['Serve'] = df.loc[:, 'rally_desc'].str[0:1]\n",
    "\n",
    "df['rally_desc'] = df['rally_desc'].str[1:]\n",
    "\n",
    "sc = np.array(meaning_char[~meaning_char['code'].isin(['f', 'b', 'r', 's', 'v', 'l', 'o', 'z', 'p', 'u', 'y', 'h', 'i', 'j', 'k','m', '1', '2', '3', '7', '8', '9'])]['code'])\n",
    "\n",
    "#Spliting every shot\n",
    "df['rally_desc'] = df['rally_desc'].apply(lambda x: ''.join([c for c in x if c not in sc]))\n",
    "df['rally_desc'] = df['rally_desc'].str.replace('f',' f').str.replace('b',' b').str.replace('s',' s').str.replace('r',' r').str.replace('v',' v').str.replace('l',' l').str.replace('o',' o').str.replace('z',' z').str.replace('p',' p').str.replace('u',' u').str.replace('y',' y').str.replace('h',' h').str.replace('i',' i').str.replace('j',' j').str.replace('k',' k').str.replace('m',' m').str.replace('!','').str.replace('+','').str.replace(';','').str.replace('^','').str.replace('C','')\n",
    "df['rally_desc'] = df['rally_desc'].map(lambda x: x.lstrip(' ').rstrip(' '))"
   ]
  },
  {
   "cell_type": "markdown",
   "id": "ab26c0b8",
   "metadata": {},
   "source": [
    "### Adição da coluna how_ended"
   ]
  },
  {
   "cell_type": "code",
   "execution_count": 9,
   "id": "43195a3c",
   "metadata": {},
   "outputs": [
    {
     "data": {
      "text/html": [
       "<div>\n",
       "<style scoped>\n",
       "    .dataframe tbody tr th:only-of-type {\n",
       "        vertical-align: middle;\n",
       "    }\n",
       "\n",
       "    .dataframe tbody tr th {\n",
       "        vertical-align: top;\n",
       "    }\n",
       "\n",
       "    .dataframe thead th {\n",
       "        text-align: right;\n",
       "    }\n",
       "</style>\n",
       "<table border=\"1\" class=\"dataframe\">\n",
       "  <thead>\n",
       "    <tr style=\"text-align: right;\">\n",
       "      <th></th>\n",
       "      <th>index</th>\n",
       "      <th>match_id</th>\n",
       "      <th>Pt</th>\n",
       "      <th>Set1</th>\n",
       "      <th>Set2</th>\n",
       "      <th>Gm1</th>\n",
       "      <th>Gm2</th>\n",
       "      <th>Pts</th>\n",
       "      <th>Gm#</th>\n",
       "      <th>TbSet</th>\n",
       "      <th>TB?</th>\n",
       "      <th>TBpt</th>\n",
       "      <th>Svr</th>\n",
       "      <th>Ret</th>\n",
       "      <th>Serving</th>\n",
       "      <th>1st</th>\n",
       "      <th>2nd</th>\n",
       "      <th>Notes</th>\n",
       "      <th>1stSV</th>\n",
       "      <th>2ndSV</th>\n",
       "      <th>1stIn</th>\n",
       "      <th>2ndIn</th>\n",
       "      <th>isAce</th>\n",
       "      <th>isUnret</th>\n",
       "      <th>isRallyWinner</th>\n",
       "      <th>isForced</th>\n",
       "      <th>isUnforced</th>\n",
       "      <th>isDouble</th>\n",
       "      <th>PtWinner</th>\n",
       "      <th>isSvrWinner</th>\n",
       "      <th>rallyCount</th>\n",
       "      <th>Date</th>\n",
       "      <th>Tournament</th>\n",
       "      <th>Round</th>\n",
       "      <th>Surface</th>\n",
       "      <th>Player 1</th>\n",
       "      <th>Player 2</th>\n",
       "      <th>Grand Slam</th>\n",
       "      <th>i_serve</th>\n",
       "      <th>i_win</th>\n",
       "      <th>is_second_service</th>\n",
       "      <th>dir_srv</th>\n",
       "      <th>rally_desc</th>\n",
       "      <th>how_ended</th>\n",
       "    </tr>\n",
       "  </thead>\n",
       "  <tbody>\n",
       "    <tr>\n",
       "      <th>0</th>\n",
       "      <td>637</td>\n",
       "      <td>20221120-M-Tour_Finals-F-Novak_Djokovic-Casper...</td>\n",
       "      <td>1</td>\n",
       "      <td>0</td>\n",
       "      <td>0</td>\n",
       "      <td>0</td>\n",
       "      <td>0</td>\n",
       "      <td>0-0</td>\n",
       "      <td>1 (1)</td>\n",
       "      <td>1</td>\n",
       "      <td>0</td>\n",
       "      <td>NaN</td>\n",
       "      <td>1</td>\n",
       "      <td>2</td>\n",
       "      <td>ND</td>\n",
       "      <td>4n</td>\n",
       "      <td>4f18f3s2f1f3b3n@</td>\n",
       "      <td>NaN</td>\n",
       "      <td>0</td>\n",
       "      <td>0.0</td>\n",
       "      <td>0</td>\n",
       "      <td>1.0</td>\n",
       "      <td>False</td>\n",
       "      <td>False</td>\n",
       "      <td>False</td>\n",
       "      <td>False</td>\n",
       "      <td>True</td>\n",
       "      <td>False</td>\n",
       "      <td>2</td>\n",
       "      <td>0</td>\n",
       "      <td>6</td>\n",
       "      <td>20221120</td>\n",
       "      <td>Tour Finals</td>\n",
       "      <td>F</td>\n",
       "      <td>Hard</td>\n",
       "      <td>Novak Djokovic</td>\n",
       "      <td>Casper Ruud</td>\n",
       "      <td>0</td>\n",
       "      <td>0</td>\n",
       "      <td>1</td>\n",
       "      <td>1</td>\n",
       "      <td>4</td>\n",
       "      <td>f18 f3 s2 f1 f3 b3</td>\n",
       "      <td>@</td>\n",
       "    </tr>\n",
       "    <tr>\n",
       "      <th>1</th>\n",
       "      <td>638</td>\n",
       "      <td>20221120-M-Tour_Finals-F-Novak_Djokovic-Casper...</td>\n",
       "      <td>2</td>\n",
       "      <td>0</td>\n",
       "      <td>0</td>\n",
       "      <td>0</td>\n",
       "      <td>0</td>\n",
       "      <td>0-15</td>\n",
       "      <td>1 (2)</td>\n",
       "      <td>1</td>\n",
       "      <td>0</td>\n",
       "      <td>NaN</td>\n",
       "      <td>1</td>\n",
       "      <td>2</td>\n",
       "      <td>ND</td>\n",
       "      <td>4n</td>\n",
       "      <td>6f2n#</td>\n",
       "      <td>NaN</td>\n",
       "      <td>0</td>\n",
       "      <td>0.0</td>\n",
       "      <td>0</td>\n",
       "      <td>1.0</td>\n",
       "      <td>False</td>\n",
       "      <td>False</td>\n",
       "      <td>False</td>\n",
       "      <td>True</td>\n",
       "      <td>False</td>\n",
       "      <td>False</td>\n",
       "      <td>1</td>\n",
       "      <td>1</td>\n",
       "      <td>1</td>\n",
       "      <td>20221120</td>\n",
       "      <td>Tour Finals</td>\n",
       "      <td>F</td>\n",
       "      <td>Hard</td>\n",
       "      <td>Novak Djokovic</td>\n",
       "      <td>Casper Ruud</td>\n",
       "      <td>0</td>\n",
       "      <td>0</td>\n",
       "      <td>0</td>\n",
       "      <td>1</td>\n",
       "      <td>6</td>\n",
       "      <td>f2</td>\n",
       "      <td>#</td>\n",
       "    </tr>\n",
       "    <tr>\n",
       "      <th>2</th>\n",
       "      <td>639</td>\n",
       "      <td>20221120-M-Tour_Finals-F-Novak_Djokovic-Casper...</td>\n",
       "      <td>3</td>\n",
       "      <td>0</td>\n",
       "      <td>0</td>\n",
       "      <td>0</td>\n",
       "      <td>0</td>\n",
       "      <td>15-15</td>\n",
       "      <td>1 (3)</td>\n",
       "      <td>1</td>\n",
       "      <td>0</td>\n",
       "      <td>NaN</td>\n",
       "      <td>1</td>\n",
       "      <td>2</td>\n",
       "      <td>ND</td>\n",
       "      <td>4*</td>\n",
       "      <td>NaN</td>\n",
       "      <td>Failed Ruud challenge</td>\n",
       "      <td>0</td>\n",
       "      <td>NaN</td>\n",
       "      <td>1</td>\n",
       "      <td>NaN</td>\n",
       "      <td>True</td>\n",
       "      <td>False</td>\n",
       "      <td>False</td>\n",
       "      <td>False</td>\n",
       "      <td>False</td>\n",
       "      <td>False</td>\n",
       "      <td>1</td>\n",
       "      <td>1</td>\n",
       "      <td>1</td>\n",
       "      <td>20221120</td>\n",
       "      <td>Tour Finals</td>\n",
       "      <td>F</td>\n",
       "      <td>Hard</td>\n",
       "      <td>Novak Djokovic</td>\n",
       "      <td>Casper Ruud</td>\n",
       "      <td>0</td>\n",
       "      <td>0</td>\n",
       "      <td>0</td>\n",
       "      <td>0</td>\n",
       "      <td>4</td>\n",
       "      <td></td>\n",
       "      <td>*</td>\n",
       "    </tr>\n",
       "    <tr>\n",
       "      <th>3</th>\n",
       "      <td>640</td>\n",
       "      <td>20221120-M-Tour_Finals-F-Novak_Djokovic-Casper...</td>\n",
       "      <td>4</td>\n",
       "      <td>0</td>\n",
       "      <td>0</td>\n",
       "      <td>0</td>\n",
       "      <td>0</td>\n",
       "      <td>30-15</td>\n",
       "      <td>1 (4)</td>\n",
       "      <td>1</td>\n",
       "      <td>0</td>\n",
       "      <td>NaN</td>\n",
       "      <td>1</td>\n",
       "      <td>2</td>\n",
       "      <td>ND</td>\n",
       "      <td>4n</td>\n",
       "      <td>5b3n@</td>\n",
       "      <td>NaN</td>\n",
       "      <td>0</td>\n",
       "      <td>0.0</td>\n",
       "      <td>0</td>\n",
       "      <td>1.0</td>\n",
       "      <td>False</td>\n",
       "      <td>False</td>\n",
       "      <td>False</td>\n",
       "      <td>False</td>\n",
       "      <td>True</td>\n",
       "      <td>False</td>\n",
       "      <td>1</td>\n",
       "      <td>1</td>\n",
       "      <td>1</td>\n",
       "      <td>20221120</td>\n",
       "      <td>Tour Finals</td>\n",
       "      <td>F</td>\n",
       "      <td>Hard</td>\n",
       "      <td>Novak Djokovic</td>\n",
       "      <td>Casper Ruud</td>\n",
       "      <td>0</td>\n",
       "      <td>0</td>\n",
       "      <td>0</td>\n",
       "      <td>1</td>\n",
       "      <td>5</td>\n",
       "      <td>b3</td>\n",
       "      <td>@</td>\n",
       "    </tr>\n",
       "    <tr>\n",
       "      <th>4</th>\n",
       "      <td>641</td>\n",
       "      <td>20221120-M-Tour_Finals-F-Novak_Djokovic-Casper...</td>\n",
       "      <td>5</td>\n",
       "      <td>0</td>\n",
       "      <td>0</td>\n",
       "      <td>0</td>\n",
       "      <td>0</td>\n",
       "      <td>40-15</td>\n",
       "      <td>1 (5)</td>\n",
       "      <td>1</td>\n",
       "      <td>0</td>\n",
       "      <td>NaN</td>\n",
       "      <td>1</td>\n",
       "      <td>2</td>\n",
       "      <td>ND</td>\n",
       "      <td>4r28f1r2f3b3f2f1f1f3b3b3b1r2n#</td>\n",
       "      <td>NaN</td>\n",
       "      <td>NaN</td>\n",
       "      <td>0</td>\n",
       "      <td>NaN</td>\n",
       "      <td>1</td>\n",
       "      <td>NaN</td>\n",
       "      <td>False</td>\n",
       "      <td>False</td>\n",
       "      <td>False</td>\n",
       "      <td>True</td>\n",
       "      <td>False</td>\n",
       "      <td>False</td>\n",
       "      <td>1</td>\n",
       "      <td>1</td>\n",
       "      <td>13</td>\n",
       "      <td>20221120</td>\n",
       "      <td>Tour Finals</td>\n",
       "      <td>F</td>\n",
       "      <td>Hard</td>\n",
       "      <td>Novak Djokovic</td>\n",
       "      <td>Casper Ruud</td>\n",
       "      <td>0</td>\n",
       "      <td>0</td>\n",
       "      <td>0</td>\n",
       "      <td>0</td>\n",
       "      <td>4</td>\n",
       "      <td>r28 f1 r2 f3 b3 f2 f1 f1 f3 b3 b3 b1 r2</td>\n",
       "      <td>#</td>\n",
       "    </tr>\n",
       "  </tbody>\n",
       "</table>\n",
       "</div>"
      ],
      "text/plain": [
       "   index                                           match_id  Pt  Set1  Set2  \\\n",
       "0    637  20221120-M-Tour_Finals-F-Novak_Djokovic-Casper...   1     0     0   \n",
       "1    638  20221120-M-Tour_Finals-F-Novak_Djokovic-Casper...   2     0     0   \n",
       "2    639  20221120-M-Tour_Finals-F-Novak_Djokovic-Casper...   3     0     0   \n",
       "3    640  20221120-M-Tour_Finals-F-Novak_Djokovic-Casper...   4     0     0   \n",
       "4    641  20221120-M-Tour_Finals-F-Novak_Djokovic-Casper...   5     0     0   \n",
       "\n",
       "   Gm1  Gm2    Pts    Gm# TbSet TB?  TBpt  Svr  Ret Serving  \\\n",
       "0    0    0    0-0  1 (1)     1   0   NaN    1    2      ND   \n",
       "1    0    0   0-15  1 (2)     1   0   NaN    1    2      ND   \n",
       "2    0    0  15-15  1 (3)     1   0   NaN    1    2      ND   \n",
       "3    0    0  30-15  1 (4)     1   0   NaN    1    2      ND   \n",
       "4    0    0  40-15  1 (5)     1   0   NaN    1    2      ND   \n",
       "\n",
       "                              1st               2nd                  Notes  \\\n",
       "0                              4n  4f18f3s2f1f3b3n@                    NaN   \n",
       "1                              4n             6f2n#                    NaN   \n",
       "2                              4*               NaN  Failed Ruud challenge   \n",
       "3                              4n             5b3n@                    NaN   \n",
       "4  4r28f1r2f3b3f2f1f1f3b3b3b1r2n#               NaN                    NaN   \n",
       "\n",
       "   1stSV  2ndSV  1stIn  2ndIn  isAce  isUnret  isRallyWinner  isForced  \\\n",
       "0      0    0.0      0    1.0  False    False          False     False   \n",
       "1      0    0.0      0    1.0  False    False          False      True   \n",
       "2      0    NaN      1    NaN   True    False          False     False   \n",
       "3      0    0.0      0    1.0  False    False          False     False   \n",
       "4      0    NaN      1    NaN  False    False          False      True   \n",
       "\n",
       "   isUnforced  isDouble  PtWinner  isSvrWinner  rallyCount      Date  \\\n",
       "0        True     False         2            0           6  20221120   \n",
       "1       False     False         1            1           1  20221120   \n",
       "2       False     False         1            1           1  20221120   \n",
       "3        True     False         1            1           1  20221120   \n",
       "4       False     False         1            1          13  20221120   \n",
       "\n",
       "    Tournament Round Surface        Player 1     Player 2  Grand Slam  \\\n",
       "0  Tour Finals     F    Hard  Novak Djokovic  Casper Ruud           0   \n",
       "1  Tour Finals     F    Hard  Novak Djokovic  Casper Ruud           0   \n",
       "2  Tour Finals     F    Hard  Novak Djokovic  Casper Ruud           0   \n",
       "3  Tour Finals     F    Hard  Novak Djokovic  Casper Ruud           0   \n",
       "4  Tour Finals     F    Hard  Novak Djokovic  Casper Ruud           0   \n",
       "\n",
       "   i_serve  i_win  is_second_service  dir_srv  \\\n",
       "0        0      1                  1        4   \n",
       "1        0      0                  1        6   \n",
       "2        0      0                  0        4   \n",
       "3        0      0                  1        5   \n",
       "4        0      0                  0        4   \n",
       "\n",
       "                                rally_desc how_ended  \n",
       "0                       f18 f3 s2 f1 f3 b3         @  \n",
       "1                                       f2         #  \n",
       "2                                                  *  \n",
       "3                                       b3         @  \n",
       "4  r28 f1 r2 f3 b3 f2 f1 f1 f3 b3 b3 b1 r2         #  "
      ]
     },
     "execution_count": 9,
     "metadata": {},
     "output_type": "execute_result"
    }
   ],
   "source": [
    "# df['end']\n",
    "df['how_ended'] = df.loc[:, '2nd'].str[-1]\n",
    "df['how_ended'].fillna(df.loc[:, '1st'].str[-1], inplace=True)\n",
    "\n",
    "df.head()"
   ]
  },
  {
   "cell_type": "code",
   "execution_count": 10,
   "id": "57038dc8",
   "metadata": {},
   "outputs": [
    {
     "data": {
      "text/plain": [
       "#    6264\n",
       "*    6054\n",
       "@    5820\n",
       "d     267\n",
       "n     249\n",
       "w      66\n",
       "x      14\n",
       "C      13\n",
       ";       4\n",
       "Name: how_ended, dtype: int64"
      ]
     },
     "execution_count": 10,
     "metadata": {},
     "output_type": "execute_result"
    }
   ],
   "source": [
    "# vamos entender melhor isso aqui\n",
    "\n",
    "df['how_ended'].value_counts()"
   ]
  },
  {
   "cell_type": "code",
   "execution_count": 11,
   "id": "7f72687f",
   "metadata": {},
   "outputs": [],
   "source": [
    "df['isUnforced'] = df['isUnforced'].replace({True: 1, False: 0})\n",
    "df['isForced'] = df['isForced'].replace({True: 1, False: 0})\n",
    "df['serve_return'] = df['rally_desc'].map(lambda x: x.split(' ')).str[0]"
   ]
  },
  {
   "cell_type": "markdown",
   "id": "392d81b1",
   "metadata": {},
   "source": [
    "## Dataset finalizado ##"
   ]
  },
  {
   "cell_type": "code",
   "execution_count": 12,
   "id": "8e1d463f",
   "metadata": {
    "scrolled": true
   },
   "outputs": [
    {
     "data": {
      "text/plain": [
       "86"
      ]
     },
     "execution_count": 12,
     "metadata": {},
     "output_type": "execute_result"
    }
   ],
   "source": [
    "df['serve_return'].nunique()"
   ]
  },
  {
   "cell_type": "code",
   "execution_count": 12,
   "id": "3767184e",
   "metadata": {},
   "outputs": [
    {
     "data": {
      "text/plain": [
       "9"
      ]
     },
     "execution_count": 12,
     "metadata": {},
     "output_type": "execute_result"
    }
   ],
   "source": [
    "df['how_ended'].nunique()"
   ]
  },
  {
   "cell_type": "code",
   "execution_count": 13,
   "id": "801b8795",
   "metadata": {},
   "outputs": [],
   "source": [
    "#df = df[df['serve_return']!=\"\"]"
   ]
  },
  {
   "cell_type": "code",
   "execution_count": 134,
   "id": "10357fa1",
   "metadata": {
    "scrolled": true
   },
   "outputs": [
    {
     "data": {
      "image/png": "[encoded data removed]",
      "text/plain": [
       "<Figure size 640x480 with 1 Axes>"
      ]
     },
     "metadata": {},
     "output_type": "display_data"
    }
   ],
   "source": [
    "serve_return_column = df[\"serve_return\"]\n",
    "value_counts = serve_return_column.value_counts()\n",
    "\n",
    "plt.bar(value_counts.index, value_counts.values )\n",
    "plt.xlabel(\"serve_return\")\n",
    "plt.ylabel(\"Frequency\")\n",
    "plt.title(\"Distribution of serve_return\")\n",
    "plt.xticks(rotation=90)\n",
    "plt.show()"
   ]
  },
  {
   "cell_type": "code",
   "execution_count": 135,
   "id": "c7d68653",
   "metadata": {},
   "outputs": [
    {
     "data": {
      "text/html": [
       "<div>\n",
       "<style scoped>\n",
       "    .dataframe tbody tr th:only-of-type {\n",
       "        vertical-align: middle;\n",
       "    }\n",
       "\n",
       "    .dataframe tbody tr th {\n",
       "        vertical-align: top;\n",
       "    }\n",
       "\n",
       "    .dataframe thead th {\n",
       "        text-align: right;\n",
       "    }\n",
       "</style>\n",
       "<table border=\"1\" class=\"dataframe\">\n",
       "  <thead>\n",
       "    <tr style=\"text-align: right;\">\n",
       "      <th></th>\n",
       "      <th>serve_return</th>\n",
       "      <th>frequency</th>\n",
       "    </tr>\n",
       "  </thead>\n",
       "  <tbody>\n",
       "    <tr>\n",
       "      <th>0</th>\n",
       "      <td></td>\n",
       "      <td>2348</td>\n",
       "    </tr>\n",
       "    <tr>\n",
       "      <th>1</th>\n",
       "      <td>b28</td>\n",
       "      <td>1453</td>\n",
       "    </tr>\n",
       "    <tr>\n",
       "      <th>2</th>\n",
       "      <td>f28</td>\n",
       "      <td>1443</td>\n",
       "    </tr>\n",
       "    <tr>\n",
       "      <th>3</th>\n",
       "      <td>b38</td>\n",
       "      <td>1105</td>\n",
       "    </tr>\n",
       "    <tr>\n",
       "      <th>4</th>\n",
       "      <td>f2</td>\n",
       "      <td>927</td>\n",
       "    </tr>\n",
       "    <tr>\n",
       "      <th>5</th>\n",
       "      <td>f29</td>\n",
       "      <td>782</td>\n",
       "    </tr>\n",
       "    <tr>\n",
       "      <th>6</th>\n",
       "      <td>b29</td>\n",
       "      <td>766</td>\n",
       "    </tr>\n",
       "    <tr>\n",
       "      <th>7</th>\n",
       "      <td>b2</td>\n",
       "      <td>761</td>\n",
       "    </tr>\n",
       "    <tr>\n",
       "      <th>8</th>\n",
       "      <td>f38</td>\n",
       "      <td>627</td>\n",
       "    </tr>\n",
       "    <tr>\n",
       "      <th>9</th>\n",
       "      <td>f18</td>\n",
       "      <td>567</td>\n",
       "    </tr>\n",
       "  </tbody>\n",
       "</table>\n",
       "</div>"
      ],
      "text/plain": [
       "  serve_return  frequency\n",
       "0                    2348\n",
       "1          b28       1453\n",
       "2          f28       1443\n",
       "3          b38       1105\n",
       "4           f2        927\n",
       "5          f29        782\n",
       "6          b29        766\n",
       "7           b2        761\n",
       "8          f38        627\n",
       "9          f18        567"
      ]
     },
     "execution_count": 135,
     "metadata": {},
     "output_type": "execute_result"
    }
   ],
   "source": [
    "serve_return_counts = df[\"serve_return\"].value_counts().reset_index()\n",
    "serve_return_counts.columns = [\"serve_return\", \"frequency\"]\n",
    "serve_return_counts = serve_return_counts.sort_values(\"frequency\", ascending=False )\n",
    "\n",
    "serve_return_counts.head(10)\n"
   ]
  },
  {
   "cell_type": "code",
   "execution_count": 136,
   "id": "4e463ca2",
   "metadata": {},
   "outputs": [
    {
     "data": {
      "image/png": "[encoded data removed]",
      "text/plain": [
       "<Figure size 640x480 with 1 Axes>"
      ]
     },
     "metadata": {},
     "output_type": "display_data"
    }
   ],
   "source": [
    "rally_count_dist = df[\"rallyCount\"]\n",
    "rally_count_dist = rally_count_dist.dropna()\n",
    "\n",
    "plt.hist(rally_count_dist)\n",
    "plt.xlabel(\"rally_count_dist\")\n",
    "plt.ylabel(\"Frequency\")\n",
    "plt.title(\"Distribution of rally count\")\n",
    "plt.show()"
   ]
  },
  {
   "cell_type": "code",
   "execution_count": 137,
   "id": "64d6539f",
   "metadata": {},
   "outputs": [
    {
     "name": "stdout",
     "output_type": "stream",
     "text": [
      "    rally_counts  frequency\n",
      "0              1       5127\n",
      "1              3       2735\n",
      "2              2       1753\n",
      "3              5       1559\n",
      "4              4       1377\n",
      "5              6       1013\n",
      "6              7        948\n",
      "7              8        656\n",
      "8              0        607\n",
      "9              9        561\n",
      "10            10        430\n",
      "11            11        350\n",
      "12            12        314\n",
      "13            13        265\n",
      "14            14        207\n",
      "15            15        172\n",
      "16            16        151\n",
      "17            17        104\n",
      "18            18         89\n",
      "19            19         64\n",
      "20            20         57\n",
      "21            21         49\n",
      "22            22         33\n",
      "23            23         30\n",
      "24            24         24\n",
      "25            25         20\n",
      "26            26          8\n",
      "27            28          8\n",
      "28            27          6\n",
      "31            30          5\n",
      "30            35          5\n",
      "29            29          5\n",
      "32            33          4\n",
      "33            31          4\n",
      "34            34          4\n",
      "35            36          2\n",
      "36            32          2\n",
      "37            53          1\n",
      "38            45          1\n",
      "39            40          1\n"
     ]
    }
   ],
   "source": [
    "rally_counts = df[\"rallyCount\"].value_counts().reset_index()\n",
    "rally_counts.columns = [\"rally_counts\", \"frequency\"]\n",
    "rally_counts = rally_counts.sort_values(\"frequency\", ascending=False )\n",
    "\n",
    "print(rally_counts)"
   ]
  },
  {
   "cell_type": "markdown",
   "id": "61c650ef",
   "metadata": {},
   "source": [
    "## Geração das features"
   ]
  },
  {
   "cell_type": "code",
   "execution_count": 13,
   "id": "3031a527-5f6a-4abd-8eec-111ae3af20c1",
   "metadata": {},
   "outputs": [],
   "source": [
    "features = ['Surface',\n",
    "            'Round',\n",
    "            'Grand Slam',\n",
    "            'i_serve',\n",
    "            'is_second_service',\n",
    "            'dir_srv',\n",
    "            'rallyCount',\n",
    "            'isUnforced',\n",
    "            'isForced',\n",
    "            \"serve_return\",\n",
    "            \"how_ended\"\n",
    "            ]\n",
    "X = df[features]\n",
    "y = df['i_win']"
   ]
  },
  {
   "cell_type": "code",
   "execution_count": 14,
   "id": "fb62c914-36fa-427c-aec2-c3d3d292a4f8",
   "metadata": {},
   "outputs": [],
   "source": [
    "feat_categorical = ['Surface','Round','dir_srv','serve_return','how_ended']"
   ]
  },
  {
   "cell_type": "code",
   "execution_count": 15,
   "id": "a2c7af67",
   "metadata": {},
   "outputs": [
    {
     "name": "stdout",
     "output_type": "stream",
     "text": [
      "<class 'pandas.core.frame.DataFrame'>\n",
      "Int64Index: 18751 entries, 0 to 19323\n",
      "Data columns (total 11 columns):\n",
      " #   Column             Non-Null Count  Dtype \n",
      "---  ------             --------------  ----- \n",
      " 0   Surface            18751 non-null  object\n",
      " 1   Round              18751 non-null  object\n",
      " 2   Grand Slam         18751 non-null  int64 \n",
      " 3   i_serve            18751 non-null  int64 \n",
      " 4   is_second_service  18751 non-null  int64 \n",
      " 5   dir_srv            18751 non-null  int64 \n",
      " 6   rallyCount         18751 non-null  int64 \n",
      " 7   isUnforced         18751 non-null  int64 \n",
      " 8   isForced           18751 non-null  int64 \n",
      " 9   serve_return       18751 non-null  object\n",
      " 10  how_ended          18751 non-null  object\n",
      "dtypes: int64(7), object(4)\n",
      "memory usage: 1.7+ MB\n"
     ]
    }
   ],
   "source": [
    "X.info()"
   ]
  },
  {
   "cell_type": "markdown",
   "id": "83398634",
   "metadata": {},
   "source": [
    "## separação - treino, teste e validação"
   ]
  },
  {
   "cell_type": "code",
   "execution_count": 46,
   "id": "62e0a7fa-03fb-4ae9-b7cc-12a592e1a5b6",
   "metadata": {},
   "outputs": [],
   "source": [
    "from sklearn.model_selection import train_test_split\n",
    "\n",
    "# Train-Test Split - ## parametro stratify ###\n",
    "X_train, X_test, y_train, y_test = train_test_split(X, y, test_size= 0.3, random_state=1)"
   ]
  },
  {
   "cell_type": "code",
   "execution_count": 47,
   "id": "7bbc63de",
   "metadata": {},
   "outputs": [
    {
     "name": "stdout",
     "output_type": "stream",
     "text": [
      "13125 train examples\n",
      "5626 test examples\n"
     ]
    }
   ],
   "source": [
    "print(len(X_train), 'train examples')\n",
    "print(len(X_test), 'test examples')"
   ]
  },
  {
   "cell_type": "code",
   "execution_count": 48,
   "id": "4012c1fc",
   "metadata": {},
   "outputs": [
    {
     "data": {
      "text/plain": [
       "79"
      ]
     },
     "execution_count": 48,
     "metadata": {},
     "output_type": "execute_result"
    }
   ],
   "source": [
    "X_train['serve_return'].nunique()"
   ]
  },
  {
   "cell_type": "markdown",
   "id": "42cf3ccb",
   "metadata": {},
   "source": [
    "## Inicio do modelo - pre processamento e encoder"
   ]
  },
  {
   "cell_type": "code",
   "execution_count": 49,
   "id": "2c363809",
   "metadata": {},
   "outputs": [],
   "source": [
    "from sklearn.preprocessing import StandardScaler, OneHotEncoder\n",
    "from sklearn.compose import make_column_transformer, make_column_selector\n",
    "from sklearn import set_config\n",
    "set_config(display=\"diagram\")"
   ]
  },
  {
   "cell_type": "code",
   "execution_count": 50,
   "id": "d94c320b",
   "metadata": {},
   "outputs": [
    {
     "data": {
      "text/html": [
       "<style>#sk-container-id-4 {color: black;background-color: white;}#sk-container-id-4 pre{padding: 0;}#sk-container-id-4 div.sk-toggleable {background-color: white;}#sk-container-id-4 label.sk-toggleable__label {cursor: pointer;display: block;width: 100%;margin-bottom: 0;padding: 0.3em;box-sizing: border-box;text-align: center;}#sk-container-id-4 label.sk-toggleable__label-arrow:before {content: \"▸\";float: left;margin-right: 0.25em;color: #696969;}#sk-container-id-4 label.sk-toggleable__label-arrow:hover:before {color: black;}#sk-container-id-4 div.sk-estimator:hover label.sk-toggleable__label-arrow:before {color: black;}#sk-container-id-4 div.sk-toggleable__content {max-height: 0;max-width: 0;overflow: hidden;text-align: left;background-color: #f0f8ff;}#sk-container-id-4 div.sk-toggleable__content pre {margin: 0.2em;color: black;border-radius: 0.25em;background-color: #f0f8ff;}#sk-container-id-4 input.sk-toggleable__control:checked~div.sk-toggleable__content {max-height: 200px;max-width: 100%;overflow: auto;}#sk-container-id-4 input.sk-toggleable__control:checked~label.sk-toggleable__label-arrow:before {content: \"▾\";}#sk-container-id-4 div.sk-estimator input.sk-toggleable__control:checked~label.sk-toggleable__label {background-color: #d4ebff;}#sk-container-id-4 div.sk-label input.sk-toggleable__control:checked~label.sk-toggleable__label {background-color: #d4ebff;}#sk-container-id-4 input.sk-hidden--visually {border: 0;clip: rect(1px 1px 1px 1px);clip: rect(1px, 1px, 1px, 1px);height: 1px;margin: -1px;overflow: hidden;padding: 0;position: absolute;width: 1px;}#sk-container-id-4 div.sk-estimator {font-family: monospace;background-color: #f0f8ff;border: 1px dotted black;border-radius: 0.25em;box-sizing: border-box;margin-bottom: 0.5em;}#sk-container-id-4 div.sk-estimator:hover {background-color: #d4ebff;}#sk-container-id-4 div.sk-parallel-item::after {content: \"\";width: 100%;border-bottom: 1px solid gray;flex-grow: 1;}#sk-container-id-4 div.sk-label:hover label.sk-toggleable__label {background-color: #d4ebff;}#sk-container-id-4 div.sk-serial::before {content: \"\";position: absolute;border-left: 1px solid gray;box-sizing: border-box;top: 0;bottom: 0;left: 50%;z-index: 0;}#sk-container-id-4 div.sk-serial {display: flex;flex-direction: column;align-items: center;background-color: white;padding-right: 0.2em;padding-left: 0.2em;position: relative;}#sk-container-id-4 div.sk-item {position: relative;z-index: 1;}#sk-container-id-4 div.sk-parallel {display: flex;align-items: stretch;justify-content: center;background-color: white;position: relative;}#sk-container-id-4 div.sk-item::before, #sk-container-id-4 div.sk-parallel-item::before {content: \"\";position: absolute;border-left: 1px solid gray;box-sizing: border-box;top: 0;bottom: 0;left: 50%;z-index: -1;}#sk-container-id-4 div.sk-parallel-item {display: flex;flex-direction: column;z-index: 1;position: relative;background-color: white;}#sk-container-id-4 div.sk-parallel-item:first-child::after {align-self: flex-end;width: 50%;}#sk-container-id-4 div.sk-parallel-item:last-child::after {align-self: flex-start;width: 50%;}#sk-container-id-4 div.sk-parallel-item:only-child::after {width: 0;}#sk-container-id-4 div.sk-dashed-wrapped {border: 1px dashed gray;margin: 0 0.4em 0.5em 0.4em;box-sizing: border-box;padding-bottom: 0.4em;background-color: white;}#sk-container-id-4 div.sk-label label {font-family: monospace;font-weight: bold;display: inline-block;line-height: 1.2em;}#sk-container-id-4 div.sk-label-container {text-align: center;}#sk-container-id-4 div.sk-container {/* jupyter's `normalize.less` sets `[hidden] { display: none; }` but bootstrap.min.css set `[hidden] { display: none !important; }` so we also need the `!important` here to be able to override the default hidden behavior on the sphinx rendered scikit-learn.org. See: https://github.com/scikit-learn/scikit-learn/issues/21755 */display: inline-block !important;position: relative;}#sk-container-id-4 div.sk-text-repr-fallback {display: none;}</style><div id=\"sk-container-id-4\" class=\"sk-top-container\"><div class=\"sk-text-repr-fallback\"><pre>ColumnTransformer(transformers=[(&#x27;standardscaler&#x27;, StandardScaler(),\n",
       "                                 &lt;sklearn.compose._column_transformer.make_column_selector object at 0x2818381c0&gt;),\n",
       "                                (&#x27;onehotencoder&#x27;,\n",
       "                                 OneHotEncoder(handle_unknown=&#x27;ignore&#x27;,\n",
       "                                               sparse_output=False),\n",
       "                                 &lt;sklearn.compose._column_transformer.make_column_selector object at 0x281838730&gt;)])</pre><b>In a Jupyter environment, please rerun this cell to show the HTML representation or trust the notebook. <br />On GitHub, the HTML representation is unable to render, please try loading this page with nbviewer.org.</b></div><div class=\"sk-container\" hidden><div class=\"sk-item sk-dashed-wrapped\"><div class=\"sk-label-container\"><div class=\"sk-label sk-toggleable\"><input class=\"sk-toggleable__control sk-hidden--visually\" id=\"sk-estimator-id-10\" type=\"checkbox\" ><label for=\"sk-estimator-id-10\" class=\"sk-toggleable__label sk-toggleable__label-arrow\">ColumnTransformer</label><div class=\"sk-toggleable__content\"><pre>ColumnTransformer(transformers=[(&#x27;standardscaler&#x27;, StandardScaler(),\n",
       "                                 &lt;sklearn.compose._column_transformer.make_column_selector object at 0x2818381c0&gt;),\n",
       "                                (&#x27;onehotencoder&#x27;,\n",
       "                                 OneHotEncoder(handle_unknown=&#x27;ignore&#x27;,\n",
       "                                               sparse_output=False),\n",
       "                                 &lt;sklearn.compose._column_transformer.make_column_selector object at 0x281838730&gt;)])</pre></div></div></div><div class=\"sk-parallel\"><div class=\"sk-parallel-item\"><div class=\"sk-item\"><div class=\"sk-label-container\"><div class=\"sk-label sk-toggleable\"><input class=\"sk-toggleable__control sk-hidden--visually\" id=\"sk-estimator-id-11\" type=\"checkbox\" ><label for=\"sk-estimator-id-11\" class=\"sk-toggleable__label sk-toggleable__label-arrow\">standardscaler</label><div class=\"sk-toggleable__content\"><pre>&lt;sklearn.compose._column_transformer.make_column_selector object at 0x2818381c0&gt;</pre></div></div></div><div class=\"sk-serial\"><div class=\"sk-item\"><div class=\"sk-estimator sk-toggleable\"><input class=\"sk-toggleable__control sk-hidden--visually\" id=\"sk-estimator-id-12\" type=\"checkbox\" ><label for=\"sk-estimator-id-12\" class=\"sk-toggleable__label sk-toggleable__label-arrow\">StandardScaler</label><div class=\"sk-toggleable__content\"><pre>StandardScaler()</pre></div></div></div></div></div></div><div class=\"sk-parallel-item\"><div class=\"sk-item\"><div class=\"sk-label-container\"><div class=\"sk-label sk-toggleable\"><input class=\"sk-toggleable__control sk-hidden--visually\" id=\"sk-estimator-id-13\" type=\"checkbox\" ><label for=\"sk-estimator-id-13\" class=\"sk-toggleable__label sk-toggleable__label-arrow\">onehotencoder</label><div class=\"sk-toggleable__content\"><pre>&lt;sklearn.compose._column_transformer.make_column_selector object at 0x281838730&gt;</pre></div></div></div><div class=\"sk-serial\"><div class=\"sk-item\"><div class=\"sk-estimator sk-toggleable\"><input class=\"sk-toggleable__control sk-hidden--visually\" id=\"sk-estimator-id-14\" type=\"checkbox\" ><label for=\"sk-estimator-id-14\" class=\"sk-toggleable__label sk-toggleable__label-arrow\">OneHotEncoder</label><div class=\"sk-toggleable__content\"><pre>OneHotEncoder(handle_unknown=&#x27;ignore&#x27;, sparse_output=False)</pre></div></div></div></div></div></div></div></div></div></div>"
      ],
      "text/plain": [
       "ColumnTransformer(transformers=[('standardscaler', StandardScaler(),\n",
       "                                 <sklearn.compose._column_transformer.make_column_selector object at 0x2818381c0>),\n",
       "                                ('onehotencoder',\n",
       "                                 OneHotEncoder(handle_unknown='ignore',\n",
       "                                               sparse_output=False),\n",
       "                                 <sklearn.compose._column_transformer.make_column_selector object at 0x281838730>)])"
      ]
     },
     "execution_count": 50,
     "metadata": {},
     "output_type": "execute_result"
    }
   ],
   "source": [
    "preproc = make_column_transformer(\n",
    "    (StandardScaler(), make_column_selector(dtype_exclude=[\"object\"])),\n",
    "    (OneHotEncoder(handle_unknown=\"ignore\", sparse_output=False), make_column_selector(dtype_include=[\"object\"]))\n",
    ")\n",
    "\n",
    "preproc"
   ]
  },
  {
   "cell_type": "code",
   "execution_count": 51,
   "id": "c2f17e9d",
   "metadata": {},
   "outputs": [
    {
     "data": {
      "text/plain": [
       "(13125, 108)"
      ]
     },
     "execution_count": 51,
     "metadata": {},
     "output_type": "execute_result"
    }
   ],
   "source": [
    "preproc.fit_transform(X_train).shape"
   ]
  },
  {
   "cell_type": "code",
   "execution_count": 52,
   "id": "4e19ce3d",
   "metadata": {},
   "outputs": [],
   "source": [
    "X_train_preproc = preproc.fit_transform(X_train)\n",
    "X_test_preproc = preproc.transform(X_test)"
   ]
  },
  {
   "cell_type": "markdown",
   "id": "7e4ad065",
   "metadata": {},
   "source": [
    "## Definição do modelo"
   ]
  },
  {
   "cell_type": "code",
   "execution_count": 53,
   "id": "21f8f9a6",
   "metadata": {},
   "outputs": [],
   "source": [
    "from tensorflow.keras import Sequential, layers\n",
    "from tensorflow.keras.layers.experimental import preprocessing\n",
    "from tensorflow.keras.callbacks import EarlyStopping"
   ]
  },
  {
   "cell_type": "code",
   "execution_count": 54,
   "id": "2148e496",
   "metadata": {},
   "outputs": [
    {
     "data": {
      "text/html": [
       "<style>#sk-container-id-5 {color: black;background-color: white;}#sk-container-id-5 pre{padding: 0;}#sk-container-id-5 div.sk-toggleable {background-color: white;}#sk-container-id-5 label.sk-toggleable__label {cursor: pointer;display: block;width: 100%;margin-bottom: 0;padding: 0.3em;box-sizing: border-box;text-align: center;}#sk-container-id-5 label.sk-toggleable__label-arrow:before {content: \"▸\";float: left;margin-right: 0.25em;color: #696969;}#sk-container-id-5 label.sk-toggleable__label-arrow:hover:before {color: black;}#sk-container-id-5 div.sk-estimator:hover label.sk-toggleable__label-arrow:before {color: black;}#sk-container-id-5 div.sk-toggleable__content {max-height: 0;max-width: 0;overflow: hidden;text-align: left;background-color: #f0f8ff;}#sk-container-id-5 div.sk-toggleable__content pre {margin: 0.2em;color: black;border-radius: 0.25em;background-color: #f0f8ff;}#sk-container-id-5 input.sk-toggleable__control:checked~div.sk-toggleable__content {max-height: 200px;max-width: 100%;overflow: auto;}#sk-container-id-5 input.sk-toggleable__control:checked~label.sk-toggleable__label-arrow:before {content: \"▾\";}#sk-container-id-5 div.sk-estimator input.sk-toggleable__control:checked~label.sk-toggleable__label {background-color: #d4ebff;}#sk-container-id-5 div.sk-label input.sk-toggleable__control:checked~label.sk-toggleable__label {background-color: #d4ebff;}#sk-container-id-5 input.sk-hidden--visually {border: 0;clip: rect(1px 1px 1px 1px);clip: rect(1px, 1px, 1px, 1px);height: 1px;margin: -1px;overflow: hidden;padding: 0;position: absolute;width: 1px;}#sk-container-id-5 div.sk-estimator {font-family: monospace;background-color: #f0f8ff;border: 1px dotted black;border-radius: 0.25em;box-sizing: border-box;margin-bottom: 0.5em;}#sk-container-id-5 div.sk-estimator:hover {background-color: #d4ebff;}#sk-container-id-5 div.sk-parallel-item::after {content: \"\";width: 100%;border-bottom: 1px solid gray;flex-grow: 1;}#sk-container-id-5 div.sk-label:hover label.sk-toggleable__label {background-color: #d4ebff;}#sk-container-id-5 div.sk-serial::before {content: \"\";position: absolute;border-left: 1px solid gray;box-sizing: border-box;top: 0;bottom: 0;left: 50%;z-index: 0;}#sk-container-id-5 div.sk-serial {display: flex;flex-direction: column;align-items: center;background-color: white;padding-right: 0.2em;padding-left: 0.2em;position: relative;}#sk-container-id-5 div.sk-item {position: relative;z-index: 1;}#sk-container-id-5 div.sk-parallel {display: flex;align-items: stretch;justify-content: center;background-color: white;position: relative;}#sk-container-id-5 div.sk-item::before, #sk-container-id-5 div.sk-parallel-item::before {content: \"\";position: absolute;border-left: 1px solid gray;box-sizing: border-box;top: 0;bottom: 0;left: 50%;z-index: -1;}#sk-container-id-5 div.sk-parallel-item {display: flex;flex-direction: column;z-index: 1;position: relative;background-color: white;}#sk-container-id-5 div.sk-parallel-item:first-child::after {align-self: flex-end;width: 50%;}#sk-container-id-5 div.sk-parallel-item:last-child::after {align-self: flex-start;width: 50%;}#sk-container-id-5 div.sk-parallel-item:only-child::after {width: 0;}#sk-container-id-5 div.sk-dashed-wrapped {border: 1px dashed gray;margin: 0 0.4em 0.5em 0.4em;box-sizing: border-box;padding-bottom: 0.4em;background-color: white;}#sk-container-id-5 div.sk-label label {font-family: monospace;font-weight: bold;display: inline-block;line-height: 1.2em;}#sk-container-id-5 div.sk-label-container {text-align: center;}#sk-container-id-5 div.sk-container {/* jupyter's `normalize.less` sets `[hidden] { display: none; }` but bootstrap.min.css set `[hidden] { display: none !important; }` so we also need the `!important` here to be able to override the default hidden behavior on the sphinx rendered scikit-learn.org. See: https://github.com/scikit-learn/scikit-learn/issues/21755 */display: inline-block !important;position: relative;}#sk-container-id-5 div.sk-text-repr-fallback {display: none;}</style><div id=\"sk-container-id-5\" class=\"sk-top-container\"><div class=\"sk-text-repr-fallback\"><pre>GridSearchCV(cv=3, estimator=GradientBoostingClassifier(random_state=5),\n",
       "             n_jobs=-1,\n",
       "             param_grid={&#x27;learning_rate&#x27;: [0.01, 0.1, 0.5],\n",
       "                         &#x27;max_depth&#x27;: [3, 5, 10], &#x27;max_features&#x27;: [&#x27;sqrt&#x27;],\n",
       "                         &#x27;min_samples_leaf&#x27;: [3, 5],\n",
       "                         &#x27;min_samples_split&#x27;: [5, 10],\n",
       "                         &#x27;n_estimators&#x27;: [100, 200]},\n",
       "             verbose=False)</pre><b>In a Jupyter environment, please rerun this cell to show the HTML representation or trust the notebook. <br />On GitHub, the HTML representation is unable to render, please try loading this page with nbviewer.org.</b></div><div class=\"sk-container\" hidden><div class=\"sk-item sk-dashed-wrapped\"><div class=\"sk-label-container\"><div class=\"sk-label sk-toggleable\"><input class=\"sk-toggleable__control sk-hidden--visually\" id=\"sk-estimator-id-15\" type=\"checkbox\" ><label for=\"sk-estimator-id-15\" class=\"sk-toggleable__label sk-toggleable__label-arrow\">GridSearchCV</label><div class=\"sk-toggleable__content\"><pre>GridSearchCV(cv=3, estimator=GradientBoostingClassifier(random_state=5),\n",
       "             n_jobs=-1,\n",
       "             param_grid={&#x27;learning_rate&#x27;: [0.01, 0.1, 0.5],\n",
       "                         &#x27;max_depth&#x27;: [3, 5, 10], &#x27;max_features&#x27;: [&#x27;sqrt&#x27;],\n",
       "                         &#x27;min_samples_leaf&#x27;: [3, 5],\n",
       "                         &#x27;min_samples_split&#x27;: [5, 10],\n",
       "                         &#x27;n_estimators&#x27;: [100, 200]},\n",
       "             verbose=False)</pre></div></div></div><div class=\"sk-parallel\"><div class=\"sk-parallel-item\"><div class=\"sk-item\"><div class=\"sk-label-container\"><div class=\"sk-label sk-toggleable\"><input class=\"sk-toggleable__control sk-hidden--visually\" id=\"sk-estimator-id-16\" type=\"checkbox\" ><label for=\"sk-estimator-id-16\" class=\"sk-toggleable__label sk-toggleable__label-arrow\">estimator: GradientBoostingClassifier</label><div class=\"sk-toggleable__content\"><pre>GradientBoostingClassifier(random_state=5)</pre></div></div></div><div class=\"sk-serial\"><div class=\"sk-item\"><div class=\"sk-estimator sk-toggleable\"><input class=\"sk-toggleable__control sk-hidden--visually\" id=\"sk-estimator-id-17\" type=\"checkbox\" ><label for=\"sk-estimator-id-17\" class=\"sk-toggleable__label sk-toggleable__label-arrow\">GradientBoostingClassifier</label><div class=\"sk-toggleable__content\"><pre>GradientBoostingClassifier(random_state=5)</pre></div></div></div></div></div></div></div></div></div></div>"
      ],
      "text/plain": [
       "GridSearchCV(cv=3, estimator=GradientBoostingClassifier(random_state=5),\n",
       "             n_jobs=-1,\n",
       "             param_grid={'learning_rate': [0.01, 0.1, 0.5],\n",
       "                         'max_depth': [3, 5, 10], 'max_features': ['sqrt'],\n",
       "                         'min_samples_leaf': [3, 5],\n",
       "                         'min_samples_split': [5, 10],\n",
       "                         'n_estimators': [100, 200]},\n",
       "             verbose=False)"
      ]
     },
     "execution_count": 54,
     "metadata": {},
     "output_type": "execute_result"
    }
   ],
   "source": [
    "gb = GradientBoostingClassifier(random_state=5)\n",
    "\n",
    "params = {\"learning_rate\": [0.01, 0.1, 0.5],\n",
    "            \"min_samples_split\": [5, 10],\n",
    "            \"min_samples_leaf\": [3, 5],\n",
    "            \"max_depth\":[3,5,10],\n",
    "            \"max_features\":[\"sqrt\"],\n",
    "            \"n_estimators\":[100, 200]} \n",
    "\n",
    "gb_cv = GridSearchCV(gb, params, cv = 3, n_jobs = -1, verbose = False)\n",
    "\n",
    "gb_cv.fit(X_train_preproc, np.ravel(y_train))"
   ]
  },
  {
   "cell_type": "code",
   "execution_count": 55,
   "id": "9553143a",
   "metadata": {},
   "outputs": [],
   "source": [
    "gb = gb_cv.best_estimator_"
   ]
  },
  {
   "cell_type": "code",
   "execution_count": 56,
   "id": "77f0107e",
   "metadata": {},
   "outputs": [
    {
     "data": {
      "text/html": [
       "<style>#sk-container-id-6 {color: black;background-color: white;}#sk-container-id-6 pre{padding: 0;}#sk-container-id-6 div.sk-toggleable {background-color: white;}#sk-container-id-6 label.sk-toggleable__label {cursor: pointer;display: block;width: 100%;margin-bottom: 0;padding: 0.3em;box-sizing: border-box;text-align: center;}#sk-container-id-6 label.sk-toggleable__label-arrow:before {content: \"▸\";float: left;margin-right: 0.25em;color: #696969;}#sk-container-id-6 label.sk-toggleable__label-arrow:hover:before {color: black;}#sk-container-id-6 div.sk-estimator:hover label.sk-toggleable__label-arrow:before {color: black;}#sk-container-id-6 div.sk-toggleable__content {max-height: 0;max-width: 0;overflow: hidden;text-align: left;background-color: #f0f8ff;}#sk-container-id-6 div.sk-toggleable__content pre {margin: 0.2em;color: black;border-radius: 0.25em;background-color: #f0f8ff;}#sk-container-id-6 input.sk-toggleable__control:checked~div.sk-toggleable__content {max-height: 200px;max-width: 100%;overflow: auto;}#sk-container-id-6 input.sk-toggleable__control:checked~label.sk-toggleable__label-arrow:before {content: \"▾\";}#sk-container-id-6 div.sk-estimator input.sk-toggleable__control:checked~label.sk-toggleable__label {background-color: #d4ebff;}#sk-container-id-6 div.sk-label input.sk-toggleable__control:checked~label.sk-toggleable__label {background-color: #d4ebff;}#sk-container-id-6 input.sk-hidden--visually {border: 0;clip: rect(1px 1px 1px 1px);clip: rect(1px, 1px, 1px, 1px);height: 1px;margin: -1px;overflow: hidden;padding: 0;position: absolute;width: 1px;}#sk-container-id-6 div.sk-estimator {font-family: monospace;background-color: #f0f8ff;border: 1px dotted black;border-radius: 0.25em;box-sizing: border-box;margin-bottom: 0.5em;}#sk-container-id-6 div.sk-estimator:hover {background-color: #d4ebff;}#sk-container-id-6 div.sk-parallel-item::after {content: \"\";width: 100%;border-bottom: 1px solid gray;flex-grow: 1;}#sk-container-id-6 div.sk-label:hover label.sk-toggleable__label {background-color: #d4ebff;}#sk-container-id-6 div.sk-serial::before {content: \"\";position: absolute;border-left: 1px solid gray;box-sizing: border-box;top: 0;bottom: 0;left: 50%;z-index: 0;}#sk-container-id-6 div.sk-serial {display: flex;flex-direction: column;align-items: center;background-color: white;padding-right: 0.2em;padding-left: 0.2em;position: relative;}#sk-container-id-6 div.sk-item {position: relative;z-index: 1;}#sk-container-id-6 div.sk-parallel {display: flex;align-items: stretch;justify-content: center;background-color: white;position: relative;}#sk-container-id-6 div.sk-item::before, #sk-container-id-6 div.sk-parallel-item::before {content: \"\";position: absolute;border-left: 1px solid gray;box-sizing: border-box;top: 0;bottom: 0;left: 50%;z-index: -1;}#sk-container-id-6 div.sk-parallel-item {display: flex;flex-direction: column;z-index: 1;position: relative;background-color: white;}#sk-container-id-6 div.sk-parallel-item:first-child::after {align-self: flex-end;width: 50%;}#sk-container-id-6 div.sk-parallel-item:last-child::after {align-self: flex-start;width: 50%;}#sk-container-id-6 div.sk-parallel-item:only-child::after {width: 0;}#sk-container-id-6 div.sk-dashed-wrapped {border: 1px dashed gray;margin: 0 0.4em 0.5em 0.4em;box-sizing: border-box;padding-bottom: 0.4em;background-color: white;}#sk-container-id-6 div.sk-label label {font-family: monospace;font-weight: bold;display: inline-block;line-height: 1.2em;}#sk-container-id-6 div.sk-label-container {text-align: center;}#sk-container-id-6 div.sk-container {/* jupyter's `normalize.less` sets `[hidden] { display: none; }` but bootstrap.min.css set `[hidden] { display: none !important; }` so we also need the `!important` here to be able to override the default hidden behavior on the sphinx rendered scikit-learn.org. See: https://github.com/scikit-learn/scikit-learn/issues/21755 */display: inline-block !important;position: relative;}#sk-container-id-6 div.sk-text-repr-fallback {display: none;}</style><div id=\"sk-container-id-6\" class=\"sk-top-container\"><div class=\"sk-text-repr-fallback\"><pre>GradientBoostingClassifier(learning_rate=0.5, max_depth=10, max_features=&#x27;sqrt&#x27;,\n",
       "                           min_samples_leaf=5, min_samples_split=5,\n",
       "                           n_estimators=200, random_state=5)</pre><b>In a Jupyter environment, please rerun this cell to show the HTML representation or trust the notebook. <br />On GitHub, the HTML representation is unable to render, please try loading this page with nbviewer.org.</b></div><div class=\"sk-container\" hidden><div class=\"sk-item\"><div class=\"sk-estimator sk-toggleable\"><input class=\"sk-toggleable__control sk-hidden--visually\" id=\"sk-estimator-id-18\" type=\"checkbox\" checked><label for=\"sk-estimator-id-18\" class=\"sk-toggleable__label sk-toggleable__label-arrow\">GradientBoostingClassifier</label><div class=\"sk-toggleable__content\"><pre>GradientBoostingClassifier(learning_rate=0.5, max_depth=10, max_features=&#x27;sqrt&#x27;,\n",
       "                           min_samples_leaf=5, min_samples_split=5,\n",
       "                           n_estimators=200, random_state=5)</pre></div></div></div></div></div>"
      ],
      "text/plain": [
       "GradientBoostingClassifier(learning_rate=0.5, max_depth=10, max_features='sqrt',\n",
       "                           min_samples_leaf=5, min_samples_split=5,\n",
       "                           n_estimators=200, random_state=5)"
      ]
     },
     "execution_count": 56,
     "metadata": {},
     "output_type": "execute_result"
    }
   ],
   "source": [
    "gb"
   ]
  },
  {
   "cell_type": "markdown",
   "id": "3819644b",
   "metadata": {},
   "source": [
    "## Resultado final / evaluate"
   ]
  },
  {
   "cell_type": "code",
   "execution_count": 60,
   "id": "76f0a0a6",
   "metadata": {},
   "outputs": [],
   "source": [
    "def plot_auc(model):\n",
    "    fpr, tpr, _ = roc_curve(y_test, model.predict_proba(X_test_preproc)[:,1]) #test AUC\n",
    "    plt.figure(figsize=(5,4))\n",
    "    plt.plot([0, 1], [0, 1], 'k--')\n",
    "    plt.plot(fpr, tpr, label=\"test\")\n",
    "\n",
    "    fpr_train, tpr_train, _ = roc_curve(y_train, model.predict_proba(X_train_preproc)[:,1]) #train AUC\n",
    "    plt.plot(fpr_train, tpr_train, label=\"train\")\n",
    "    auc_test = roc_auc_score(y_test, model.predict_proba(X_test_preproc)[:,1])\n",
    "    auc_train = roc_auc_score(y_train, model.predict_proba(X_train_preproc)[:,1])\n",
    "    plt.legend()\n",
    "    plt.title('Curva ROC')\n",
    "    print('AUC score é %.2f em dados de teste e %.2f em dados de treinamento.'%(auc_test, auc_train))\n",
    "    plt.show()\n",
    "    \n",
    "def plot_conf_matrix(model):\n",
    "    fig, ax = plt.subplots(figsize=(5,4))\n",
    "    cm = confusion_matrix(y_test, model.predict(X_test_preproc))\n",
    "    sns.heatmap(cm, annot=True, fmt=\"d\", cmap=\"Blues\")\n",
    "\n",
    "    ax.xaxis.set_ticklabels(['Derrota', 'Vitória'])\n",
    "    ax.yaxis.set_ticklabels(['Derrota', 'Vitória']);\n",
    "    ax.set_xlabel('Labels reais')\n",
    "    ax.set_ylabel('Labels preditas')\n",
    "    ax.set_title('Matriz de confusão')\n",
    "    plt.show()"
   ]
  },
  {
   "cell_type": "markdown",
   "id": "9912e903",
   "metadata": {},
   "source": [
    "**O que é curva ROC?**\n",
    "\n",
    "    ROC é uma curva de probabilidade e AUC representa o quão bem o modelo conseguiu separar as 2 classes, no nosso caso 'Vitória' e 'Derrota'. Quanto mais perto do canto superior esquerdo passa a cuva ROC no gráfico, melhor o desempenho dele, e, quanto maior o valor AUC, melhor o modelo é em prever corretamente essas classes."
   ]
  },
  {
   "cell_type": "code",
   "execution_count": 61,
   "id": "daa696aa",
   "metadata": {},
   "outputs": [
    {
     "name": "stdout",
     "output_type": "stream",
     "text": [
      "AUC score é 0.98 em dados de teste e 1.00 em dados de treinamento.\n"
     ]
    },
    {
     "data": {
      "image/png": "[encoded data removed]",
      "text/plain": [
       "<Figure size 500x400 with 1 Axes>"
      ]
     },
     "metadata": {},
     "output_type": "display_data"
    }
   ],
   "source": [
    "plot_auc(gb)"
   ]
  },
  {
   "cell_type": "markdown",
   "id": "eec277ad",
   "metadata": {},
   "source": [
    "**O que é matriz de confusão?**\n",
    "    \n",
    "    É uma visualização usada para analisar o desempenho de um classificador, contando as vezes em que o rótulo real e o rótulo previsto são iguais.\n",
    "    Nesse sentido, quanto maiores os valores na diagonal melhor, pois representa os casos que ambos rótulos reais e preditos foram definidos como \"Vitória\" ou ambos foram definidos como \"Derrota\"."
   ]
  },
  {
   "cell_type": "code",
   "execution_count": 62,
   "id": "5cbb2898",
   "metadata": {},
   "outputs": [
    {
     "data": {
      "image/png": "[encoded data removed]",
      "text/plain": [
       "<Figure size 500x400 with 2 Axes>"
      ]
     },
     "metadata": {},
     "output_type": "display_data"
    }
   ],
   "source": [
    "plot_conf_matrix(gb)"
   ]
  },
  {
   "cell_type": "code",
   "execution_count": null,
   "id": "7713ba27",
   "metadata": {},
   "outputs": [],
   "source": []
  }
 ],
 "metadata": {
  "kernelspec": {
   "display_name": "Python 3 (ipykernel)",
   "language": "python",
   "name": "python3"
  },
  "language_info": {
   "codemirror_mode": {
    "name": "ipython",
    "version": 3
   },
   "file_extension": ".py",
   "mimetype": "text/x-python",
   "name": "python",
   "nbconvert_exporter": "python",
   "pygments_lexer": "ipython3",
   "version": "3.10.6"
  },
  "toc": {
   "base_numbering": 1,
   "nav_menu": {},
   "number_sections": true,
   "sideBar": true,
   "skip_h1_title": false,
   "title_cell": "Table of Contents",
   "title_sidebar": "Contents",
   "toc_cell": false,
   "toc_position": {},
   "toc_section_display": true,
   "toc_window_display": false
  }
 },
 "nbformat": 4,
 "nbformat_minor": 5
}
