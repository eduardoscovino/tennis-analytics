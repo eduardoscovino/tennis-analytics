{
 "cells": [
  {
   "cell_type": "code",
   "execution_count": 46,
   "id": "1a6ba069",
   "metadata": {},
   "outputs": [],
   "source": [
    "import pandas as pd\n",
    "import numpy as np\n",
    "import seaborn as sns\n",
    "import matplotlib.pyplot as plt\n",
    "pd.options.display.max_columns = 50\n",
    "pd.options.display.max_rows = 100\n",
    "from sklearn.model_selection import train_test_split\n",
    "from sklearn.preprocessing import MinMaxScaler, StandardScaler\n",
    "from sklearn.pipeline import Pipeline, make_pipeline\n",
    "from sklearn.compose import ColumnTransformer, make_column_transformer, make_column_selector\n",
    "from sklearn.impute import SimpleImputer, KNNImputer\n",
    "from sklearn.preprocessing import RobustScaler, OneHotEncoder, OrdinalEncoder\n",
    "from sklearn.linear_model import LogisticRegression,LinearRegression\n",
    "from sklearn.model_selection import cross_val_score, cross_validate\n",
    "# Deep Learning\n",
    "import tensorflow as tf"
   ]
  },
  {
   "cell_type": "code",
   "execution_count": 3,
   "id": "3850e6c6",
   "metadata": {},
   "outputs": [],
   "source": [
    "def add_data_info():\n",
    "    df1 = pd.read_csv('https://raw.githubusercontent.com/JeffSackmann/tennis_MatchChartingProject/master/charting-m-points-from-2017.csv', encoding= 'unicode_escape', low_memory=False)\n",
    "    df2 = pd.read_csv('raw_data/charting-m-matches.csv', encoding= 'unicode_escape', low_memory=False)\n",
    "    \n",
    "    #get separated values from m-matches list of games - based on matchid\n",
    "    df = pd.merge(df1,df2[['match_id','Date','Tournament','Round','Surface','Player 1','Player 2']], on=['match_id'], how='left')\n",
    "    \n",
    "    #add the condition of \"Grand Slam\" - 5 or 3 sets\n",
    "    conditions = df['Tournament'].isin([\"Wimbledon\", \"Australian Open\", \"US Open\", \"Roland Garros\"])\n",
    "    values = [1,0]\n",
    "\n",
    "    # Create a new column  based on the conditions and values\n",
    "    df['Grand Slam'] = pd.Series(pd.NA)\n",
    "    df.loc[conditions, 'Grand Slam'] = values[0]\n",
    "    df.loc[~conditions, 'Grand Slam'] = values[1]\n",
    "    \n",
    "    # save the original dataset with enriched data for future features\n",
    "    df.to_csv('raw_data/charting-m-points-from-2017-enriched.csv', index=False)"
   ]
  },
  {
   "cell_type": "code",
   "execution_count": 4,
   "id": "d550ff49",
   "metadata": {},
   "outputs": [],
   "source": [
    "def filter_player(df,opponent):\n",
    "    \n",
    "    # Read the dataset into a pandas DataFrame - from enriched file\n",
    "    df = pd.read_csv(df, encoding= 'unicode_escape', low_memory=False)\n",
    "    \n",
    "    ## filtra pelo  oponente\n",
    "    df = df[(df[\"Player 1\"].str.contains(opponent)) | (df[\"Player 2\"].str.contains(opponent))].copy()\n",
    "    \n",
    "    ##define se está sacando e se ganhou o ponto\n",
    "    df['i_serve'] = np.where(((df['Svr'] == 1) & (df['Player 1'] == opponent )) | ((df['Svr'] == 2) & (df['Player 2'] == opponent)), 0, 1)\n",
    "    df['i_win'] = np.where(((df['isSvrWinner'] == df['i_serve'])), 1, 0)\n",
    "    df['is_second_service'] = np.where(((df['2nd'].isnull())), 0, 1)\n",
    "    \n",
    "    ## direção do saque\n",
    "    # primeiro caractere do segundo saque\n",
    "    df['dir_srv'] = df.loc[:, '2nd'].str[0]\n",
    "    ## completa com o primeiro caractere do primeiro saque quando ele entrou\n",
    "    df['dir_srv'].fillna(df.loc[:, '1st'].str[0], inplace=True)\n",
    "\n",
    "    \n",
    "    ##reseta o indice\n",
    "    df.reset_index(inplace=True)\n",
    "    \n",
    "    ## salva arquivo e retorna dataset da funcao\n",
    "    csv_file = \"raw_data/\" + opponent + \"_points.csv\"\n",
    "    df.to_csv(csv_file, index=False)\n",
    "    return df"
   ]
  },
  {
   "cell_type": "code",
   "execution_count": 106,
   "id": "5e7f4a50",
   "metadata": {},
   "outputs": [],
   "source": [
    "meaning_char = pd.read_csv('https://raw.githubusercontent.com/eduardoscovino/tennis-analytics/master/code_map.csv',\n",
    "                           encoding= 'unicode_escape', sep=';')"
   ]
  },
  {
   "cell_type": "code",
   "execution_count": 107,
   "id": "06f807d4",
   "metadata": {},
   "outputs": [],
   "source": [
    "add_data_info()"
   ]
  },
  {
   "cell_type": "code",
   "execution_count": 108,
   "id": "6f19a7cb",
   "metadata": {},
   "outputs": [],
   "source": [
    "df = filter_player('raw_data/charting-m-points-from-2017-enriched.csv','Novak Djokovic')"
   ]
  },
  {
   "cell_type": "code",
   "execution_count": 109,
   "id": "920f903c",
   "metadata": {},
   "outputs": [],
   "source": [
    "## serve direction encode \n",
    "df = df[df['dir_srv'].isin(['4','5','6'])]\n",
    "\n",
    "## to numeric for rallyCount and serve direction\n",
    "df['rallyCount']=pd.to_numeric(df['rallyCount'])\n",
    "df['dir_srv']=pd.to_numeric(df['dir_srv'])"
   ]
  },
  {
   "cell_type": "code",
   "execution_count": 110,
   "id": "15563b2b",
   "metadata": {},
   "outputs": [],
   "source": [
    "#Spliting Serve and Return\n",
    "df['rally_desc'] = df.loc[:, '2nd']\n",
    "df['rally_desc'].fillna(df.loc[:, '1st'], inplace=True)\n",
    "\n",
    "##df['Serve'] = df.loc[:, 'rally_desc'].str[0:1]\n",
    "\n",
    "df['rally_desc'] = df['rally_desc'].str[1:]\n",
    "\n",
    "sc = np.array(meaning_char[~meaning_char['code'].isin(['f', 'b', 'r', 's', '1', '2', '3', '7', '8', '9'])]['code'])\n",
    "\n",
    "#Spliting every shot\n",
    "df['rally_desc'] = df['rally_desc'].apply(lambda x: ''.join([c for c in x if c not in sc]))\n",
    "df['rally_desc'] = df['rally_desc'].str.replace('f',' f').str.replace('b',' b').str.replace('s',' s').str.replace('r',' r')\n",
    "df['rally_desc'] = df['rally_desc'].map(lambda x: x.lstrip(' ').rstrip(' '))"
   ]
  },
  {
   "cell_type": "code",
   "execution_count": 132,
   "id": "b6c616c5",
   "metadata": {},
   "outputs": [
    {
     "data": {
      "text/html": [
       "<div>\n",
       "<style scoped>\n",
       "    .dataframe tbody tr th:only-of-type {\n",
       "        vertical-align: middle;\n",
       "    }\n",
       "\n",
       "    .dataframe tbody tr th {\n",
       "        vertical-align: top;\n",
       "    }\n",
       "\n",
       "    .dataframe thead th {\n",
       "        text-align: right;\n",
       "    }\n",
       "</style>\n",
       "<table border=\"1\" class=\"dataframe\">\n",
       "  <thead>\n",
       "    <tr style=\"text-align: right;\">\n",
       "      <th></th>\n",
       "      <th>index</th>\n",
       "      <th>match_id</th>\n",
       "      <th>Pt</th>\n",
       "      <th>Set1</th>\n",
       "      <th>Set2</th>\n",
       "      <th>Gm1</th>\n",
       "      <th>Gm2</th>\n",
       "      <th>Pts</th>\n",
       "      <th>Gm#</th>\n",
       "      <th>TbSet</th>\n",
       "      <th>TB?</th>\n",
       "      <th>TBpt</th>\n",
       "      <th>Svr</th>\n",
       "      <th>Ret</th>\n",
       "      <th>Serving</th>\n",
       "      <th>1st</th>\n",
       "      <th>2nd</th>\n",
       "      <th>Notes</th>\n",
       "      <th>1stSV</th>\n",
       "      <th>2ndSV</th>\n",
       "      <th>1stIn</th>\n",
       "      <th>2ndIn</th>\n",
       "      <th>isAce</th>\n",
       "      <th>isUnret</th>\n",
       "      <th>isRallyWinner</th>\n",
       "      <th>isForced</th>\n",
       "      <th>isUnforced</th>\n",
       "      <th>isDouble</th>\n",
       "      <th>PtWinner</th>\n",
       "      <th>isSvrWinner</th>\n",
       "      <th>rallyCount</th>\n",
       "      <th>Date</th>\n",
       "      <th>Tournament</th>\n",
       "      <th>Round</th>\n",
       "      <th>Surface</th>\n",
       "      <th>Player 1</th>\n",
       "      <th>Player 2</th>\n",
       "      <th>Grand Slam</th>\n",
       "      <th>i_serve</th>\n",
       "      <th>i_win</th>\n",
       "      <th>is_second_service</th>\n",
       "      <th>dir_srv</th>\n",
       "      <th>rally_desc</th>\n",
       "      <th>serve_return</th>\n",
       "    </tr>\n",
       "  </thead>\n",
       "  <tbody>\n",
       "    <tr>\n",
       "      <th>0</th>\n",
       "      <td>637</td>\n",
       "      <td>20221120-M-Tour_Finals-F-Novak_Djokovic-Casper...</td>\n",
       "      <td>1</td>\n",
       "      <td>0</td>\n",
       "      <td>0</td>\n",
       "      <td>0</td>\n",
       "      <td>0</td>\n",
       "      <td>0-0</td>\n",
       "      <td>1 (1)</td>\n",
       "      <td>1</td>\n",
       "      <td>0</td>\n",
       "      <td>NaN</td>\n",
       "      <td>1</td>\n",
       "      <td>2</td>\n",
       "      <td>ND</td>\n",
       "      <td>4n</td>\n",
       "      <td>4f18f3s2f1f3b3n@</td>\n",
       "      <td>NaN</td>\n",
       "      <td>0</td>\n",
       "      <td>0.0</td>\n",
       "      <td>0</td>\n",
       "      <td>1.0</td>\n",
       "      <td>False</td>\n",
       "      <td>False</td>\n",
       "      <td>False</td>\n",
       "      <td>0</td>\n",
       "      <td>1</td>\n",
       "      <td>False</td>\n",
       "      <td>2</td>\n",
       "      <td>0</td>\n",
       "      <td>6</td>\n",
       "      <td>20221120</td>\n",
       "      <td>Tour Finals</td>\n",
       "      <td>F</td>\n",
       "      <td>Hard</td>\n",
       "      <td>Novak Djokovic</td>\n",
       "      <td>Casper Ruud</td>\n",
       "      <td>0</td>\n",
       "      <td>0</td>\n",
       "      <td>1</td>\n",
       "      <td>1</td>\n",
       "      <td>4</td>\n",
       "      <td>f18 f3 s2 f1 f3 b3</td>\n",
       "      <td>f18</td>\n",
       "    </tr>\n",
       "    <tr>\n",
       "      <th>1</th>\n",
       "      <td>638</td>\n",
       "      <td>20221120-M-Tour_Finals-F-Novak_Djokovic-Casper...</td>\n",
       "      <td>2</td>\n",
       "      <td>0</td>\n",
       "      <td>0</td>\n",
       "      <td>0</td>\n",
       "      <td>0</td>\n",
       "      <td>0-15</td>\n",
       "      <td>1 (2)</td>\n",
       "      <td>1</td>\n",
       "      <td>0</td>\n",
       "      <td>NaN</td>\n",
       "      <td>1</td>\n",
       "      <td>2</td>\n",
       "      <td>ND</td>\n",
       "      <td>4n</td>\n",
       "      <td>6f2n#</td>\n",
       "      <td>NaN</td>\n",
       "      <td>0</td>\n",
       "      <td>0.0</td>\n",
       "      <td>0</td>\n",
       "      <td>1.0</td>\n",
       "      <td>False</td>\n",
       "      <td>False</td>\n",
       "      <td>False</td>\n",
       "      <td>1</td>\n",
       "      <td>0</td>\n",
       "      <td>False</td>\n",
       "      <td>1</td>\n",
       "      <td>1</td>\n",
       "      <td>1</td>\n",
       "      <td>20221120</td>\n",
       "      <td>Tour Finals</td>\n",
       "      <td>F</td>\n",
       "      <td>Hard</td>\n",
       "      <td>Novak Djokovic</td>\n",
       "      <td>Casper Ruud</td>\n",
       "      <td>0</td>\n",
       "      <td>0</td>\n",
       "      <td>0</td>\n",
       "      <td>1</td>\n",
       "      <td>6</td>\n",
       "      <td>f2</td>\n",
       "      <td>f2</td>\n",
       "    </tr>\n",
       "    <tr>\n",
       "      <th>2</th>\n",
       "      <td>639</td>\n",
       "      <td>20221120-M-Tour_Finals-F-Novak_Djokovic-Casper...</td>\n",
       "      <td>3</td>\n",
       "      <td>0</td>\n",
       "      <td>0</td>\n",
       "      <td>0</td>\n",
       "      <td>0</td>\n",
       "      <td>15-15</td>\n",
       "      <td>1 (3)</td>\n",
       "      <td>1</td>\n",
       "      <td>0</td>\n",
       "      <td>NaN</td>\n",
       "      <td>1</td>\n",
       "      <td>2</td>\n",
       "      <td>ND</td>\n",
       "      <td>4*</td>\n",
       "      <td>NaN</td>\n",
       "      <td>Failed Ruud challenge</td>\n",
       "      <td>0</td>\n",
       "      <td>NaN</td>\n",
       "      <td>1</td>\n",
       "      <td>NaN</td>\n",
       "      <td>True</td>\n",
       "      <td>False</td>\n",
       "      <td>False</td>\n",
       "      <td>0</td>\n",
       "      <td>0</td>\n",
       "      <td>False</td>\n",
       "      <td>1</td>\n",
       "      <td>1</td>\n",
       "      <td>1</td>\n",
       "      <td>20221120</td>\n",
       "      <td>Tour Finals</td>\n",
       "      <td>F</td>\n",
       "      <td>Hard</td>\n",
       "      <td>Novak Djokovic</td>\n",
       "      <td>Casper Ruud</td>\n",
       "      <td>0</td>\n",
       "      <td>0</td>\n",
       "      <td>0</td>\n",
       "      <td>0</td>\n",
       "      <td>4</td>\n",
       "      <td></td>\n",
       "      <td></td>\n",
       "    </tr>\n",
       "    <tr>\n",
       "      <th>3</th>\n",
       "      <td>640</td>\n",
       "      <td>20221120-M-Tour_Finals-F-Novak_Djokovic-Casper...</td>\n",
       "      <td>4</td>\n",
       "      <td>0</td>\n",
       "      <td>0</td>\n",
       "      <td>0</td>\n",
       "      <td>0</td>\n",
       "      <td>30-15</td>\n",
       "      <td>1 (4)</td>\n",
       "      <td>1</td>\n",
       "      <td>0</td>\n",
       "      <td>NaN</td>\n",
       "      <td>1</td>\n",
       "      <td>2</td>\n",
       "      <td>ND</td>\n",
       "      <td>4n</td>\n",
       "      <td>5b3n@</td>\n",
       "      <td>NaN</td>\n",
       "      <td>0</td>\n",
       "      <td>0.0</td>\n",
       "      <td>0</td>\n",
       "      <td>1.0</td>\n",
       "      <td>False</td>\n",
       "      <td>False</td>\n",
       "      <td>False</td>\n",
       "      <td>0</td>\n",
       "      <td>1</td>\n",
       "      <td>False</td>\n",
       "      <td>1</td>\n",
       "      <td>1</td>\n",
       "      <td>1</td>\n",
       "      <td>20221120</td>\n",
       "      <td>Tour Finals</td>\n",
       "      <td>F</td>\n",
       "      <td>Hard</td>\n",
       "      <td>Novak Djokovic</td>\n",
       "      <td>Casper Ruud</td>\n",
       "      <td>0</td>\n",
       "      <td>0</td>\n",
       "      <td>0</td>\n",
       "      <td>1</td>\n",
       "      <td>5</td>\n",
       "      <td>b3</td>\n",
       "      <td>b3</td>\n",
       "    </tr>\n",
       "    <tr>\n",
       "      <th>4</th>\n",
       "      <td>641</td>\n",
       "      <td>20221120-M-Tour_Finals-F-Novak_Djokovic-Casper...</td>\n",
       "      <td>5</td>\n",
       "      <td>0</td>\n",
       "      <td>0</td>\n",
       "      <td>0</td>\n",
       "      <td>0</td>\n",
       "      <td>40-15</td>\n",
       "      <td>1 (5)</td>\n",
       "      <td>1</td>\n",
       "      <td>0</td>\n",
       "      <td>NaN</td>\n",
       "      <td>1</td>\n",
       "      <td>2</td>\n",
       "      <td>ND</td>\n",
       "      <td>4r28f1r2f3b3f2f1f1f3b3b3b1r2n#</td>\n",
       "      <td>NaN</td>\n",
       "      <td>NaN</td>\n",
       "      <td>0</td>\n",
       "      <td>NaN</td>\n",
       "      <td>1</td>\n",
       "      <td>NaN</td>\n",
       "      <td>False</td>\n",
       "      <td>False</td>\n",
       "      <td>False</td>\n",
       "      <td>1</td>\n",
       "      <td>0</td>\n",
       "      <td>False</td>\n",
       "      <td>1</td>\n",
       "      <td>1</td>\n",
       "      <td>13</td>\n",
       "      <td>20221120</td>\n",
       "      <td>Tour Finals</td>\n",
       "      <td>F</td>\n",
       "      <td>Hard</td>\n",
       "      <td>Novak Djokovic</td>\n",
       "      <td>Casper Ruud</td>\n",
       "      <td>0</td>\n",
       "      <td>0</td>\n",
       "      <td>0</td>\n",
       "      <td>0</td>\n",
       "      <td>4</td>\n",
       "      <td>r28 f1 r2 f3 b3 f2 f1 f1 f3 b3 b3 b1 r2</td>\n",
       "      <td>r28</td>\n",
       "    </tr>\n",
       "  </tbody>\n",
       "</table>\n",
       "</div>"
      ],
      "text/plain": [
       "   index                                           match_id  Pt  Set1  Set2  \\\n",
       "0    637  20221120-M-Tour_Finals-F-Novak_Djokovic-Casper...   1     0     0   \n",
       "1    638  20221120-M-Tour_Finals-F-Novak_Djokovic-Casper...   2     0     0   \n",
       "2    639  20221120-M-Tour_Finals-F-Novak_Djokovic-Casper...   3     0     0   \n",
       "3    640  20221120-M-Tour_Finals-F-Novak_Djokovic-Casper...   4     0     0   \n",
       "4    641  20221120-M-Tour_Finals-F-Novak_Djokovic-Casper...   5     0     0   \n",
       "\n",
       "   Gm1  Gm2    Pts    Gm# TbSet TB?  TBpt  Svr  Ret Serving  \\\n",
       "0    0    0    0-0  1 (1)     1   0   NaN    1    2      ND   \n",
       "1    0    0   0-15  1 (2)     1   0   NaN    1    2      ND   \n",
       "2    0    0  15-15  1 (3)     1   0   NaN    1    2      ND   \n",
       "3    0    0  30-15  1 (4)     1   0   NaN    1    2      ND   \n",
       "4    0    0  40-15  1 (5)     1   0   NaN    1    2      ND   \n",
       "\n",
       "                              1st               2nd                  Notes  \\\n",
       "0                              4n  4f18f3s2f1f3b3n@                    NaN   \n",
       "1                              4n             6f2n#                    NaN   \n",
       "2                              4*               NaN  Failed Ruud challenge   \n",
       "3                              4n             5b3n@                    NaN   \n",
       "4  4r28f1r2f3b3f2f1f1f3b3b3b1r2n#               NaN                    NaN   \n",
       "\n",
       "   1stSV  2ndSV  1stIn  2ndIn  isAce  isUnret  isRallyWinner  isForced  \\\n",
       "0      0    0.0      0    1.0  False    False          False         0   \n",
       "1      0    0.0      0    1.0  False    False          False         1   \n",
       "2      0    NaN      1    NaN   True    False          False         0   \n",
       "3      0    0.0      0    1.0  False    False          False         0   \n",
       "4      0    NaN      1    NaN  False    False          False         1   \n",
       "\n",
       "   isUnforced  isDouble  PtWinner  isSvrWinner  rallyCount      Date  \\\n",
       "0           1     False         2            0           6  20221120   \n",
       "1           0     False         1            1           1  20221120   \n",
       "2           0     False         1            1           1  20221120   \n",
       "3           1     False         1            1           1  20221120   \n",
       "4           0     False         1            1          13  20221120   \n",
       "\n",
       "    Tournament Round Surface        Player 1     Player 2  Grand Slam  \\\n",
       "0  Tour Finals     F    Hard  Novak Djokovic  Casper Ruud           0   \n",
       "1  Tour Finals     F    Hard  Novak Djokovic  Casper Ruud           0   \n",
       "2  Tour Finals     F    Hard  Novak Djokovic  Casper Ruud           0   \n",
       "3  Tour Finals     F    Hard  Novak Djokovic  Casper Ruud           0   \n",
       "4  Tour Finals     F    Hard  Novak Djokovic  Casper Ruud           0   \n",
       "\n",
       "   i_serve  i_win  is_second_service  dir_srv  \\\n",
       "0        0      1                  1        4   \n",
       "1        0      0                  1        6   \n",
       "2        0      0                  0        4   \n",
       "3        0      0                  1        5   \n",
       "4        0      0                  0        4   \n",
       "\n",
       "                                rally_desc serve_return  \n",
       "0                       f18 f3 s2 f1 f3 b3          f18  \n",
       "1                                       f2           f2  \n",
       "2                                                        \n",
       "3                                       b3           b3  \n",
       "4  r28 f1 r2 f3 b3 f2 f1 f1 f3 b3 b3 b1 r2          r28  "
      ]
     },
     "execution_count": 132,
     "metadata": {},
     "output_type": "execute_result"
    }
   ],
   "source": [
    "df.head()"
   ]
  },
  {
   "cell_type": "code",
   "execution_count": 115,
   "id": "5b32260b",
   "metadata": {},
   "outputs": [],
   "source": [
    "df['isUnforced'] = df['isUnforced'].replace({True: 1, False: 0})\n",
    "df['isForced'] = df['isForced'].replace({True: 1, False: 0})\n",
    "df['serve_return'] = df['rally_desc'].map(lambda x: x.split(' ')).str[0]"
   ]
  },
  {
   "cell_type": "markdown",
   "id": "d8f6d7c5",
   "metadata": {},
   "source": [
    "## Dataset finalizado ##"
   ]
  },
  {
   "cell_type": "code",
   "execution_count": 117,
   "id": "4f9a9ea2",
   "metadata": {
    "scrolled": true
   },
   "outputs": [
    {
     "data": {
      "text/plain": [
       "588"
      ]
     },
     "execution_count": 117,
     "metadata": {},
     "output_type": "execute_result"
    }
   ],
   "source": [
    "df['serve_return'].nunique()"
   ]
  },
  {
   "cell_type": "code",
   "execution_count": 118,
   "id": "bb193945",
   "metadata": {},
   "outputs": [
    {
     "data": {
      "text/plain": [
       "9812"
      ]
     },
     "execution_count": 118,
     "metadata": {},
     "output_type": "execute_result"
    }
   ],
   "source": [
    "df['rally_desc'].nunique()"
   ]
  },
  {
   "cell_type": "code",
   "execution_count": 85,
   "id": "eaeca825",
   "metadata": {},
   "outputs": [],
   "source": [
    "#df = df[df['serve_return']!=\"\"]"
   ]
  },
  {
   "cell_type": "code",
   "execution_count": 119,
   "id": "0040d2d3",
   "metadata": {},
   "outputs": [
    {
     "name": "stdout",
     "output_type": "stream",
     "text": [
      "<class 'pandas.core.frame.DataFrame'>\n",
      "Int64Index: 18751 entries, 0 to 19323\n",
      "Data columns (total 44 columns):\n",
      " #   Column             Non-Null Count  Dtype  \n",
      "---  ------             --------------  -----  \n",
      " 0   index              18751 non-null  int64  \n",
      " 1   match_id           18751 non-null  object \n",
      " 2   Pt                 18751 non-null  int64  \n",
      " 3   Set1               18751 non-null  int64  \n",
      " 4   Set2               18751 non-null  int64  \n",
      " 5   Gm1                18751 non-null  int64  \n",
      " 6   Gm2                18751 non-null  int64  \n",
      " 7   Pts                18751 non-null  object \n",
      " 8   Gm#                18751 non-null  object \n",
      " 9   TbSet              18751 non-null  object \n",
      " 10  TB?                18751 non-null  object \n",
      " 11  TBpt               656 non-null    float64\n",
      " 12  Svr                18751 non-null  int64  \n",
      " 13  Ret                18751 non-null  int64  \n",
      " 14  Serving            18751 non-null  object \n",
      " 15  1st                18751 non-null  object \n",
      " 16  2nd                6630 non-null   object \n",
      " 17  Notes              2315 non-null   object \n",
      " 18  1stSV              18751 non-null  int64  \n",
      " 19  2ndSV              6630 non-null   float64\n",
      " 20  1stIn              18751 non-null  int64  \n",
      " 21  2ndIn              6630 non-null   float64\n",
      " 22  isAce              18751 non-null  bool   \n",
      " 23  isUnret            18751 non-null  bool   \n",
      " 24  isRallyWinner      18751 non-null  bool   \n",
      " 25  isForced           18751 non-null  int64  \n",
      " 26  isUnforced         18751 non-null  int64  \n",
      " 27  isDouble           18751 non-null  bool   \n",
      " 28  PtWinner           18751 non-null  int64  \n",
      " 29  isSvrWinner        18751 non-null  int64  \n",
      " 30  rallyCount         18751 non-null  int64  \n",
      " 31  Date               18751 non-null  int64  \n",
      " 32  Tournament         18751 non-null  object \n",
      " 33  Round              18751 non-null  object \n",
      " 34  Surface            18751 non-null  object \n",
      " 35  Player 1           18751 non-null  object \n",
      " 36  Player 2           18751 non-null  object \n",
      " 37  Grand Slam         18751 non-null  int64  \n",
      " 38  i_serve            18751 non-null  int64  \n",
      " 39  i_win              18751 non-null  int64  \n",
      " 40  is_second_service  18751 non-null  int64  \n",
      " 41  dir_srv            18751 non-null  int64  \n",
      " 42  rally_desc         18751 non-null  object \n",
      " 43  serve_return       18751 non-null  object \n",
      "dtypes: bool(4), float64(3), int64(21), object(16)\n",
      "memory usage: 5.9+ MB\n"
     ]
    }
   ],
   "source": [
    "df.info()"
   ]
  },
  {
   "cell_type": "markdown",
   "id": "a6cd010f",
   "metadata": {},
   "source": [
    "## Geração das features"
   ]
  },
  {
   "cell_type": "code",
   "execution_count": 122,
   "id": "3031a527-5f6a-4abd-8eec-111ae3af20c1",
   "metadata": {},
   "outputs": [],
   "source": [
    "features = ['Surface',\n",
    "            'Round',\n",
    "            'Grand Slam',\n",
    "            'i_serve',\n",
    "            'is_second_service',\n",
    "            'dir_srv',\n",
    "            'rallyCount',\n",
    "            'isUnforced',\n",
    "            'isForced',\n",
    "            \"serve_return\"\n",
    "            ]\n",
    "X = df[features]\n",
    "y = df['i_win']"
   ]
  },
  {
   "cell_type": "code",
   "execution_count": 123,
   "id": "fb62c914-36fa-427c-aec2-c3d3d292a4f8",
   "metadata": {},
   "outputs": [],
   "source": [
    "feat_categorical = ['Surface','Round','dir_srv','serve_return']"
   ]
  },
  {
   "cell_type": "code",
   "execution_count": 124,
   "id": "a2c7af67",
   "metadata": {},
   "outputs": [
    {
     "name": "stdout",
     "output_type": "stream",
     "text": [
      "<class 'pandas.core.frame.DataFrame'>\n",
      "Int64Index: 18751 entries, 0 to 19323\n",
      "Data columns (total 10 columns):\n",
      " #   Column             Non-Null Count  Dtype \n",
      "---  ------             --------------  ----- \n",
      " 0   Surface            18751 non-null  object\n",
      " 1   Round              18751 non-null  object\n",
      " 2   Grand Slam         18751 non-null  int64 \n",
      " 3   i_serve            18751 non-null  int64 \n",
      " 4   is_second_service  18751 non-null  int64 \n",
      " 5   dir_srv            18751 non-null  int64 \n",
      " 6   rallyCount         18751 non-null  int64 \n",
      " 7   isUnforced         18751 non-null  int64 \n",
      " 8   isForced           18751 non-null  int64 \n",
      " 9   serve_return       18751 non-null  object\n",
      "dtypes: int64(7), object(3)\n",
      "memory usage: 1.6+ MB\n"
     ]
    }
   ],
   "source": [
    "X.info()"
   ]
  },
  {
   "cell_type": "markdown",
   "id": "b0650eb9",
   "metadata": {},
   "source": [
    "## separação - treino, teste e validação"
   ]
  },
  {
   "cell_type": "code",
   "execution_count": 126,
   "id": "62e0a7fa-03fb-4ae9-b7cc-12a592e1a5b6",
   "metadata": {},
   "outputs": [],
   "source": [
    "from sklearn.model_selection import train_test_split\n",
    "\n",
    "# Train-Test Split - ## parametro stratify ###\n",
    "train, test = train_test_split(df, test_size=0.3)\n",
    "\n",
    "# Train-Val Split\n",
    "train, val = train_test_split(train, test_size=0.3)\n"
   ]
  },
  {
   "cell_type": "code",
   "execution_count": 127,
   "id": "e7395454",
   "metadata": {},
   "outputs": [],
   "source": [
    "## Separating features and target in the Train, Val and Test Set\n",
    "\n",
    "X_train = train[features]\n",
    "y_train = train['i_win']\n",
    "\n",
    "X_val = val[features]\n",
    "y_val = val['i_win']\n",
    "\n",
    "X_test = test[features]\n",
    "y_test = test['i_win']"
   ]
  },
  {
   "cell_type": "code",
   "execution_count": 128,
   "id": "7bbc63de",
   "metadata": {},
   "outputs": [
    {
     "name": "stdout",
     "output_type": "stream",
     "text": [
      "9187 train examples\n",
      "3938 validation examples\n",
      "5626 test examples\n"
     ]
    }
   ],
   "source": [
    "print(len(train), 'train examples')\n",
    "print(len(val), 'validation examples')\n",
    "print(len(test), 'test examples')"
   ]
  },
  {
   "cell_type": "code",
   "execution_count": 131,
   "id": "d01d9ed2",
   "metadata": {},
   "outputs": [
    {
     "data": {
      "text/plain": [
       "384"
      ]
     },
     "execution_count": 131,
     "metadata": {},
     "output_type": "execute_result"
    }
   ],
   "source": [
    "X_train['serve_return'].nunique()"
   ]
  },
  {
   "cell_type": "markdown",
   "id": "0f89219f",
   "metadata": {},
   "source": [
    "## Inicio do modelo - pre processamento e encoder"
   ]
  },
  {
   "cell_type": "code",
   "execution_count": 95,
   "id": "2c363809",
   "metadata": {},
   "outputs": [],
   "source": [
    "from sklearn.preprocessing import StandardScaler, OneHotEncoder\n",
    "from sklearn.compose import make_column_transformer, make_column_selector\n",
    "from sklearn import set_config\n",
    "set_config(display=\"diagram\")"
   ]
  },
  {
   "cell_type": "code",
   "execution_count": 96,
   "id": "d94c320b",
   "metadata": {},
   "outputs": [
    {
     "data": {
      "text/html": [
       "<style>#sk-container-id-5 {color: black;background-color: white;}#sk-container-id-5 pre{padding: 0;}#sk-container-id-5 div.sk-toggleable {background-color: white;}#sk-container-id-5 label.sk-toggleable__label {cursor: pointer;display: block;width: 100%;margin-bottom: 0;padding: 0.3em;box-sizing: border-box;text-align: center;}#sk-container-id-5 label.sk-toggleable__label-arrow:before {content: \"▸\";float: left;margin-right: 0.25em;color: #696969;}#sk-container-id-5 label.sk-toggleable__label-arrow:hover:before {color: black;}#sk-container-id-5 div.sk-estimator:hover label.sk-toggleable__label-arrow:before {color: black;}#sk-container-id-5 div.sk-toggleable__content {max-height: 0;max-width: 0;overflow: hidden;text-align: left;background-color: #f0f8ff;}#sk-container-id-5 div.sk-toggleable__content pre {margin: 0.2em;color: black;border-radius: 0.25em;background-color: #f0f8ff;}#sk-container-id-5 input.sk-toggleable__control:checked~div.sk-toggleable__content {max-height: 200px;max-width: 100%;overflow: auto;}#sk-container-id-5 input.sk-toggleable__control:checked~label.sk-toggleable__label-arrow:before {content: \"▾\";}#sk-container-id-5 div.sk-estimator input.sk-toggleable__control:checked~label.sk-toggleable__label {background-color: #d4ebff;}#sk-container-id-5 div.sk-label input.sk-toggleable__control:checked~label.sk-toggleable__label {background-color: #d4ebff;}#sk-container-id-5 input.sk-hidden--visually {border: 0;clip: rect(1px 1px 1px 1px);clip: rect(1px, 1px, 1px, 1px);height: 1px;margin: -1px;overflow: hidden;padding: 0;position: absolute;width: 1px;}#sk-container-id-5 div.sk-estimator {font-family: monospace;background-color: #f0f8ff;border: 1px dotted black;border-radius: 0.25em;box-sizing: border-box;margin-bottom: 0.5em;}#sk-container-id-5 div.sk-estimator:hover {background-color: #d4ebff;}#sk-container-id-5 div.sk-parallel-item::after {content: \"\";width: 100%;border-bottom: 1px solid gray;flex-grow: 1;}#sk-container-id-5 div.sk-label:hover label.sk-toggleable__label {background-color: #d4ebff;}#sk-container-id-5 div.sk-serial::before {content: \"\";position: absolute;border-left: 1px solid gray;box-sizing: border-box;top: 0;bottom: 0;left: 50%;z-index: 0;}#sk-container-id-5 div.sk-serial {display: flex;flex-direction: column;align-items: center;background-color: white;padding-right: 0.2em;padding-left: 0.2em;position: relative;}#sk-container-id-5 div.sk-item {position: relative;z-index: 1;}#sk-container-id-5 div.sk-parallel {display: flex;align-items: stretch;justify-content: center;background-color: white;position: relative;}#sk-container-id-5 div.sk-item::before, #sk-container-id-5 div.sk-parallel-item::before {content: \"\";position: absolute;border-left: 1px solid gray;box-sizing: border-box;top: 0;bottom: 0;left: 50%;z-index: -1;}#sk-container-id-5 div.sk-parallel-item {display: flex;flex-direction: column;z-index: 1;position: relative;background-color: white;}#sk-container-id-5 div.sk-parallel-item:first-child::after {align-self: flex-end;width: 50%;}#sk-container-id-5 div.sk-parallel-item:last-child::after {align-self: flex-start;width: 50%;}#sk-container-id-5 div.sk-parallel-item:only-child::after {width: 0;}#sk-container-id-5 div.sk-dashed-wrapped {border: 1px dashed gray;margin: 0 0.4em 0.5em 0.4em;box-sizing: border-box;padding-bottom: 0.4em;background-color: white;}#sk-container-id-5 div.sk-label label {font-family: monospace;font-weight: bold;display: inline-block;line-height: 1.2em;}#sk-container-id-5 div.sk-label-container {text-align: center;}#sk-container-id-5 div.sk-container {/* jupyter's `normalize.less` sets `[hidden] { display: none; }` but bootstrap.min.css set `[hidden] { display: none !important; }` so we also need the `!important` here to be able to override the default hidden behavior on the sphinx rendered scikit-learn.org. See: https://github.com/scikit-learn/scikit-learn/issues/21755 */display: inline-block !important;position: relative;}#sk-container-id-5 div.sk-text-repr-fallback {display: none;}</style><div id=\"sk-container-id-5\" class=\"sk-top-container\"><div class=\"sk-text-repr-fallback\"><pre>ColumnTransformer(transformers=[(&#x27;standardscaler&#x27;, StandardScaler(),\n",
       "                                 &lt;sklearn.compose._column_transformer.make_column_selector object at 0x299d7fe20&gt;),\n",
       "                                (&#x27;onehotencoder&#x27;,\n",
       "                                 OneHotEncoder(handle_unknown=&#x27;ignore&#x27;,\n",
       "                                               sparse_output=False),\n",
       "                                 &lt;sklearn.compose._column_transformer.make_column_selector object at 0x299d7f8e0&gt;)])</pre><b>In a Jupyter environment, please rerun this cell to show the HTML representation or trust the notebook. <br />On GitHub, the HTML representation is unable to render, please try loading this page with nbviewer.org.</b></div><div class=\"sk-container\" hidden><div class=\"sk-item sk-dashed-wrapped\"><div class=\"sk-label-container\"><div class=\"sk-label sk-toggleable\"><input class=\"sk-toggleable__control sk-hidden--visually\" id=\"sk-estimator-id-21\" type=\"checkbox\" ><label for=\"sk-estimator-id-21\" class=\"sk-toggleable__label sk-toggleable__label-arrow\">ColumnTransformer</label><div class=\"sk-toggleable__content\"><pre>ColumnTransformer(transformers=[(&#x27;standardscaler&#x27;, StandardScaler(),\n",
       "                                 &lt;sklearn.compose._column_transformer.make_column_selector object at 0x299d7fe20&gt;),\n",
       "                                (&#x27;onehotencoder&#x27;,\n",
       "                                 OneHotEncoder(handle_unknown=&#x27;ignore&#x27;,\n",
       "                                               sparse_output=False),\n",
       "                                 &lt;sklearn.compose._column_transformer.make_column_selector object at 0x299d7f8e0&gt;)])</pre></div></div></div><div class=\"sk-parallel\"><div class=\"sk-parallel-item\"><div class=\"sk-item\"><div class=\"sk-label-container\"><div class=\"sk-label sk-toggleable\"><input class=\"sk-toggleable__control sk-hidden--visually\" id=\"sk-estimator-id-22\" type=\"checkbox\" ><label for=\"sk-estimator-id-22\" class=\"sk-toggleable__label sk-toggleable__label-arrow\">standardscaler</label><div class=\"sk-toggleable__content\"><pre>&lt;sklearn.compose._column_transformer.make_column_selector object at 0x299d7fe20&gt;</pre></div></div></div><div class=\"sk-serial\"><div class=\"sk-item\"><div class=\"sk-estimator sk-toggleable\"><input class=\"sk-toggleable__control sk-hidden--visually\" id=\"sk-estimator-id-23\" type=\"checkbox\" ><label for=\"sk-estimator-id-23\" class=\"sk-toggleable__label sk-toggleable__label-arrow\">StandardScaler</label><div class=\"sk-toggleable__content\"><pre>StandardScaler()</pre></div></div></div></div></div></div><div class=\"sk-parallel-item\"><div class=\"sk-item\"><div class=\"sk-label-container\"><div class=\"sk-label sk-toggleable\"><input class=\"sk-toggleable__control sk-hidden--visually\" id=\"sk-estimator-id-24\" type=\"checkbox\" ><label for=\"sk-estimator-id-24\" class=\"sk-toggleable__label sk-toggleable__label-arrow\">onehotencoder</label><div class=\"sk-toggleable__content\"><pre>&lt;sklearn.compose._column_transformer.make_column_selector object at 0x299d7f8e0&gt;</pre></div></div></div><div class=\"sk-serial\"><div class=\"sk-item\"><div class=\"sk-estimator sk-toggleable\"><input class=\"sk-toggleable__control sk-hidden--visually\" id=\"sk-estimator-id-25\" type=\"checkbox\" ><label for=\"sk-estimator-id-25\" class=\"sk-toggleable__label sk-toggleable__label-arrow\">OneHotEncoder</label><div class=\"sk-toggleable__content\"><pre>OneHotEncoder(handle_unknown=&#x27;ignore&#x27;, sparse_output=False)</pre></div></div></div></div></div></div></div></div></div></div>"
      ],
      "text/plain": [
       "ColumnTransformer(transformers=[('standardscaler', StandardScaler(),\n",
       "                                 <sklearn.compose._column_transformer.make_column_selector object at 0x299d7fe20>),\n",
       "                                ('onehotencoder',\n",
       "                                 OneHotEncoder(handle_unknown='ignore',\n",
       "                                               sparse_output=False),\n",
       "                                 <sklearn.compose._column_transformer.make_column_selector object at 0x299d7f8e0>)])"
      ]
     },
     "execution_count": 96,
     "metadata": {},
     "output_type": "execute_result"
    }
   ],
   "source": [
    "preproc = make_column_transformer(\n",
    "    (StandardScaler(), make_column_selector(dtype_exclude=[\"object\"])),\n",
    "    (OneHotEncoder(handle_unknown=\"ignore\", sparse_output=False), make_column_selector(dtype_include=[\"object\"]))\n",
    ")\n",
    "\n",
    "preproc"
   ]
  },
  {
   "cell_type": "code",
   "execution_count": 97,
   "id": "c2f17e9d",
   "metadata": {},
   "outputs": [
    {
     "data": {
      "text/plain": [
       "(8040, 393)"
      ]
     },
     "execution_count": 97,
     "metadata": {},
     "output_type": "execute_result"
    }
   ],
   "source": [
    "preproc.fit_transform(X_train).shape"
   ]
  },
  {
   "cell_type": "code",
   "execution_count": 98,
   "id": "4e19ce3d",
   "metadata": {},
   "outputs": [],
   "source": [
    "X_train_preproc = preproc.fit_transform(X_train)\n",
    "X_val_preproc = preproc.transform(X_val)\n",
    "X_test_preproc = preproc.transform(X_test)"
   ]
  },
  {
   "cell_type": "markdown",
   "id": "57f7dffd",
   "metadata": {},
   "source": [
    "## Definição do modelo"
   ]
  },
  {
   "cell_type": "code",
   "execution_count": 99,
   "id": "21f8f9a6",
   "metadata": {},
   "outputs": [],
   "source": [
    "from tensorflow.keras import Sequential, layers\n",
    "from tensorflow.keras.layers.experimental import preprocessing\n",
    "from tensorflow.keras.callbacks import EarlyStopping"
   ]
  },
  {
   "cell_type": "code",
   "execution_count": 100,
   "id": "1c07dd33",
   "metadata": {},
   "outputs": [],
   "source": [
    "model = Sequential()\n",
    "\n",
    "# 1. Architecture\n",
    "model.add(layers.Dense(32, activation='relu', input_shape=(X_train_preproc.shape[-1],)))\n",
    "model.add(layers.Dropout(0.2))\n",
    "model.add(layers.Dense(15, activation='relu'))\n",
    "model.add(layers.Dropout(0.3))\n",
    "model.add(layers.Dense(1, activation='sigmoid'))\n",
    "\n",
    "# 2. Compiling\n",
    "model.compile(loss='binary_crossentropy', \n",
    "              optimizer='adam', \n",
    "              metrics=['accuracy'])"
   ]
  },
  {
   "cell_type": "code",
   "execution_count": 101,
   "id": "9553143a",
   "metadata": {},
   "outputs": [
    {
     "name": "stdout",
     "output_type": "stream",
     "text": [
      "Epoch 1/500\n",
      "126/126 [==============================] - 0s 1ms/step - loss: 0.6708 - accuracy: 0.5733 - val_loss: 0.6332 - val_accuracy: 0.6475\n",
      "Epoch 2/500\n",
      "126/126 [==============================] - 0s 924us/step - loss: 0.6244 - accuracy: 0.6407 - val_loss: 0.6020 - val_accuracy: 0.6667\n",
      "Epoch 3/500\n",
      "126/126 [==============================] - 0s 808us/step - loss: 0.6033 - accuracy: 0.6561 - val_loss: 0.5854 - val_accuracy: 0.6699\n",
      "Epoch 4/500\n",
      "126/126 [==============================] - 0s 794us/step - loss: 0.5841 - accuracy: 0.6627 - val_loss: 0.5695 - val_accuracy: 0.6745\n",
      "Epoch 5/500\n",
      "126/126 [==============================] - 0s 811us/step - loss: 0.5655 - accuracy: 0.6718 - val_loss: 0.5584 - val_accuracy: 0.6751\n",
      "Epoch 6/500\n",
      "126/126 [==============================] - 0s 810us/step - loss: 0.5558 - accuracy: 0.6812 - val_loss: 0.5486 - val_accuracy: 0.6760\n",
      "Epoch 7/500\n",
      "126/126 [==============================] - 0s 912us/step - loss: 0.5439 - accuracy: 0.6833 - val_loss: 0.5430 - val_accuracy: 0.6725\n",
      "Epoch 8/500\n",
      "126/126 [==============================] - 0s 914us/step - loss: 0.5341 - accuracy: 0.6894 - val_loss: 0.5382 - val_accuracy: 0.6701\n",
      "Epoch 9/500\n",
      "126/126 [==============================] - 0s 802us/step - loss: 0.5290 - accuracy: 0.6894 - val_loss: 0.5367 - val_accuracy: 0.6803\n",
      "Epoch 10/500\n",
      "126/126 [==============================] - 0s 800us/step - loss: 0.5230 - accuracy: 0.6924 - val_loss: 0.5348 - val_accuracy: 0.6780\n",
      "Epoch 11/500\n",
      "126/126 [==============================] - 0s 812us/step - loss: 0.5189 - accuracy: 0.7014 - val_loss: 0.5315 - val_accuracy: 0.6844\n",
      "Epoch 12/500\n",
      "126/126 [==============================] - 0s 806us/step - loss: 0.5152 - accuracy: 0.6971 - val_loss: 0.5326 - val_accuracy: 0.6864\n",
      "Epoch 13/500\n",
      "126/126 [==============================] - 0s 858us/step - loss: 0.5131 - accuracy: 0.7067 - val_loss: 0.5326 - val_accuracy: 0.6916\n",
      "Epoch 14/500\n",
      "126/126 [==============================] - 0s 785us/step - loss: 0.5103 - accuracy: 0.7012 - val_loss: 0.5323 - val_accuracy: 0.6864\n",
      "Epoch 15/500\n",
      "126/126 [==============================] - 0s 774us/step - loss: 0.5030 - accuracy: 0.7072 - val_loss: 0.5323 - val_accuracy: 0.6823\n",
      "Epoch 16/500\n",
      "126/126 [==============================] - 0s 859us/step - loss: 0.5013 - accuracy: 0.7027 - val_loss: 0.5340 - val_accuracy: 0.6838\n",
      "Epoch 17/500\n",
      "126/126 [==============================] - 0s 869us/step - loss: 0.4993 - accuracy: 0.7139 - val_loss: 0.5289 - val_accuracy: 0.6957\n",
      "Epoch 18/500\n",
      "126/126 [==============================] - 0s 795us/step - loss: 0.4982 - accuracy: 0.7090 - val_loss: 0.5323 - val_accuracy: 0.6916\n",
      "Epoch 19/500\n",
      "126/126 [==============================] - 0s 852us/step - loss: 0.4961 - accuracy: 0.7158 - val_loss: 0.5317 - val_accuracy: 0.6945\n",
      "Epoch 20/500\n",
      "126/126 [==============================] - 0s 862us/step - loss: 0.4940 - accuracy: 0.7117 - val_loss: 0.5332 - val_accuracy: 0.6910\n",
      "Epoch 21/500\n",
      "126/126 [==============================] - 0s 820us/step - loss: 0.4886 - accuracy: 0.7149 - val_loss: 0.5310 - val_accuracy: 0.6948\n",
      "Epoch 22/500\n",
      "126/126 [==============================] - 0s 994us/step - loss: 0.4871 - accuracy: 0.7198 - val_loss: 0.5295 - val_accuracy: 0.6997\n",
      "Epoch 23/500\n",
      "126/126 [==============================] - 0s 911us/step - loss: 0.4822 - accuracy: 0.7231 - val_loss: 0.5343 - val_accuracy: 0.6899\n",
      "Epoch 24/500\n",
      "126/126 [==============================] - 0s 813us/step - loss: 0.4881 - accuracy: 0.7240 - val_loss: 0.5313 - val_accuracy: 0.6922\n",
      "Epoch 25/500\n",
      "126/126 [==============================] - 0s 824us/step - loss: 0.4825 - accuracy: 0.7250 - val_loss: 0.5316 - val_accuracy: 0.6858\n",
      "Epoch 26/500\n",
      "126/126 [==============================] - 0s 1ms/step - loss: 0.4826 - accuracy: 0.7219 - val_loss: 0.5308 - val_accuracy: 0.6945\n",
      "Epoch 27/500\n",
      "126/126 [==============================] - 0s 862us/step - loss: 0.4817 - accuracy: 0.7238 - val_loss: 0.5337 - val_accuracy: 0.6890\n"
     ]
    }
   ],
   "source": [
    "# 3. Training\n",
    "es = EarlyStopping(monitor = 'val_accuracy',\n",
    "                   patience = 5,\n",
    "                   verbose = 0,\n",
    "                   restore_best_weights = True)\n",
    "\n",
    "history = model.fit(X_train_preproc,\n",
    "                   y_train,\n",
    "                   validation_data = (X_val_preproc, y_val),\n",
    "                   batch_size = 64,\n",
    "                   epochs = 500,\n",
    "                   callbacks = [es], \n",
    "                   verbose = 1)"
   ]
  },
  {
   "cell_type": "markdown",
   "id": "f0785dc2",
   "metadata": {},
   "source": [
    "## Resultado final / evaluate"
   ]
  },
  {
   "cell_type": "code",
   "execution_count": 102,
   "id": "f5cb1477",
   "metadata": {},
   "outputs": [
    {
     "name": "stdout",
     "output_type": "stream",
     "text": [
      "154/154 [==============================] - 0s 433us/step - loss: 0.5336 - accuracy: 0.6975\n",
      "accuracy = 0.698\n"
     ]
    }
   ],
   "source": [
    "res = model.evaluate(X_test_preproc, y_test)\n",
    "print(f\"accuracy = {res[1]:.3f}\")"
   ]
  },
  {
   "cell_type": "code",
   "execution_count": 103,
   "id": "ceafa169",
   "metadata": {},
   "outputs": [
    {
     "name": "stdout",
     "output_type": "stream",
     "text": [
      "Model: \"sequential_2\"\n",
      "_________________________________________________________________\n",
      " Layer (type)                Output Shape              Param #   \n",
      "=================================================================\n",
      " dense_6 (Dense)             (None, 32)                12608     \n",
      "                                                                 \n",
      " dropout_4 (Dropout)         (None, 32)                0         \n",
      "                                                                 \n",
      " dense_7 (Dense)             (None, 15)                495       \n",
      "                                                                 \n",
      " dropout_5 (Dropout)         (None, 15)                0         \n",
      "                                                                 \n",
      " dense_8 (Dense)             (None, 1)                 16        \n",
      "                                                                 \n",
      "=================================================================\n",
      "Total params: 13,119\n",
      "Trainable params: 13,119\n",
      "Non-trainable params: 0\n",
      "_________________________________________________________________\n"
     ]
    }
   ],
   "source": [
    "model.summary()"
   ]
  },
  {
   "cell_type": "markdown",
   "id": "ca46e2ec",
   "metadata": {},
   "source": [
    "## Verificação loss/accuracy - overfit / underfit"
   ]
  },
  {
   "cell_type": "code",
   "execution_count": 104,
   "id": "40280c4c",
   "metadata": {},
   "outputs": [],
   "source": [
    "def plot_loss_accuracy(history):\n",
    "    plt.plot(history.history['loss'])\n",
    "    plt.plot(history.history['val_loss'])\n",
    "    plt.title('Model loss')\n",
    "    plt.ylabel('Loss')\n",
    "    plt.xlabel('Epoch')\n",
    "    plt.legend(['Train', 'Test'], loc='best')\n",
    "    plt.show()\n",
    "    \n",
    "    plt.plot(history.history['accuracy'])\n",
    "    plt.plot(history.history['val_accuracy'])\n",
    "    plt.title('Model Accuracy')\n",
    "    plt.ylabel('Accuracy')\n",
    "    plt.xlabel('Epoch')\n",
    "    plt.legend(['Train', 'Test'], loc='best')\n",
    "    plt.show()"
   ]
  },
  {
   "cell_type": "code",
   "execution_count": 105,
   "id": "3c137975",
   "metadata": {},
   "outputs": [
    {
     "data": {
      "image/png": "[encoded data removed]",
      "text/plain": [
       "<Figure size 640x480 with 1 Axes>"
      ]
     },
     "metadata": {},
     "output_type": "display_data"
    },
    {
     "data": {
      "image/png": "[encoded data removed]",
      "text/plain": [
       "<Figure size 640x480 with 1 Axes>"
      ]
     },
     "metadata": {},
     "output_type": "display_data"
    }
   ],
   "source": [
    "plot_loss_accuracy(history)"
   ]
  },
  {
   "cell_type": "code",
   "execution_count": null,
   "id": "f8aceb3b",
   "metadata": {},
   "outputs": [],
   "source": []
  }
 ],
 "metadata": {
  "kernelspec": {
   "display_name": "Python 3 (ipykernel)",
   "language": "python",
   "name": "python3"
  },
  "language_info": {
   "codemirror_mode": {
    "name": "ipython",
    "version": 3
   },
   "file_extension": ".py",
   "mimetype": "text/x-python",
   "name": "python",
   "nbconvert_exporter": "python",
   "pygments_lexer": "ipython3",
   "version": "3.10.6"
  },
  "toc": {
   "base_numbering": 1,
   "nav_menu": {},
   "number_sections": true,
   "sideBar": true,
   "skip_h1_title": false,
   "title_cell": "Table of Contents",
   "title_sidebar": "Contents",
   "toc_cell": false,
   "toc_position": {},
   "toc_section_display": true,
   "toc_window_display": false
  }
 },
 "nbformat": 4,
 "nbformat_minor": 5
}
