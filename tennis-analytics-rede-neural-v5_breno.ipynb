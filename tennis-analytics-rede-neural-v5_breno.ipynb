{
 "cells": [
  {
   "cell_type": "code",
   "execution_count": 1,
   "id": "1a6ba069",
   "metadata": {},
   "outputs": [],
   "source": [
    "import pandas as pd\n",
    "import numpy as np\n",
    "import seaborn as sns\n",
    "import matplotlib.pyplot as plt\n",
    "pd.options.display.max_columns = 50\n",
    "pd.options.display.max_rows = 100\n",
    "from sklearn.model_selection import train_test_split\n",
    "from sklearn.preprocessing import MinMaxScaler, StandardScaler\n",
    "from sklearn.pipeline import Pipeline, make_pipeline\n",
    "from sklearn.compose import ColumnTransformer, make_column_transformer, make_column_selector\n",
    "from sklearn.impute import SimpleImputer, KNNImputer\n",
    "from sklearn.preprocessing import RobustScaler, OneHotEncoder, OrdinalEncoder\n",
    "from sklearn.linear_model import LogisticRegression,LinearRegression\n",
    "from sklearn.model_selection import cross_val_score, cross_validate\n",
    "# Deep Learning\n",
    "#import tensorflow as tf"
   ]
  },
  {
   "cell_type": "code",
   "execution_count": 2,
   "id": "3850e6c6",
   "metadata": {},
   "outputs": [],
   "source": [
    "def add_data_info():\n",
    "    df1 = pd.read_csv('https://raw.githubusercontent.com/JeffSackmann/tennis_MatchChartingProject/master/charting-m-points-from-2017.csv', encoding= 'unicode_escape', low_memory=False)\n",
    "    df2 = pd.read_csv('raw_data/charting-m-matches.csv', encoding= 'unicode_escape', low_memory=False)\n",
    "    \n",
    "    #get separated values from m-matches list of games - based on matchid\n",
    "    df = pd.merge(df1,df2[['match_id','Date','Tournament','Round','Surface','Player 1','Player 2']], on=['match_id'], how='left')\n",
    "    \n",
    "    #add the condition of \"Grand Slam\" - 5 or 3 sets\n",
    "    conditions = df['Tournament'].isin([\"Wimbledon\", \"Australian Open\", \"US Open\", \"Roland Garros\"])\n",
    "    values = [1,0]\n",
    "\n",
    "    # Create a new column  based on the conditions and values\n",
    "    df['Grand Slam'] = pd.Series(pd.NA)\n",
    "    df.loc[conditions, 'Grand Slam'] = values[0]\n",
    "    df.loc[~conditions, 'Grand Slam'] = values[1]\n",
    "    \n",
    "    # save the original dataset with enriched data for future features\n",
    "    df.to_csv('raw_data/charting-m-points-from-2017-enriched.csv', index=False)"
   ]
  },
  {
   "cell_type": "code",
   "execution_count": 33,
   "id": "d550ff49",
   "metadata": {},
   "outputs": [],
   "source": [
    "def filter_player(df,opponent):\n",
    "    \n",
    "    # Read the dataset into a pandas DataFrame - from enriched file\n",
    "    df = pd.read_csv(df, encoding= 'unicode_escape', low_memory=False)\n",
    "    \n",
    "    ## filtra pelo  oponente\n",
    "    df = df[(df[\"Player 1\"].str.contains(opponent)) | (df[\"Player 2\"].str.contains(opponent))].copy()\n",
    "    \n",
    "    ##define se está sacando e se ganhou o ponto\n",
    "    df['i_serve'] = np.where(((df['Svr'] == 1) & (df['Player 1'] == opponent )) | ((df['Svr'] == 2) & (df['Player 2'] == opponent)), 0, 1)\n",
    "    df['i_win'] = np.where(((df['isSvrWinner'] == df['i_serve'])), 1, 0)\n",
    "    df['is_second_service'] = np.where(((df['2nd'].isnull())), 0, 1)\n",
    "    \n",
    "    ## direção do saque\n",
    "    # primeiro caractere do segundo saque\n",
    "    df['dir_srv'] = df.loc[:, '2nd'].str[0]\n",
    "    ## completa com o primeiro caractere do primeiro saque quando ele entrou\n",
    "    df['dir_srv'].fillna(df.loc[:, '1st'].str[0], inplace=True)\n",
    "\n",
    "    \n",
    "    ##reseta o indice\n",
    "    df.reset_index(inplace=True)\n",
    "    \n",
    "    ## salva arquivo e retorna dataset da funcao\n",
    "    csv_file = \"raw_data/\" + opponent + \"_points.csv\"\n",
    "    df.to_csv(csv_file, index=False)\n",
    "    return df"
   ]
  },
  {
   "cell_type": "code",
   "execution_count": 34,
   "id": "11b2de95",
   "metadata": {},
   "outputs": [],
   "source": [
    "meaning_char = pd.read_csv('https://raw.githubusercontent.com/eduardoscovino/tennis-analytics/master/code_map.csv',\n",
    "                           encoding= 'unicode_escape', sep=';')"
   ]
  },
  {
   "cell_type": "code",
   "execution_count": 35,
   "id": "06f807d4",
   "metadata": {},
   "outputs": [],
   "source": [
    "add_data_info()"
   ]
  },
  {
   "cell_type": "code",
   "execution_count": 36,
   "id": "6f19a7cb",
   "metadata": {},
   "outputs": [],
   "source": [
    "df = filter_player('raw_data/charting-m-points-from-2017-enriched.csv','Novak Djokovic')"
   ]
  },
  {
   "cell_type": "code",
   "execution_count": 37,
   "id": "920f903c",
   "metadata": {},
   "outputs": [],
   "source": [
    "## serve direction encode \n",
    "df = df[df['dir_srv'].isin(['4','5','6'])]\n",
    "\n",
    "## to numeric for rallyCount and serve direction\n",
    "df['rallyCount']=pd.to_numeric(df['rallyCount'])\n",
    "df['dir_srv']=pd.to_numeric(df['dir_srv'])\n",
    "df['rally_tratada'] = (df['rallyCount']/2).apply(np.floor)"
   ]
  },
  {
   "cell_type": "code",
   "execution_count": 38,
   "id": "59c90424",
   "metadata": {},
   "outputs": [],
   "source": [
    "#Spliting Serve and Return\n",
    "df['rally_desc'] = df.loc[:, '2nd']\n",
    "df['rally_desc'].fillna(df.loc[:, '1st'], inplace=True)\n",
    "\n",
    "##df['Serve'] = df.loc[:, 'rally_desc'].str[0:1]\n",
    "\n",
    "df['rally_desc'] = df['rally_desc'].str[1:]\n",
    "\n",
    "sc = np.array(meaning_char[~meaning_char['code'].isin(['f', 'b', 'r', 's', 'v', 'l', 'o', 'z', 'p', 'u', 'y', 'h', 'i', 'j', 'k','m', '1', '2', '3', '7', '8', '9'])]['code'])\n",
    "\n",
    "#Spliting every shot\n",
    "df['rally_desc'] = df['rally_desc'].apply(lambda x: ''.join([c for c in x if c not in sc]))\n",
    "df['rally_desc'] = df['rally_desc'].str.replace('f',' f').str.replace('b',' b').str.replace('s',' s').str.replace('r',' r').str.replace('v',' v').str.replace('l',' l').str.replace('o',' o').str.replace('z',' z').str.replace('p',' p').str.replace('u',' u').str.replace('y',' y').str.replace('h',' h').str.replace('i',' i').str.replace('j',' j').str.replace('k',' k').str.replace('m',' m').str.replace('!','').str.replace('+','').str.replace(';','').str.replace('^','').str.replace('C','')\n",
    "df['rally_desc'] = df['rally_desc'].map(lambda x: x.lstrip(' ').rstrip(' '))"
   ]
  },
  {
   "cell_type": "markdown",
   "id": "ab26c0b8",
   "metadata": {},
   "source": [
    "### Adição da coluna how_ended"
   ]
  },
  {
   "cell_type": "code",
   "execution_count": 39,
   "id": "43195a3c",
   "metadata": {},
   "outputs": [
    {
     "data": {
      "text/html": [
       "<div>\n",
       "<style scoped>\n",
       "    .dataframe tbody tr th:only-of-type {\n",
       "        vertical-align: middle;\n",
       "    }\n",
       "\n",
       "    .dataframe tbody tr th {\n",
       "        vertical-align: top;\n",
       "    }\n",
       "\n",
       "    .dataframe thead th {\n",
       "        text-align: right;\n",
       "    }\n",
       "</style>\n",
       "<table border=\"1\" class=\"dataframe\">\n",
       "  <thead>\n",
       "    <tr style=\"text-align: right;\">\n",
       "      <th></th>\n",
       "      <th>index</th>\n",
       "      <th>match_id</th>\n",
       "      <th>Pt</th>\n",
       "      <th>Set1</th>\n",
       "      <th>Set2</th>\n",
       "      <th>Gm1</th>\n",
       "      <th>Gm2</th>\n",
       "      <th>Pts</th>\n",
       "      <th>Gm#</th>\n",
       "      <th>TbSet</th>\n",
       "      <th>TB?</th>\n",
       "      <th>TBpt</th>\n",
       "      <th>Svr</th>\n",
       "      <th>Ret</th>\n",
       "      <th>Serving</th>\n",
       "      <th>1st</th>\n",
       "      <th>2nd</th>\n",
       "      <th>Notes</th>\n",
       "      <th>1stSV</th>\n",
       "      <th>2ndSV</th>\n",
       "      <th>1stIn</th>\n",
       "      <th>2ndIn</th>\n",
       "      <th>isAce</th>\n",
       "      <th>isUnret</th>\n",
       "      <th>isRallyWinner</th>\n",
       "      <th>isForced</th>\n",
       "      <th>isUnforced</th>\n",
       "      <th>isDouble</th>\n",
       "      <th>PtWinner</th>\n",
       "      <th>isSvrWinner</th>\n",
       "      <th>rallyCount</th>\n",
       "      <th>Date</th>\n",
       "      <th>Tournament</th>\n",
       "      <th>Round</th>\n",
       "      <th>Surface</th>\n",
       "      <th>Player 1</th>\n",
       "      <th>Player 2</th>\n",
       "      <th>Grand Slam</th>\n",
       "      <th>i_serve</th>\n",
       "      <th>i_win</th>\n",
       "      <th>is_second_service</th>\n",
       "      <th>dir_srv</th>\n",
       "      <th>rally_tratada</th>\n",
       "      <th>rally_desc</th>\n",
       "      <th>how_ended</th>\n",
       "    </tr>\n",
       "  </thead>\n",
       "  <tbody>\n",
       "    <tr>\n",
       "      <th>0</th>\n",
       "      <td>637</td>\n",
       "      <td>20221120-M-Tour_Finals-F-Novak_Djokovic-Casper...</td>\n",
       "      <td>1</td>\n",
       "      <td>0</td>\n",
       "      <td>0</td>\n",
       "      <td>0</td>\n",
       "      <td>0</td>\n",
       "      <td>0-0</td>\n",
       "      <td>1 (1)</td>\n",
       "      <td>1</td>\n",
       "      <td>0</td>\n",
       "      <td>NaN</td>\n",
       "      <td>1</td>\n",
       "      <td>2</td>\n",
       "      <td>ND</td>\n",
       "      <td>4n</td>\n",
       "      <td>4f18f3s2f1f3b3n@</td>\n",
       "      <td>NaN</td>\n",
       "      <td>0</td>\n",
       "      <td>0.0</td>\n",
       "      <td>0</td>\n",
       "      <td>1.0</td>\n",
       "      <td>False</td>\n",
       "      <td>False</td>\n",
       "      <td>False</td>\n",
       "      <td>False</td>\n",
       "      <td>True</td>\n",
       "      <td>False</td>\n",
       "      <td>2</td>\n",
       "      <td>0</td>\n",
       "      <td>6</td>\n",
       "      <td>20221120</td>\n",
       "      <td>Tour Finals</td>\n",
       "      <td>F</td>\n",
       "      <td>Hard</td>\n",
       "      <td>Novak Djokovic</td>\n",
       "      <td>Casper Ruud</td>\n",
       "      <td>0</td>\n",
       "      <td>0</td>\n",
       "      <td>1</td>\n",
       "      <td>1</td>\n",
       "      <td>4</td>\n",
       "      <td>3.0</td>\n",
       "      <td>f18 f3 s2 f1 f3 b3</td>\n",
       "      <td>@</td>\n",
       "    </tr>\n",
       "    <tr>\n",
       "      <th>1</th>\n",
       "      <td>638</td>\n",
       "      <td>20221120-M-Tour_Finals-F-Novak_Djokovic-Casper...</td>\n",
       "      <td>2</td>\n",
       "      <td>0</td>\n",
       "      <td>0</td>\n",
       "      <td>0</td>\n",
       "      <td>0</td>\n",
       "      <td>0-15</td>\n",
       "      <td>1 (2)</td>\n",
       "      <td>1</td>\n",
       "      <td>0</td>\n",
       "      <td>NaN</td>\n",
       "      <td>1</td>\n",
       "      <td>2</td>\n",
       "      <td>ND</td>\n",
       "      <td>4n</td>\n",
       "      <td>6f2n#</td>\n",
       "      <td>NaN</td>\n",
       "      <td>0</td>\n",
       "      <td>0.0</td>\n",
       "      <td>0</td>\n",
       "      <td>1.0</td>\n",
       "      <td>False</td>\n",
       "      <td>False</td>\n",
       "      <td>False</td>\n",
       "      <td>True</td>\n",
       "      <td>False</td>\n",
       "      <td>False</td>\n",
       "      <td>1</td>\n",
       "      <td>1</td>\n",
       "      <td>1</td>\n",
       "      <td>20221120</td>\n",
       "      <td>Tour Finals</td>\n",
       "      <td>F</td>\n",
       "      <td>Hard</td>\n",
       "      <td>Novak Djokovic</td>\n",
       "      <td>Casper Ruud</td>\n",
       "      <td>0</td>\n",
       "      <td>0</td>\n",
       "      <td>0</td>\n",
       "      <td>1</td>\n",
       "      <td>6</td>\n",
       "      <td>0.0</td>\n",
       "      <td>f2</td>\n",
       "      <td>#</td>\n",
       "    </tr>\n",
       "    <tr>\n",
       "      <th>2</th>\n",
       "      <td>639</td>\n",
       "      <td>20221120-M-Tour_Finals-F-Novak_Djokovic-Casper...</td>\n",
       "      <td>3</td>\n",
       "      <td>0</td>\n",
       "      <td>0</td>\n",
       "      <td>0</td>\n",
       "      <td>0</td>\n",
       "      <td>15-15</td>\n",
       "      <td>1 (3)</td>\n",
       "      <td>1</td>\n",
       "      <td>0</td>\n",
       "      <td>NaN</td>\n",
       "      <td>1</td>\n",
       "      <td>2</td>\n",
       "      <td>ND</td>\n",
       "      <td>4*</td>\n",
       "      <td>NaN</td>\n",
       "      <td>Failed Ruud challenge</td>\n",
       "      <td>0</td>\n",
       "      <td>NaN</td>\n",
       "      <td>1</td>\n",
       "      <td>NaN</td>\n",
       "      <td>True</td>\n",
       "      <td>False</td>\n",
       "      <td>False</td>\n",
       "      <td>False</td>\n",
       "      <td>False</td>\n",
       "      <td>False</td>\n",
       "      <td>1</td>\n",
       "      <td>1</td>\n",
       "      <td>1</td>\n",
       "      <td>20221120</td>\n",
       "      <td>Tour Finals</td>\n",
       "      <td>F</td>\n",
       "      <td>Hard</td>\n",
       "      <td>Novak Djokovic</td>\n",
       "      <td>Casper Ruud</td>\n",
       "      <td>0</td>\n",
       "      <td>0</td>\n",
       "      <td>0</td>\n",
       "      <td>0</td>\n",
       "      <td>4</td>\n",
       "      <td>0.0</td>\n",
       "      <td></td>\n",
       "      <td>*</td>\n",
       "    </tr>\n",
       "    <tr>\n",
       "      <th>3</th>\n",
       "      <td>640</td>\n",
       "      <td>20221120-M-Tour_Finals-F-Novak_Djokovic-Casper...</td>\n",
       "      <td>4</td>\n",
       "      <td>0</td>\n",
       "      <td>0</td>\n",
       "      <td>0</td>\n",
       "      <td>0</td>\n",
       "      <td>30-15</td>\n",
       "      <td>1 (4)</td>\n",
       "      <td>1</td>\n",
       "      <td>0</td>\n",
       "      <td>NaN</td>\n",
       "      <td>1</td>\n",
       "      <td>2</td>\n",
       "      <td>ND</td>\n",
       "      <td>4n</td>\n",
       "      <td>5b3n@</td>\n",
       "      <td>NaN</td>\n",
       "      <td>0</td>\n",
       "      <td>0.0</td>\n",
       "      <td>0</td>\n",
       "      <td>1.0</td>\n",
       "      <td>False</td>\n",
       "      <td>False</td>\n",
       "      <td>False</td>\n",
       "      <td>False</td>\n",
       "      <td>True</td>\n",
       "      <td>False</td>\n",
       "      <td>1</td>\n",
       "      <td>1</td>\n",
       "      <td>1</td>\n",
       "      <td>20221120</td>\n",
       "      <td>Tour Finals</td>\n",
       "      <td>F</td>\n",
       "      <td>Hard</td>\n",
       "      <td>Novak Djokovic</td>\n",
       "      <td>Casper Ruud</td>\n",
       "      <td>0</td>\n",
       "      <td>0</td>\n",
       "      <td>0</td>\n",
       "      <td>1</td>\n",
       "      <td>5</td>\n",
       "      <td>0.0</td>\n",
       "      <td>b3</td>\n",
       "      <td>@</td>\n",
       "    </tr>\n",
       "    <tr>\n",
       "      <th>4</th>\n",
       "      <td>641</td>\n",
       "      <td>20221120-M-Tour_Finals-F-Novak_Djokovic-Casper...</td>\n",
       "      <td>5</td>\n",
       "      <td>0</td>\n",
       "      <td>0</td>\n",
       "      <td>0</td>\n",
       "      <td>0</td>\n",
       "      <td>40-15</td>\n",
       "      <td>1 (5)</td>\n",
       "      <td>1</td>\n",
       "      <td>0</td>\n",
       "      <td>NaN</td>\n",
       "      <td>1</td>\n",
       "      <td>2</td>\n",
       "      <td>ND</td>\n",
       "      <td>4r28f1r2f3b3f2f1f1f3b3b3b1r2n#</td>\n",
       "      <td>NaN</td>\n",
       "      <td>NaN</td>\n",
       "      <td>0</td>\n",
       "      <td>NaN</td>\n",
       "      <td>1</td>\n",
       "      <td>NaN</td>\n",
       "      <td>False</td>\n",
       "      <td>False</td>\n",
       "      <td>False</td>\n",
       "      <td>True</td>\n",
       "      <td>False</td>\n",
       "      <td>False</td>\n",
       "      <td>1</td>\n",
       "      <td>1</td>\n",
       "      <td>13</td>\n",
       "      <td>20221120</td>\n",
       "      <td>Tour Finals</td>\n",
       "      <td>F</td>\n",
       "      <td>Hard</td>\n",
       "      <td>Novak Djokovic</td>\n",
       "      <td>Casper Ruud</td>\n",
       "      <td>0</td>\n",
       "      <td>0</td>\n",
       "      <td>0</td>\n",
       "      <td>0</td>\n",
       "      <td>4</td>\n",
       "      <td>6.0</td>\n",
       "      <td>r28 f1 r2 f3 b3 f2 f1 f1 f3 b3 b3 b1 r2</td>\n",
       "      <td>#</td>\n",
       "    </tr>\n",
       "  </tbody>\n",
       "</table>\n",
       "</div>"
      ],
      "text/plain": [
       "   index                                           match_id  Pt  Set1  Set2   \n",
       "0    637  20221120-M-Tour_Finals-F-Novak_Djokovic-Casper...   1     0     0  \\\n",
       "1    638  20221120-M-Tour_Finals-F-Novak_Djokovic-Casper...   2     0     0   \n",
       "2    639  20221120-M-Tour_Finals-F-Novak_Djokovic-Casper...   3     0     0   \n",
       "3    640  20221120-M-Tour_Finals-F-Novak_Djokovic-Casper...   4     0     0   \n",
       "4    641  20221120-M-Tour_Finals-F-Novak_Djokovic-Casper...   5     0     0   \n",
       "\n",
       "   Gm1  Gm2    Pts    Gm# TbSet TB?  TBpt  Svr  Ret Serving   \n",
       "0    0    0    0-0  1 (1)     1   0   NaN    1    2      ND  \\\n",
       "1    0    0   0-15  1 (2)     1   0   NaN    1    2      ND   \n",
       "2    0    0  15-15  1 (3)     1   0   NaN    1    2      ND   \n",
       "3    0    0  30-15  1 (4)     1   0   NaN    1    2      ND   \n",
       "4    0    0  40-15  1 (5)     1   0   NaN    1    2      ND   \n",
       "\n",
       "                              1st               2nd                  Notes   \n",
       "0                              4n  4f18f3s2f1f3b3n@                    NaN  \\\n",
       "1                              4n             6f2n#                    NaN   \n",
       "2                              4*               NaN  Failed Ruud challenge   \n",
       "3                              4n             5b3n@                    NaN   \n",
       "4  4r28f1r2f3b3f2f1f1f3b3b3b1r2n#               NaN                    NaN   \n",
       "\n",
       "   1stSV  2ndSV  1stIn  2ndIn  isAce  isUnret  isRallyWinner  isForced   \n",
       "0      0    0.0      0    1.0  False    False          False     False  \\\n",
       "1      0    0.0      0    1.0  False    False          False      True   \n",
       "2      0    NaN      1    NaN   True    False          False     False   \n",
       "3      0    0.0      0    1.0  False    False          False     False   \n",
       "4      0    NaN      1    NaN  False    False          False      True   \n",
       "\n",
       "   isUnforced  isDouble  PtWinner  isSvrWinner  rallyCount      Date   \n",
       "0        True     False         2            0           6  20221120  \\\n",
       "1       False     False         1            1           1  20221120   \n",
       "2       False     False         1            1           1  20221120   \n",
       "3        True     False         1            1           1  20221120   \n",
       "4       False     False         1            1          13  20221120   \n",
       "\n",
       "    Tournament Round Surface        Player 1     Player 2  Grand Slam   \n",
       "0  Tour Finals     F    Hard  Novak Djokovic  Casper Ruud           0  \\\n",
       "1  Tour Finals     F    Hard  Novak Djokovic  Casper Ruud           0   \n",
       "2  Tour Finals     F    Hard  Novak Djokovic  Casper Ruud           0   \n",
       "3  Tour Finals     F    Hard  Novak Djokovic  Casper Ruud           0   \n",
       "4  Tour Finals     F    Hard  Novak Djokovic  Casper Ruud           0   \n",
       "\n",
       "   i_serve  i_win  is_second_service  dir_srv  rally_tratada   \n",
       "0        0      1                  1        4            3.0  \\\n",
       "1        0      0                  1        6            0.0   \n",
       "2        0      0                  0        4            0.0   \n",
       "3        0      0                  1        5            0.0   \n",
       "4        0      0                  0        4            6.0   \n",
       "\n",
       "                                rally_desc how_ended  \n",
       "0                       f18 f3 s2 f1 f3 b3         @  \n",
       "1                                       f2         #  \n",
       "2                                                  *  \n",
       "3                                       b3         @  \n",
       "4  r28 f1 r2 f3 b3 f2 f1 f1 f3 b3 b3 b1 r2         #  "
      ]
     },
     "execution_count": 39,
     "metadata": {},
     "output_type": "execute_result"
    }
   ],
   "source": [
    "# df['end']\n",
    "df['how_ended'] = df.loc[:, '2nd'].str[-1]\n",
    "df['how_ended'].fillna(df.loc[:, '1st'].str[-1], inplace=True)\n",
    "\n",
    "df.head()"
   ]
  },
  {
   "cell_type": "code",
   "execution_count": 10,
   "id": "57038dc8",
   "metadata": {},
   "outputs": [
    {
     "data": {
      "text/plain": [
       "how_ended\n",
       "#    6264\n",
       "*    6054\n",
       "@    5820\n",
       "d     267\n",
       "n     249\n",
       "w      66\n",
       "x      14\n",
       "C      13\n",
       ";       4\n",
       "Name: count, dtype: int64"
      ]
     },
     "execution_count": 10,
     "metadata": {},
     "output_type": "execute_result"
    }
   ],
   "source": [
    "# vamos entender melhor isso aqui\n",
    "\n",
    "df['how_ended'].value_counts()"
   ]
  },
  {
   "cell_type": "code",
   "execution_count": 40,
   "id": "7f72687f",
   "metadata": {},
   "outputs": [],
   "source": [
    "df['isUnforced'] = df['isUnforced'].replace({True: 1, False: 0})\n",
    "df['isForced'] = df['isForced'].replace({True: 1, False: 0})\n",
    "df['serve_return'] = df['rally_desc'].map(lambda x: x.split(' ')).str[0]"
   ]
  },
  {
   "cell_type": "code",
   "execution_count": 12,
   "id": "bbd2303e-3e81-4a18-97af-58cad9ff9693",
   "metadata": {},
   "outputs": [],
   "source": [
    "df.to_csv('raw_data/novak_dash.csv')"
   ]
  },
  {
   "cell_type": "code",
   "execution_count": null,
   "id": "9fd1fa83-9dd2-4a2f-b04e-b96420fab559",
   "metadata": {},
   "outputs": [],
   "source": []
  },
  {
   "cell_type": "markdown",
   "id": "392d81b1",
   "metadata": {},
   "source": [
    "## Dataset finalizado ##"
   ]
  },
  {
   "cell_type": "code",
   "execution_count": 13,
   "id": "8e1d463f",
   "metadata": {
    "scrolled": true
   },
   "outputs": [
    {
     "data": {
      "text/plain": [
       "86"
      ]
     },
     "execution_count": 13,
     "metadata": {},
     "output_type": "execute_result"
    }
   ],
   "source": [
    "df['serve_return'].nunique()"
   ]
  },
  {
   "cell_type": "code",
   "execution_count": 14,
   "id": "3767184e",
   "metadata": {},
   "outputs": [
    {
     "data": {
      "text/plain": [
       "9"
      ]
     },
     "execution_count": 14,
     "metadata": {},
     "output_type": "execute_result"
    }
   ],
   "source": [
    "df['how_ended'].nunique()"
   ]
  },
  {
   "cell_type": "code",
   "execution_count": 15,
   "id": "801b8795",
   "metadata": {},
   "outputs": [],
   "source": [
    "#df = df[df['serve_return']!=\"\"]"
   ]
  },
  {
   "cell_type": "code",
   "execution_count": 16,
   "id": "10357fa1",
   "metadata": {},
   "outputs": [
    {
     "data": {
      "image/png": "[encoded data removed]",
      "text/plain": [
       "<Figure size 640x480 with 1 Axes>"
      ]
     },
     "metadata": {},
     "output_type": "display_data"
    }
   ],
   "source": [
    "serve_return_column = df[\"serve_return\"]\n",
    "value_counts = serve_return_column.value_counts()\n",
    "\n",
    "plt.bar(value_counts.index, value_counts.values )\n",
    "plt.xlabel(\"serve_return\")\n",
    "plt.ylabel(\"Frequency\")\n",
    "plt.title(\"Distribution of serve_return\")\n",
    "plt.xticks(rotation=90)\n",
    "plt.show()"
   ]
  },
  {
   "cell_type": "code",
   "execution_count": 17,
   "id": "c7d68653",
   "metadata": {},
   "outputs": [
    {
     "data": {
      "text/html": [
       "<div>\n",
       "<style scoped>\n",
       "    .dataframe tbody tr th:only-of-type {\n",
       "        vertical-align: middle;\n",
       "    }\n",
       "\n",
       "    .dataframe tbody tr th {\n",
       "        vertical-align: top;\n",
       "    }\n",
       "\n",
       "    .dataframe thead th {\n",
       "        text-align: right;\n",
       "    }\n",
       "</style>\n",
       "<table border=\"1\" class=\"dataframe\">\n",
       "  <thead>\n",
       "    <tr style=\"text-align: right;\">\n",
       "      <th></th>\n",
       "      <th>serve_return</th>\n",
       "      <th>frequency</th>\n",
       "    </tr>\n",
       "  </thead>\n",
       "  <tbody>\n",
       "    <tr>\n",
       "      <th>0</th>\n",
       "      <td></td>\n",
       "      <td>2348</td>\n",
       "    </tr>\n",
       "    <tr>\n",
       "      <th>1</th>\n",
       "      <td>b28</td>\n",
       "      <td>1453</td>\n",
       "    </tr>\n",
       "    <tr>\n",
       "      <th>2</th>\n",
       "      <td>f28</td>\n",
       "      <td>1443</td>\n",
       "    </tr>\n",
       "    <tr>\n",
       "      <th>3</th>\n",
       "      <td>b38</td>\n",
       "      <td>1105</td>\n",
       "    </tr>\n",
       "    <tr>\n",
       "      <th>4</th>\n",
       "      <td>f2</td>\n",
       "      <td>927</td>\n",
       "    </tr>\n",
       "    <tr>\n",
       "      <th>5</th>\n",
       "      <td>f29</td>\n",
       "      <td>782</td>\n",
       "    </tr>\n",
       "    <tr>\n",
       "      <th>6</th>\n",
       "      <td>b29</td>\n",
       "      <td>766</td>\n",
       "    </tr>\n",
       "    <tr>\n",
       "      <th>7</th>\n",
       "      <td>b2</td>\n",
       "      <td>761</td>\n",
       "    </tr>\n",
       "    <tr>\n",
       "      <th>8</th>\n",
       "      <td>f38</td>\n",
       "      <td>627</td>\n",
       "    </tr>\n",
       "    <tr>\n",
       "      <th>9</th>\n",
       "      <td>f18</td>\n",
       "      <td>567</td>\n",
       "    </tr>\n",
       "  </tbody>\n",
       "</table>\n",
       "</div>"
      ],
      "text/plain": [
       "  serve_return  frequency\n",
       "0                    2348\n",
       "1          b28       1453\n",
       "2          f28       1443\n",
       "3          b38       1105\n",
       "4           f2        927\n",
       "5          f29        782\n",
       "6          b29        766\n",
       "7           b2        761\n",
       "8          f38        627\n",
       "9          f18        567"
      ]
     },
     "execution_count": 17,
     "metadata": {},
     "output_type": "execute_result"
    }
   ],
   "source": [
    "serve_return_counts = df[\"serve_return\"].value_counts().reset_index()\n",
    "serve_return_counts.columns = [\"serve_return\", \"frequency\"]\n",
    "serve_return_counts = serve_return_counts.sort_values(\"frequency\", ascending=False )\n",
    "\n",
    "serve_return_counts.head(10)\n"
   ]
  },
  {
   "cell_type": "code",
   "execution_count": 18,
   "id": "4e463ca2",
   "metadata": {},
   "outputs": [
    {
     "data": {
      "image/png": "[encoded data removed]",
      "text/plain": [
       "<Figure size 640x480 with 1 Axes>"
      ]
     },
     "metadata": {},
     "output_type": "display_data"
    }
   ],
   "source": [
    "rally_count_dist = df[\"rallyCount\"]\n",
    "rally_count_dist = rally_count_dist.dropna()\n",
    "\n",
    "plt.hist(rally_count_dist)\n",
    "plt.xlabel(\"rally_count_dist\")\n",
    "plt.ylabel(\"Frequency\")\n",
    "plt.title(\"Distribution of rally count\")\n",
    "plt.show()"
   ]
  },
  {
   "cell_type": "code",
   "execution_count": 19,
   "id": "64d6539f",
   "metadata": {},
   "outputs": [
    {
     "name": "stdout",
     "output_type": "stream",
     "text": [
      "    rally_counts  frequency\n",
      "0              1       5127\n",
      "1              3       2735\n",
      "2              2       1753\n",
      "3              5       1559\n",
      "4              4       1377\n",
      "5              6       1013\n",
      "6              7        948\n",
      "7              8        656\n",
      "8              0        607\n",
      "9              9        561\n",
      "10            10        430\n",
      "11            11        350\n",
      "12            12        314\n",
      "13            13        265\n",
      "14            14        207\n",
      "15            15        172\n",
      "16            16        151\n",
      "17            17        104\n",
      "18            18         89\n",
      "19            19         64\n",
      "20            20         57\n",
      "21            21         49\n",
      "22            22         33\n",
      "23            23         30\n",
      "24            24         24\n",
      "25            25         20\n",
      "26            26          8\n",
      "27            28          8\n",
      "28            27          6\n",
      "31            30          5\n",
      "30            35          5\n",
      "29            29          5\n",
      "32            33          4\n",
      "33            31          4\n",
      "34            34          4\n",
      "35            36          2\n",
      "36            32          2\n",
      "37            53          1\n",
      "38            45          1\n",
      "39            40          1\n"
     ]
    }
   ],
   "source": [
    "rally_counts = df[\"rallyCount\"].value_counts().reset_index()\n",
    "rally_counts.columns = [\"rally_counts\", \"frequency\"]\n",
    "rally_counts = rally_counts.sort_values(\"frequency\", ascending=False )\n",
    "\n",
    "print(rally_counts)"
   ]
  },
  {
   "cell_type": "markdown",
   "id": "61c650ef",
   "metadata": {},
   "source": [
    "## Geração das features"
   ]
  },
  {
   "cell_type": "code",
   "execution_count": 52,
   "id": "3031a527-5f6a-4abd-8eec-111ae3af20c1",
   "metadata": {},
   "outputs": [],
   "source": [
    "features = ['Surface',\n",
    "            'Round',\n",
    "            'Grand Slam',\n",
    "            'i_serve',\n",
    "            'is_second_service',\n",
    "            'dir_srv',\n",
    "            'rally_tratada',\n",
    "            # 'rallyCount',\n",
    "            'isUnforced',\n",
    "            'isForced',\n",
    "            \"serve_return\",\n",
    "            \"how_ended\"\n",
    "            ]\n",
    "X = df[features]\n",
    "y = df['i_win']"
   ]
  },
  {
   "cell_type": "code",
   "execution_count": 53,
   "id": "fb62c914-36fa-427c-aec2-c3d3d292a4f8",
   "metadata": {},
   "outputs": [],
   "source": [
    "feat_categorical = ['Surface','Round','dir_srv','serve_return','how_ended']"
   ]
  },
  {
   "cell_type": "code",
   "execution_count": 17,
   "id": "a2c7af67",
   "metadata": {},
   "outputs": [
    {
     "name": "stdout",
     "output_type": "stream",
     "text": [
      "<class 'pandas.core.frame.DataFrame'>\n",
      "Index: 18751 entries, 0 to 19323\n",
      "Data columns (total 11 columns):\n",
      " #   Column             Non-Null Count  Dtype \n",
      "---  ------             --------------  ----- \n",
      " 0   Surface            18751 non-null  object\n",
      " 1   Round              18751 non-null  object\n",
      " 2   Grand Slam         18751 non-null  int64 \n",
      " 3   i_serve            18751 non-null  int64 \n",
      " 4   is_second_service  18751 non-null  int64 \n",
      " 5   dir_srv            18751 non-null  int64 \n",
      " 6   rallyCount         18751 non-null  int64 \n",
      " 7   isUnforced         18751 non-null  int64 \n",
      " 8   isForced           18751 non-null  int64 \n",
      " 9   serve_return       18751 non-null  object\n",
      " 10  how_ended          18751 non-null  object\n",
      "dtypes: int64(7), object(4)\n",
      "memory usage: 1.7+ MB\n"
     ]
    }
   ],
   "source": [
    "X.info()"
   ]
  },
  {
   "cell_type": "markdown",
   "id": "83398634",
   "metadata": {},
   "source": [
    "## separação - treino, teste e validação"
   ]
  },
  {
   "cell_type": "code",
   "execution_count": 70,
   "id": "62e0a7fa-03fb-4ae9-b7cc-12a592e1a5b6",
   "metadata": {},
   "outputs": [],
   "source": [
    "from sklearn.model_selection import train_test_split\n",
    "\n",
    "# Train-Test Split - ## parametro stratify ###\n",
    "train, test = train_test_split(df, test_size=0.4)\n",
    "\n",
    "# Train-Val Split\n",
    "train, val = train_test_split(train, test_size=0.4)\n"
   ]
  },
  {
   "cell_type": "code",
   "execution_count": 71,
   "id": "e7395454",
   "metadata": {},
   "outputs": [],
   "source": [
    "## Separating features and target in the Train, Val and Test Set\n",
    "\n",
    "X_train = train[features]\n",
    "y_train = train['i_win']\n",
    "\n",
    "X_val = val[features]\n",
    "y_val = val['i_win']\n",
    "\n",
    "X_test = test[features]\n",
    "y_test = test['i_win']"
   ]
  },
  {
   "cell_type": "code",
   "execution_count": 72,
   "id": "7bbc63de",
   "metadata": {},
   "outputs": [
    {
     "name": "stdout",
     "output_type": "stream",
     "text": [
      "6750 train examples\n",
      "4500 validation examples\n",
      "7501 test examples\n"
     ]
    }
   ],
   "source": [
    "print(len(train), 'train examples')\n",
    "print(len(val), 'validation examples')\n",
    "print(len(test), 'test examples')"
   ]
  },
  {
   "cell_type": "code",
   "execution_count": 73,
   "id": "4012c1fc",
   "metadata": {},
   "outputs": [
    {
     "data": {
      "text/plain": [
       "70"
      ]
     },
     "execution_count": 73,
     "metadata": {},
     "output_type": "execute_result"
    }
   ],
   "source": [
    "X_train['serve_return'].nunique()"
   ]
  },
  {
   "cell_type": "markdown",
   "id": "42cf3ccb",
   "metadata": {},
   "source": [
    "## Inicio do modelo - pre processamento e encoder"
   ]
  },
  {
   "cell_type": "code",
   "execution_count": 74,
   "id": "2c363809",
   "metadata": {},
   "outputs": [],
   "source": [
    "from sklearn.preprocessing import StandardScaler, OneHotEncoder\n",
    "from sklearn.compose import make_column_transformer, make_column_selector\n",
    "from sklearn import set_config\n",
    "set_config(display=\"diagram\")"
   ]
  },
  {
   "cell_type": "code",
   "execution_count": 75,
   "id": "d94c320b",
   "metadata": {},
   "outputs": [
    {
     "data": {
      "text/html": [
       "<style>#sk-container-id-3 {color: black;background-color: white;}#sk-container-id-3 pre{padding: 0;}#sk-container-id-3 div.sk-toggleable {background-color: white;}#sk-container-id-3 label.sk-toggleable__label {cursor: pointer;display: block;width: 100%;margin-bottom: 0;padding: 0.3em;box-sizing: border-box;text-align: center;}#sk-container-id-3 label.sk-toggleable__label-arrow:before {content: \"▸\";float: left;margin-right: 0.25em;color: #696969;}#sk-container-id-3 label.sk-toggleable__label-arrow:hover:before {color: black;}#sk-container-id-3 div.sk-estimator:hover label.sk-toggleable__label-arrow:before {color: black;}#sk-container-id-3 div.sk-toggleable__content {max-height: 0;max-width: 0;overflow: hidden;text-align: left;background-color: #f0f8ff;}#sk-container-id-3 div.sk-toggleable__content pre {margin: 0.2em;color: black;border-radius: 0.25em;background-color: #f0f8ff;}#sk-container-id-3 input.sk-toggleable__control:checked~div.sk-toggleable__content {max-height: 200px;max-width: 100%;overflow: auto;}#sk-container-id-3 input.sk-toggleable__control:checked~label.sk-toggleable__label-arrow:before {content: \"▾\";}#sk-container-id-3 div.sk-estimator input.sk-toggleable__control:checked~label.sk-toggleable__label {background-color: #d4ebff;}#sk-container-id-3 div.sk-label input.sk-toggleable__control:checked~label.sk-toggleable__label {background-color: #d4ebff;}#sk-container-id-3 input.sk-hidden--visually {border: 0;clip: rect(1px 1px 1px 1px);clip: rect(1px, 1px, 1px, 1px);height: 1px;margin: -1px;overflow: hidden;padding: 0;position: absolute;width: 1px;}#sk-container-id-3 div.sk-estimator {font-family: monospace;background-color: #f0f8ff;border: 1px dotted black;border-radius: 0.25em;box-sizing: border-box;margin-bottom: 0.5em;}#sk-container-id-3 div.sk-estimator:hover {background-color: #d4ebff;}#sk-container-id-3 div.sk-parallel-item::after {content: \"\";width: 100%;border-bottom: 1px solid gray;flex-grow: 1;}#sk-container-id-3 div.sk-label:hover label.sk-toggleable__label {background-color: #d4ebff;}#sk-container-id-3 div.sk-serial::before {content: \"\";position: absolute;border-left: 1px solid gray;box-sizing: border-box;top: 0;bottom: 0;left: 50%;z-index: 0;}#sk-container-id-3 div.sk-serial {display: flex;flex-direction: column;align-items: center;background-color: white;padding-right: 0.2em;padding-left: 0.2em;position: relative;}#sk-container-id-3 div.sk-item {position: relative;z-index: 1;}#sk-container-id-3 div.sk-parallel {display: flex;align-items: stretch;justify-content: center;background-color: white;position: relative;}#sk-container-id-3 div.sk-item::before, #sk-container-id-3 div.sk-parallel-item::before {content: \"\";position: absolute;border-left: 1px solid gray;box-sizing: border-box;top: 0;bottom: 0;left: 50%;z-index: -1;}#sk-container-id-3 div.sk-parallel-item {display: flex;flex-direction: column;z-index: 1;position: relative;background-color: white;}#sk-container-id-3 div.sk-parallel-item:first-child::after {align-self: flex-end;width: 50%;}#sk-container-id-3 div.sk-parallel-item:last-child::after {align-self: flex-start;width: 50%;}#sk-container-id-3 div.sk-parallel-item:only-child::after {width: 0;}#sk-container-id-3 div.sk-dashed-wrapped {border: 1px dashed gray;margin: 0 0.4em 0.5em 0.4em;box-sizing: border-box;padding-bottom: 0.4em;background-color: white;}#sk-container-id-3 div.sk-label label {font-family: monospace;font-weight: bold;display: inline-block;line-height: 1.2em;}#sk-container-id-3 div.sk-label-container {text-align: center;}#sk-container-id-3 div.sk-container {/* jupyter's `normalize.less` sets `[hidden] { display: none; }` but bootstrap.min.css set `[hidden] { display: none !important; }` so we also need the `!important` here to be able to override the default hidden behavior on the sphinx rendered scikit-learn.org. See: https://github.com/scikit-learn/scikit-learn/issues/21755 */display: inline-block !important;position: relative;}#sk-container-id-3 div.sk-text-repr-fallback {display: none;}</style><div id=\"sk-container-id-3\" class=\"sk-top-container\"><div class=\"sk-text-repr-fallback\"><pre>ColumnTransformer(transformers=[(&#x27;standardscaler&#x27;, StandardScaler(),\n",
       "                                 &lt;sklearn.compose._column_transformer.make_column_selector object at 0x7fe7314169e0&gt;),\n",
       "                                (&#x27;onehotencoder&#x27;,\n",
       "                                 OneHotEncoder(handle_unknown=&#x27;ignore&#x27;,\n",
       "                                               sparse_output=False),\n",
       "                                 &lt;sklearn.compose._column_transformer.make_column_selector object at 0x7fe7314175b0&gt;)])</pre><b>In a Jupyter environment, please rerun this cell to show the HTML representation or trust the notebook. <br />On GitHub, the HTML representation is unable to render, please try loading this page with nbviewer.org.</b></div><div class=\"sk-container\" hidden><div class=\"sk-item sk-dashed-wrapped\"><div class=\"sk-label-container\"><div class=\"sk-label sk-toggleable\"><input class=\"sk-toggleable__control sk-hidden--visually\" id=\"sk-estimator-id-11\" type=\"checkbox\" ><label for=\"sk-estimator-id-11\" class=\"sk-toggleable__label sk-toggleable__label-arrow\">ColumnTransformer</label><div class=\"sk-toggleable__content\"><pre>ColumnTransformer(transformers=[(&#x27;standardscaler&#x27;, StandardScaler(),\n",
       "                                 &lt;sklearn.compose._column_transformer.make_column_selector object at 0x7fe7314169e0&gt;),\n",
       "                                (&#x27;onehotencoder&#x27;,\n",
       "                                 OneHotEncoder(handle_unknown=&#x27;ignore&#x27;,\n",
       "                                               sparse_output=False),\n",
       "                                 &lt;sklearn.compose._column_transformer.make_column_selector object at 0x7fe7314175b0&gt;)])</pre></div></div></div><div class=\"sk-parallel\"><div class=\"sk-parallel-item\"><div class=\"sk-item\"><div class=\"sk-label-container\"><div class=\"sk-label sk-toggleable\"><input class=\"sk-toggleable__control sk-hidden--visually\" id=\"sk-estimator-id-12\" type=\"checkbox\" ><label for=\"sk-estimator-id-12\" class=\"sk-toggleable__label sk-toggleable__label-arrow\">standardscaler</label><div class=\"sk-toggleable__content\"><pre>&lt;sklearn.compose._column_transformer.make_column_selector object at 0x7fe7314169e0&gt;</pre></div></div></div><div class=\"sk-serial\"><div class=\"sk-item\"><div class=\"sk-estimator sk-toggleable\"><input class=\"sk-toggleable__control sk-hidden--visually\" id=\"sk-estimator-id-13\" type=\"checkbox\" ><label for=\"sk-estimator-id-13\" class=\"sk-toggleable__label sk-toggleable__label-arrow\">StandardScaler</label><div class=\"sk-toggleable__content\"><pre>StandardScaler()</pre></div></div></div></div></div></div><div class=\"sk-parallel-item\"><div class=\"sk-item\"><div class=\"sk-label-container\"><div class=\"sk-label sk-toggleable\"><input class=\"sk-toggleable__control sk-hidden--visually\" id=\"sk-estimator-id-14\" type=\"checkbox\" ><label for=\"sk-estimator-id-14\" class=\"sk-toggleable__label sk-toggleable__label-arrow\">onehotencoder</label><div class=\"sk-toggleable__content\"><pre>&lt;sklearn.compose._column_transformer.make_column_selector object at 0x7fe7314175b0&gt;</pre></div></div></div><div class=\"sk-serial\"><div class=\"sk-item\"><div class=\"sk-estimator sk-toggleable\"><input class=\"sk-toggleable__control sk-hidden--visually\" id=\"sk-estimator-id-15\" type=\"checkbox\" ><label for=\"sk-estimator-id-15\" class=\"sk-toggleable__label sk-toggleable__label-arrow\">OneHotEncoder</label><div class=\"sk-toggleable__content\"><pre>OneHotEncoder(handle_unknown=&#x27;ignore&#x27;, sparse_output=False)</pre></div></div></div></div></div></div></div></div></div></div>"
      ],
      "text/plain": [
       "ColumnTransformer(transformers=[('standardscaler', StandardScaler(),\n",
       "                                 <sklearn.compose._column_transformer.make_column_selector object at 0x7fe7314169e0>),\n",
       "                                ('onehotencoder',\n",
       "                                 OneHotEncoder(handle_unknown='ignore',\n",
       "                                               sparse_output=False),\n",
       "                                 <sklearn.compose._column_transformer.make_column_selector object at 0x7fe7314175b0>)])"
      ]
     },
     "execution_count": 75,
     "metadata": {},
     "output_type": "execute_result"
    }
   ],
   "source": [
    "preproc = make_column_transformer(\n",
    "    (StandardScaler(), make_column_selector(dtype_exclude=[\"object\"])),\n",
    "    (OneHotEncoder(handle_unknown=\"ignore\", sparse_output=False), make_column_selector(dtype_include=[\"object\"]))\n",
    ")\n",
    "\n",
    "preproc"
   ]
  },
  {
   "cell_type": "code",
   "execution_count": 76,
   "id": "c2f17e9d",
   "metadata": {},
   "outputs": [
    {
     "data": {
      "text/plain": [
       "(6750, 99)"
      ]
     },
     "execution_count": 76,
     "metadata": {},
     "output_type": "execute_result"
    }
   ],
   "source": [
    "preproc.fit_transform(X_train).shape"
   ]
  },
  {
   "cell_type": "code",
   "execution_count": 77,
   "id": "4e19ce3d",
   "metadata": {},
   "outputs": [],
   "source": [
    "X_train_preproc = preproc.fit_transform(X_train)\n",
    "X_val_preproc = preproc.transform(X_val)\n",
    "X_test_preproc = preproc.transform(X_test)"
   ]
  },
  {
   "cell_type": "markdown",
   "id": "7e4ad065",
   "metadata": {},
   "source": [
    "## Definição do modelo"
   ]
  },
  {
   "cell_type": "code",
   "execution_count": 79,
   "id": "21f8f9a6",
   "metadata": {},
   "outputs": [],
   "source": [
    "from tensorflow.keras import Sequential, layers\n",
    "from tensorflow.keras.layers.experimental import preprocessing\n",
    "from tensorflow.keras.callbacks import EarlyStopping"
   ]
  },
  {
   "cell_type": "code",
   "execution_count": 80,
   "id": "1c07dd33",
   "metadata": {},
   "outputs": [],
   "source": [
    "def initialize_model():\n",
    "    model = Sequential()\n",
    "    \n",
    "    # 1. Architecture\n",
    "    model.add(layers.Dense(32, activation='relu', input_shape=(X_train_preproc.shape[-1],)))\n",
    "    model.add(layers.Dropout(0.2))\n",
    "    model.add(layers.Dense(15, activation='relu'))\n",
    "    model.add(layers.Dropout(0.3))\n",
    "    model.add(layers.Dense(1, activation='sigmoid'))\n",
    "    \n",
    "    # 2. Compiling\n",
    "    model.compile(loss='binary_crossentropy', \n",
    "                  optimizer='adam', \n",
    "                  metrics=['accuracy'])\n",
    "    return model"
   ]
  },
  {
   "cell_type": "code",
   "execution_count": 81,
   "id": "9553143a",
   "metadata": {},
   "outputs": [
    {
     "name": "stdout",
     "output_type": "stream",
     "text": [
      "Epoch 1/500\n",
      "106/106 [==============================] - 1s 4ms/step - loss: 0.6678 - accuracy: 0.5899 - val_loss: 0.6234 - val_accuracy: 0.6456\n",
      "Epoch 2/500\n",
      "106/106 [==============================] - 0s 2ms/step - loss: 0.6091 - accuracy: 0.6481 - val_loss: 0.5737 - val_accuracy: 0.6620\n",
      "Epoch 3/500\n",
      "106/106 [==============================] - 0s 2ms/step - loss: 0.5680 - accuracy: 0.6742 - val_loss: 0.5423 - val_accuracy: 0.6789\n",
      "Epoch 4/500\n",
      "106/106 [==============================] - 0s 2ms/step - loss: 0.5440 - accuracy: 0.6919 - val_loss: 0.5214 - val_accuracy: 0.7073\n",
      "Epoch 5/500\n",
      "106/106 [==============================] - 0s 2ms/step - loss: 0.5207 - accuracy: 0.7093 - val_loss: 0.5044 - val_accuracy: 0.7178\n",
      "Epoch 6/500\n",
      "106/106 [==============================] - 0s 2ms/step - loss: 0.5053 - accuracy: 0.7185 - val_loss: 0.4917 - val_accuracy: 0.7173\n",
      "Epoch 7/500\n",
      "106/106 [==============================] - 0s 2ms/step - loss: 0.4929 - accuracy: 0.7212 - val_loss: 0.4808 - val_accuracy: 0.7202\n",
      "Epoch 8/500\n",
      "106/106 [==============================] - 0s 2ms/step - loss: 0.4802 - accuracy: 0.7397 - val_loss: 0.4706 - val_accuracy: 0.7304\n",
      "Epoch 9/500\n",
      "106/106 [==============================] - 0s 2ms/step - loss: 0.4780 - accuracy: 0.7382 - val_loss: 0.4659 - val_accuracy: 0.7307\n",
      "Epoch 10/500\n",
      "106/106 [==============================] - 0s 2ms/step - loss: 0.4703 - accuracy: 0.7363 - val_loss: 0.4611 - val_accuracy: 0.7322\n",
      "Epoch 11/500\n",
      "106/106 [==============================] - 0s 2ms/step - loss: 0.4614 - accuracy: 0.7436 - val_loss: 0.4581 - val_accuracy: 0.7351\n",
      "Epoch 12/500\n",
      "106/106 [==============================] - 0s 2ms/step - loss: 0.4600 - accuracy: 0.7431 - val_loss: 0.4559 - val_accuracy: 0.7336\n",
      "Epoch 13/500\n",
      "106/106 [==============================] - 0s 2ms/step - loss: 0.4482 - accuracy: 0.7514 - val_loss: 0.4529 - val_accuracy: 0.7344\n",
      "Epoch 14/500\n",
      "106/106 [==============================] - 0s 2ms/step - loss: 0.4429 - accuracy: 0.7535 - val_loss: 0.4501 - val_accuracy: 0.7373\n",
      "Epoch 15/500\n",
      "106/106 [==============================] - 0s 2ms/step - loss: 0.4428 - accuracy: 0.7553 - val_loss: 0.4493 - val_accuracy: 0.7353\n",
      "Epoch 16/500\n",
      "106/106 [==============================] - 0s 2ms/step - loss: 0.4397 - accuracy: 0.7521 - val_loss: 0.4472 - val_accuracy: 0.7404\n",
      "Epoch 17/500\n",
      "106/106 [==============================] - 0s 2ms/step - loss: 0.4352 - accuracy: 0.7557 - val_loss: 0.4460 - val_accuracy: 0.7380\n",
      "Epoch 18/500\n",
      "106/106 [==============================] - 0s 2ms/step - loss: 0.4343 - accuracy: 0.7581 - val_loss: 0.4451 - val_accuracy: 0.7398\n",
      "Epoch 19/500\n",
      "106/106 [==============================] - 0s 2ms/step - loss: 0.4316 - accuracy: 0.7553 - val_loss: 0.4424 - val_accuracy: 0.7402\n",
      "Epoch 20/500\n",
      "106/106 [==============================] - 0s 2ms/step - loss: 0.4288 - accuracy: 0.7569 - val_loss: 0.4417 - val_accuracy: 0.7362\n",
      "Epoch 21/500\n",
      "106/106 [==============================] - 0s 2ms/step - loss: 0.4263 - accuracy: 0.7576 - val_loss: 0.4413 - val_accuracy: 0.7371\n",
      "Epoch 22/500\n",
      "106/106 [==============================] - 0s 2ms/step - loss: 0.4233 - accuracy: 0.7587 - val_loss: 0.4410 - val_accuracy: 0.7362\n",
      "Epoch 23/500\n",
      "106/106 [==============================] - 0s 2ms/step - loss: 0.4202 - accuracy: 0.7612 - val_loss: 0.4404 - val_accuracy: 0.7407\n",
      "Epoch 24/500\n",
      "106/106 [==============================] - 0s 2ms/step - loss: 0.4188 - accuracy: 0.7619 - val_loss: 0.4411 - val_accuracy: 0.7393\n",
      "Epoch 25/500\n",
      "106/106 [==============================] - 0s 2ms/step - loss: 0.4160 - accuracy: 0.7644 - val_loss: 0.4401 - val_accuracy: 0.7411\n",
      "Epoch 26/500\n",
      "106/106 [==============================] - 0s 2ms/step - loss: 0.4154 - accuracy: 0.7628 - val_loss: 0.4416 - val_accuracy: 0.7409\n",
      "Epoch 27/500\n",
      "106/106 [==============================] - 0s 2ms/step - loss: 0.4172 - accuracy: 0.7610 - val_loss: 0.4412 - val_accuracy: 0.7402\n",
      "Epoch 28/500\n",
      "106/106 [==============================] - 0s 2ms/step - loss: 0.4167 - accuracy: 0.7640 - val_loss: 0.4409 - val_accuracy: 0.7413\n",
      "Epoch 29/500\n",
      "106/106 [==============================] - 0s 2ms/step - loss: 0.4119 - accuracy: 0.7641 - val_loss: 0.4410 - val_accuracy: 0.7402\n",
      "Epoch 30/500\n",
      "106/106 [==============================] - 0s 2ms/step - loss: 0.4113 - accuracy: 0.7670 - val_loss: 0.4421 - val_accuracy: 0.7411\n",
      "Epoch 31/500\n",
      "106/106 [==============================] - 0s 2ms/step - loss: 0.4076 - accuracy: 0.7730 - val_loss: 0.4424 - val_accuracy: 0.7409\n",
      "Epoch 32/500\n",
      "106/106 [==============================] - 0s 2ms/step - loss: 0.4081 - accuracy: 0.7686 - val_loss: 0.4431 - val_accuracy: 0.7460\n",
      "Epoch 33/500\n",
      "106/106 [==============================] - 0s 2ms/step - loss: 0.4097 - accuracy: 0.7671 - val_loss: 0.4453 - val_accuracy: 0.7404\n",
      "Epoch 34/500\n",
      "106/106 [==============================] - 0s 2ms/step - loss: 0.4060 - accuracy: 0.7702 - val_loss: 0.4438 - val_accuracy: 0.7427\n",
      "Epoch 35/500\n",
      "106/106 [==============================] - 0s 2ms/step - loss: 0.4015 - accuracy: 0.7741 - val_loss: 0.4442 - val_accuracy: 0.7456\n",
      "Epoch 36/500\n",
      "106/106 [==============================] - 0s 2ms/step - loss: 0.4051 - accuracy: 0.7674 - val_loss: 0.4460 - val_accuracy: 0.7422\n",
      "Epoch 37/500\n",
      "106/106 [==============================] - 0s 2ms/step - loss: 0.4040 - accuracy: 0.7656 - val_loss: 0.4440 - val_accuracy: 0.7424\n",
      "Epoch 38/500\n",
      "106/106 [==============================] - 0s 2ms/step - loss: 0.4039 - accuracy: 0.7702 - val_loss: 0.4446 - val_accuracy: 0.7453\n",
      "Epoch 39/500\n",
      "106/106 [==============================] - 0s 2ms/step - loss: 0.4019 - accuracy: 0.7679 - val_loss: 0.4455 - val_accuracy: 0.7416\n",
      "Epoch 40/500\n",
      "106/106 [==============================] - 0s 2ms/step - loss: 0.3992 - accuracy: 0.7708 - val_loss: 0.4479 - val_accuracy: 0.7429\n",
      "Epoch 41/500\n",
      "106/106 [==============================] - 0s 2ms/step - loss: 0.4002 - accuracy: 0.7754 - val_loss: 0.4462 - val_accuracy: 0.7413\n",
      "Epoch 42/500\n",
      "106/106 [==============================] - 0s 2ms/step - loss: 0.3992 - accuracy: 0.7710 - val_loss: 0.4453 - val_accuracy: 0.7449\n"
     ]
    }
   ],
   "source": [
    "# 3. Training\n",
    "model = initialize_model()\n",
    "\n",
    "es = EarlyStopping(monitor = 'val_accuracy',\n",
    "                   patience = 10,\n",
    "                   verbose = 0,\n",
    "                   restore_best_weights = True)\n",
    "\n",
    "history = model.fit(X_train_preproc,\n",
    "                   y_train,\n",
    "                   validation_data = (X_val_preproc, y_val),\n",
    "                   batch_size = 64,\n",
    "                   epochs = 500,\n",
    "                   callbacks = [es], \n",
    "                   verbose = 1)"
   ]
  },
  {
   "cell_type": "markdown",
   "id": "3819644b",
   "metadata": {},
   "source": [
    "## Resultado final / evaluate"
   ]
  },
  {
   "cell_type": "code",
   "execution_count": 82,
   "id": "f5cb1477",
   "metadata": {},
   "outputs": [
    {
     "name": "stdout",
     "output_type": "stream",
     "text": [
      "235/235 [==============================] - 0s 953us/step - loss: 0.4505 - accuracy: 0.7330\n",
      "accuracy = 0.733\n"
     ]
    }
   ],
   "source": [
    "res = model.evaluate(X_test_preproc, y_test)\n",
    "print(f\"accuracy = {res[1]:.3f}\")"
   ]
  },
  {
   "cell_type": "code",
   "execution_count": 83,
   "id": "ceafa169",
   "metadata": {},
   "outputs": [
    {
     "name": "stdout",
     "output_type": "stream",
     "text": [
      "Model: \"sequential\"\n",
      "_________________________________________________________________\n",
      " Layer (type)                Output Shape              Param #   \n",
      "=================================================================\n",
      " dense (Dense)               (None, 32)                3200      \n",
      "                                                                 \n",
      " dropout (Dropout)           (None, 32)                0         \n",
      "                                                                 \n",
      " dense_1 (Dense)             (None, 15)                495       \n",
      "                                                                 \n",
      " dropout_1 (Dropout)         (None, 15)                0         \n",
      "                                                                 \n",
      " dense_2 (Dense)             (None, 1)                 16        \n",
      "                                                                 \n",
      "=================================================================\n",
      "Total params: 3,711\n",
      "Trainable params: 3,711\n",
      "Non-trainable params: 0\n",
      "_________________________________________________________________\n"
     ]
    }
   ],
   "source": [
    "model.summary()"
   ]
  },
  {
   "cell_type": "markdown",
   "id": "7fd3354f",
   "metadata": {},
   "source": [
    "## Verificação loss/accuracy - overfit / underfit"
   ]
  },
  {
   "cell_type": "code",
   "execution_count": 84,
   "id": "40280c4c",
   "metadata": {},
   "outputs": [],
   "source": [
    "def plot_loss_accuracy(history):\n",
    "    plt.plot(history.history['loss'])\n",
    "    plt.plot(history.history['val_loss'])\n",
    "    plt.title('Model loss')\n",
    "    plt.ylabel('Loss')\n",
    "    plt.xlabel('Epoch')\n",
    "    plt.legend(['Train', 'Test'], loc='best')\n",
    "    plt.show()\n",
    "    \n",
    "    plt.plot(history.history['accuracy'])\n",
    "    plt.plot(history.history['val_accuracy'])\n",
    "    plt.title('Model Accuracy')\n",
    "    plt.ylabel('Accuracy')\n",
    "    plt.xlabel('Epoch')\n",
    "    plt.legend(['Train', 'Test'], loc='best')\n",
    "    plt.show()"
   ]
  },
  {
   "cell_type": "code",
   "execution_count": 85,
   "id": "daa696aa",
   "metadata": {},
   "outputs": [
    {
     "data": {
      "image/png": "[encoded data removed]",
      "text/plain": [
       "<Figure size 640x480 with 1 Axes>"
      ]
     },
     "metadata": {},
     "output_type": "display_data"
    },
    {
     "data": {
      "image/png": "[encoded data removed]",
      "text/plain": [
       "<Figure size 640x480 with 1 Axes>"
      ]
     },
     "metadata": {},
     "output_type": "display_data"
    }
   ],
   "source": [
    "plot_loss_accuracy(history)"
   ]
  },
  {
   "cell_type": "code",
   "execution_count": 46,
   "id": "cd8f63e9",
   "metadata": {
    "scrolled": true
   },
   "outputs": [],
   "source": [
    "features = [\n",
    "            # 'Surface',\n",
    "            # 'Round',\n",
    "            # 'Grand Slam',\n",
    "            'i_serve',\n",
    "            # 'is_second_service',\n",
    "            # 'dir_srv',\n",
    "            # 'isUnforced',\n",
    "            # 'isForced',\n",
    "            'rallyCount',\n",
    "            # \"serve_return\",\n",
    "            # \"how_ended\"\n",
    "            ]\n",
    "X = df[features]\n",
    "y = df['i_win']"
   ]
  },
  {
   "cell_type": "code",
   "execution_count": 86,
   "id": "7dbaa95b-d05f-450d-99b7-5778b20295cb",
   "metadata": {},
   "outputs": [],
   "source": [
    "from sklearn.model_selection import train_test_split\n",
    "\n",
    "# Train-Test Split - ## parametro stratify ###\n",
    "X_train, X_test, y_train,  y_test = train_test_split(X,y, test_size=0.3)"
   ]
  },
  {
   "cell_type": "code",
   "execution_count": 87,
   "id": "f4534dc3-c92b-4f9e-a33b-6c4b61b65601",
   "metadata": {},
   "outputs": [],
   "source": [
    "X_train_preproc = preproc.fit_transform(X_train)\n",
    "X_test_preproc = preproc.transform(X_test)"
   ]
  },
  {
   "cell_type": "code",
   "execution_count": 88,
   "id": "173688a3-8637-4037-867e-d3bc695a71da",
   "metadata": {},
   "outputs": [
    {
     "data": {
      "text/plain": [
       "0.6413714285714286"
      ]
     },
     "execution_count": 88,
     "metadata": {},
     "output_type": "execute_result"
    }
   ],
   "source": [
    "from sklearn.ensemble import AdaBoostClassifier\n",
    "model = AdaBoostClassifier(n_estimators=1000)\n",
    "cv_results = cross_validate(model, X_train_preproc, y_train, cv=5)\n",
    "accuracy = cv_results['test_score'].mean()\n",
    "accuracy\n"
   ]
  },
  {
   "cell_type": "code",
   "execution_count": 89,
   "id": "e505faed-488b-4515-ac6d-6dadb26572ea",
   "metadata": {},
   "outputs": [
    {
     "data": {
      "text/plain": [
       "0.7231216795460034"
      ]
     },
     "execution_count": 89,
     "metadata": {},
     "output_type": "execute_result"
    }
   ],
   "source": [
    "from sklearn.ensemble import RandomForestClassifier\n",
    "model = RandomForestClassifier()\n",
    "cv_results = cross_validate(model, X_train_preproc, y_train, cv=10)\n",
    "accuracy = cv_results['test_score'].mean()\n",
    "accuracy"
   ]
  },
  {
   "cell_type": "code",
   "execution_count": 95,
   "id": "5249d333-468f-4e1e-aafc-4d8971d976a0",
   "metadata": {},
   "outputs": [],
   "source": [
    "features = ['Surface',\n",
    "            'Round',\n",
    "            'Grand Slam',\n",
    "            'i_serve',\n",
    "            'is_second_service',\n",
    "            'dir_srv',\n",
    "            'rally_tratada',\n",
    "            # 'rallyCount',\n",
    "            'isUnforced',\n",
    "            'isForced',\n",
    "            \"serve_return\",\n",
    "            \"how_ended\"\n",
    "            ]\n",
    "X = df[features]\n",
    "y = df['i_win']\n",
    "feat_categorical = ['Surface','Round','dir_srv','serve_return','how_ended']"
   ]
  },
  {
   "cell_type": "code",
   "execution_count": 96,
   "id": "25399eda-9f4c-47c7-8493-eccefee94aac",
   "metadata": {},
   "outputs": [],
   "source": [
    "X_preproc = preproc.fit_transform(X)"
   ]
  },
  {
   "cell_type": "code",
   "execution_count": 99,
   "id": "0c3a9385-5504-4cff-a0c0-6457670847d8",
   "metadata": {},
   "outputs": [
    {
     "data": {
      "text/plain": [
       "0.7381979530916845"
      ]
     },
     "execution_count": 99,
     "metadata": {},
     "output_type": "execute_result"
    }
   ],
   "source": [
    "from xgboost import XGBClassifier\n",
    "model = XGBClassifier(learning_rate=0.02, n_estimators=600, objective='binary:logistic', nthread=1)\n",
    "# model = XGBClassifier(max_depth=10, n_estimators=300, learning_rate=0.1)\n",
    "cv_results = cross_validate(model, X_preproc, y, cv=10)\n",
    "accuracy = cv_results['test_score'].mean()\n",
    "accuracy"
   ]
  },
  {
   "cell_type": "code",
   "execution_count": null,
   "id": "b1944f8e-efff-401e-bc56-0ac0751cf8fa",
   "metadata": {},
   "outputs": [],
   "source": []
  }
 ],
 "metadata": {
  "kernelspec": {
   "display_name": "Python 3 (ipykernel)",
   "language": "python",
   "name": "python3"
  },
  "language_info": {
   "codemirror_mode": {
    "name": "ipython",
    "version": 3
   },
   "file_extension": ".py",
   "mimetype": "text/x-python",
   "name": "python",
   "nbconvert_exporter": "python",
   "pygments_lexer": "ipython3",
   "version": "3.10.6"
  },
  "toc": {
   "base_numbering": 1,
   "nav_menu": {},
   "number_sections": true,
   "sideBar": true,
   "skip_h1_title": false,
   "title_cell": "Table of Contents",
   "title_sidebar": "Contents",
   "toc_cell": false,
   "toc_position": {},
   "toc_section_display": true,
   "toc_window_display": false
  }
 },
 "nbformat": 4,
 "nbformat_minor": 5
}
