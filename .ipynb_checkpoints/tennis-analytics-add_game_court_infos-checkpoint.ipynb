{
 "cells": [
  {
   "cell_type": "code",
   "execution_count": 2,
   "id": "1a6ba069",
   "metadata": {},
   "outputs": [],
   "source": [
    "import pandas as pd"
   ]
  },
  {
   "cell_type": "code",
   "execution_count": 3,
   "id": "44c25c6b",
   "metadata": {},
   "outputs": [],
   "source": [
    "def add_data_info():\n",
    "    df1 = pd.read_csv('https://raw.githubusercontent.com/JeffSackmann/tennis_MatchChartingProject/master/charting-m-points-from-2017.csv', encoding= 'unicode_escape', low_memory=False)\n",
    "    df2 = pd.read_csv('raw_data/charting-m-matches.csv', encoding= 'unicode_escape', low_memory=False)\n",
    "    \n",
    "    #get separated values from m-matches list of games - based on matchid\n",
    "    df = pd.merge(df1,df2[['match_id','Date','Tournament','Round','Surface','Player 1','Player 2']], on=['match_id'], how='left')\n",
    "    \n",
    "    #add the condition of \"Grand Slam\" - 5 or 3 sets\n",
    "    conditions = df['Tournament'].isin([\"Wimbledon\", \"Australian Open\", \"US Open\", \"Roland Garros\"])\n",
    "    values = [1,0]\n",
    "\n",
    "    # Create a new column  based on the conditions and values\n",
    "    df['Grand Slam'] = pd.Series(pd.NA)\n",
    "    df.loc[conditions, 'Grand Slam'] = values[0]\n",
    "    df.loc[~conditions, 'Grand Slam'] = values[1]\n",
    "    \n",
    "    # save the original dataset with enriched data for future features\n",
    "    df.to_csv('raw_data/charting-m-points-from-2017-enriched.csv', index=False)"
   ]
  },
  {
   "cell_type": "code",
   "execution_count": 4,
   "id": "d550ff49",
   "metadata": {},
   "outputs": [],
   "source": [
    "def filter_player(name):\n",
    "    \n",
    "    # Read the dataset into a pandas DataFrame - from original\n",
    "    #df = pd.read_csv('https://raw.githubusercontent.com/JeffSackmann/tennis_MatchChartingProject/master/charting-m-points-from-2017.csv' , encoding= 'unicode_escape', low_memory=False)\n",
    "    \n",
    "    # Read the dataset into a pandas DataFrame - from enriched file\n",
    "    df = pd.read_csv('raw_data/charting-m-points-from-2017-enriched.csv' , encoding= 'unicode_escape', low_memory=False)\n",
    "    \n",
    "    # Filter rows where the player is \"Novak Djokovic\" (column - match_id)  \n",
    "    player_result = name + \" Result\"\n",
    "    df[player_result] = pd.Series(pd.NA)\n",
    "    df_player1 = df[df['Player 1'].str.contains(name)]\n",
    "    df_player2 = df[df['Player 2'].str.contains(name)]\n",
    "    df_player1.loc[df_player1['PtWinner'] == 1, player_result] = 1\n",
    "    df_player1.loc[df_player1['PtWinner'] == 2, player_result] = 0\n",
    "    df_player2.loc[df_player2['PtWinner'] == 2, player_result] = 1\n",
    "    df_player2.loc[df_player2['PtWinner'] == 1, player_result] = 0\n",
    "    \n",
    "    df_final = pd.concat([df_player1,df_player2])\n",
    "    \n",
    "    csv_file = \"raw_data/\" + name + \"_points.csv\"\n",
    "    df_final.to_csv(csv_file, index=False)"
   ]
  },
  {
   "cell_type": "code",
   "execution_count": 5,
   "id": "06f807d4",
   "metadata": {},
   "outputs": [],
   "source": [
    "add_data_info()"
   ]
  },
  {
   "cell_type": "code",
   "execution_count": 6,
   "id": "2ad09f2d",
   "metadata": {},
   "outputs": [],
   "source": [
    "df = pd.read_csv('raw_data/charting-m-points-from-2017-enriched.csv' , encoding= 'unicode_escape', low_memory=False)"
   ]
  },
  {
   "cell_type": "code",
   "execution_count": 7,
   "id": "6f19a7cb",
   "metadata": {},
   "outputs": [],
   "source": [
    "filter_player(\"Marin Cilic\")"
   ]
  },
  {
   "cell_type": "code",
   "execution_count": null,
   "id": "42c924dc",
   "metadata": {},
   "outputs": [],
   "source": []
  }
 ],
 "metadata": {
  "kernelspec": {
   "display_name": "Python 3 (ipykernel)",
   "language": "python",
   "name": "python3"
  },
  "language_info": {
   "codemirror_mode": {
    "name": "ipython",
    "version": 3
   },
   "file_extension": ".py",
   "mimetype": "text/x-python",
   "name": "python",
   "nbconvert_exporter": "python",
   "pygments_lexer": "ipython3",
   "version": "3.10.6"
  },
  "toc": {
   "base_numbering": 1,
   "nav_menu": {},
   "number_sections": true,
   "sideBar": true,
   "skip_h1_title": false,
   "title_cell": "Table of Contents",
   "title_sidebar": "Contents",
   "toc_cell": false,
   "toc_position": {},
   "toc_section_display": true,
   "toc_window_display": false
  }
 },
 "nbformat": 4,
 "nbformat_minor": 5
}
